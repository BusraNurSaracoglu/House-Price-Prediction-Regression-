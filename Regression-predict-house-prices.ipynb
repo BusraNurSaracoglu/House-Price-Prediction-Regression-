{
 "cells": [
  {
   "cell_type": "markdown",
   "metadata": {
    "id": "JqiKQdJ0sZhc"
   },
   "source": [
    " ### Kütüphaneleri import ediyoruz."
   ]
  },
  {
   "cell_type": "code",
   "execution_count": 148,
   "metadata": {
    "id": "jRw2p90HsZhk"
   },
   "outputs": [],
   "source": [
    "#ilk olarak ilgili kütüphaneleri import ediyoruz.\n",
    "\n",
    "import numpy as np  # lineer cebir için \n",
    "import pandas as pd  # veri analizi için\n",
    "import seaborn as sns\n",
    "import math\n",
    "import matplotlib.pyplot as plt\n",
    "from datetime import datetime # saat ve tarih ile ilgili kütüphane\n",
    "\n",
    "from mlxtend.regressor import StackingCVRegressor\n",
    "from sklearn.ensemble import RandomForestRegressor\n",
    "from sklearn.model_selection import train_test_split\n",
    "from sklearn.ensemble import IsolationForest\n",
    "\n",
    "#normalizasyon ve standardizasyon\n",
    "from sklearn.preprocessing import MinMaxScaler\n",
    "from sklearn.preprocessing import StandardScaler\n",
    "from sklearn import preprocessing\n",
    "\n",
    "from xgboost import XGBRegressor\n",
    "from scipy.stats import norm, skew\n",
    "import os\n",
    "from sklearn.metrics import mean_absolute_error\n",
    "from sklearn.metrics import mean_squared_error\n",
    "from sklearn.metrics import r2_score\n",
    "\n",
    "\n",
    "import warnings\n",
    "warnings.filterwarnings(action=\"ignore\")\n",
    "pd.options.display.max_seq_items = 8000\n",
    "pd.options.display.max_rows = 800\n",
    "\n",
    "#Sütunlar arasındaki maksimum değeri göstermek için\n",
    "pd.options.display.max_columns = 80\n",
    "pd.options.display.max_rows = 200\n",
    "from sklearn.neural_network import MLPRegressor\n",
    "\n",
    "%matplotlib inline"
   ]
  },
  {
   "cell_type": "markdown",
   "metadata": {
    "id": "zqmXHe9RsZhm"
   },
   "source": [
    "### Sadece tek bir veri seti yükledik. İçinde test ve train verilerinin bulunan ve daha sonra ayrıştıracağımız bir veri setidir"
   ]
  },
  {
   "cell_type": "code",
   "execution_count": 138,
   "metadata": {
    "colab": {
     "base_uri": "https://localhost:8080/"
    },
    "id": "VSuQgRqFySZx",
    "outputId": "5b0a2570-c19f-4784-b944-8b647a4716bb"
   },
   "outputs": [
    {
     "name": "stdout",
     "output_type": "stream",
     "text": [
      "Drive already mounted at /content/drive; to attempt to forcibly remount, call drive.mount(\"/content/drive\", force_remount=True).\n"
     ]
    }
   ],
   "source": [
    "from google.colab import drive\n",
    "drive.mount('/content/drive')"
   ]
  },
  {
   "cell_type": "code",
   "execution_count": 139,
   "metadata": {
    "colab": {
     "base_uri": "https://localhost:8080/"
    },
    "id": "dnp5HPC4sZhn",
    "outputId": "58d369e2-c3c0-4010-9743-0b46be231feb"
   },
   "outputs": [
    {
     "name": "stdout",
     "output_type": "stream",
     "text": [
      "'/content/drive/My Drive/Colab Notebooks/kc_house_data.csv'\n"
     ]
    }
   ],
   "source": [
    "!ls \"/content/drive/My Drive/Colab Notebooks/kc_house_data.csv\""
   ]
  },
  {
   "cell_type": "code",
   "execution_count": 144,
   "metadata": {
    "id": "uxekZLUiTlaB"
   },
   "outputs": [],
   "source": [
    "data=pd.read_csv(\"/content/drive/My Drive/Colab Notebooks/kc_house_data.csv\")\n"
   ]
  },
  {
   "cell_type": "code",
   "execution_count": 145,
   "metadata": {
    "colab": {
     "base_uri": "https://localhost:8080/",
     "height": 444
    },
    "id": "2lPNLvC9sZho",
    "outputId": "cd163f1e-385e-4e0a-8cb5-c28bf56977c8"
   },
   "outputs": [
    {
     "data": {
      "text/html": [
       "<div>\n",
       "<style scoped>\n",
       "    .dataframe tbody tr th:only-of-type {\n",
       "        vertical-align: middle;\n",
       "    }\n",
       "\n",
       "    .dataframe tbody tr th {\n",
       "        vertical-align: top;\n",
       "    }\n",
       "\n",
       "    .dataframe thead th {\n",
       "        text-align: right;\n",
       "    }\n",
       "</style>\n",
       "<table border=\"1\" class=\"dataframe\">\n",
       "  <thead>\n",
       "    <tr style=\"text-align: right;\">\n",
       "      <th></th>\n",
       "      <th>id</th>\n",
       "      <th>date</th>\n",
       "      <th>price</th>\n",
       "      <th>bedrooms</th>\n",
       "      <th>bathrooms</th>\n",
       "      <th>sqft_living</th>\n",
       "      <th>sqft_lot</th>\n",
       "      <th>floors</th>\n",
       "      <th>waterfront</th>\n",
       "      <th>view</th>\n",
       "      <th>condition</th>\n",
       "      <th>grade</th>\n",
       "      <th>sqft_above</th>\n",
       "      <th>sqft_basement</th>\n",
       "      <th>yr_built</th>\n",
       "      <th>yr_renovated</th>\n",
       "      <th>zipcode</th>\n",
       "      <th>lat</th>\n",
       "      <th>long</th>\n",
       "      <th>sqft_living15</th>\n",
       "      <th>sqft_lot15</th>\n",
       "    </tr>\n",
       "  </thead>\n",
       "  <tbody>\n",
       "    <tr>\n",
       "      <th>0</th>\n",
       "      <td>7129300520</td>\n",
       "      <td>20141013T000000</td>\n",
       "      <td>221900.0</td>\n",
       "      <td>3</td>\n",
       "      <td>1.00</td>\n",
       "      <td>1180</td>\n",
       "      <td>5650</td>\n",
       "      <td>1.0</td>\n",
       "      <td>0</td>\n",
       "      <td>0</td>\n",
       "      <td>3</td>\n",
       "      <td>7</td>\n",
       "      <td>1180</td>\n",
       "      <td>0</td>\n",
       "      <td>1955</td>\n",
       "      <td>0</td>\n",
       "      <td>98178</td>\n",
       "      <td>47.5112</td>\n",
       "      <td>-122.257</td>\n",
       "      <td>1340</td>\n",
       "      <td>5650</td>\n",
       "    </tr>\n",
       "    <tr>\n",
       "      <th>1</th>\n",
       "      <td>6414100192</td>\n",
       "      <td>20141209T000000</td>\n",
       "      <td>538000.0</td>\n",
       "      <td>3</td>\n",
       "      <td>2.25</td>\n",
       "      <td>2570</td>\n",
       "      <td>7242</td>\n",
       "      <td>2.0</td>\n",
       "      <td>0</td>\n",
       "      <td>0</td>\n",
       "      <td>3</td>\n",
       "      <td>7</td>\n",
       "      <td>2170</td>\n",
       "      <td>400</td>\n",
       "      <td>1951</td>\n",
       "      <td>1991</td>\n",
       "      <td>98125</td>\n",
       "      <td>47.7210</td>\n",
       "      <td>-122.319</td>\n",
       "      <td>1690</td>\n",
       "      <td>7639</td>\n",
       "    </tr>\n",
       "    <tr>\n",
       "      <th>2</th>\n",
       "      <td>5631500400</td>\n",
       "      <td>20150225T000000</td>\n",
       "      <td>180000.0</td>\n",
       "      <td>2</td>\n",
       "      <td>1.00</td>\n",
       "      <td>770</td>\n",
       "      <td>10000</td>\n",
       "      <td>1.0</td>\n",
       "      <td>0</td>\n",
       "      <td>0</td>\n",
       "      <td>3</td>\n",
       "      <td>6</td>\n",
       "      <td>770</td>\n",
       "      <td>0</td>\n",
       "      <td>1933</td>\n",
       "      <td>0</td>\n",
       "      <td>98028</td>\n",
       "      <td>47.7379</td>\n",
       "      <td>-122.233</td>\n",
       "      <td>2720</td>\n",
       "      <td>8062</td>\n",
       "    </tr>\n",
       "    <tr>\n",
       "      <th>3</th>\n",
       "      <td>2487200875</td>\n",
       "      <td>20141209T000000</td>\n",
       "      <td>604000.0</td>\n",
       "      <td>4</td>\n",
       "      <td>3.00</td>\n",
       "      <td>1960</td>\n",
       "      <td>5000</td>\n",
       "      <td>1.0</td>\n",
       "      <td>0</td>\n",
       "      <td>0</td>\n",
       "      <td>5</td>\n",
       "      <td>7</td>\n",
       "      <td>1050</td>\n",
       "      <td>910</td>\n",
       "      <td>1965</td>\n",
       "      <td>0</td>\n",
       "      <td>98136</td>\n",
       "      <td>47.5208</td>\n",
       "      <td>-122.393</td>\n",
       "      <td>1360</td>\n",
       "      <td>5000</td>\n",
       "    </tr>\n",
       "    <tr>\n",
       "      <th>4</th>\n",
       "      <td>1954400510</td>\n",
       "      <td>20150218T000000</td>\n",
       "      <td>510000.0</td>\n",
       "      <td>3</td>\n",
       "      <td>2.00</td>\n",
       "      <td>1680</td>\n",
       "      <td>8080</td>\n",
       "      <td>1.0</td>\n",
       "      <td>0</td>\n",
       "      <td>0</td>\n",
       "      <td>3</td>\n",
       "      <td>8</td>\n",
       "      <td>1680</td>\n",
       "      <td>0</td>\n",
       "      <td>1987</td>\n",
       "      <td>0</td>\n",
       "      <td>98074</td>\n",
       "      <td>47.6168</td>\n",
       "      <td>-122.045</td>\n",
       "      <td>1800</td>\n",
       "      <td>7503</td>\n",
       "    </tr>\n",
       "    <tr>\n",
       "      <th>...</th>\n",
       "      <td>...</td>\n",
       "      <td>...</td>\n",
       "      <td>...</td>\n",
       "      <td>...</td>\n",
       "      <td>...</td>\n",
       "      <td>...</td>\n",
       "      <td>...</td>\n",
       "      <td>...</td>\n",
       "      <td>...</td>\n",
       "      <td>...</td>\n",
       "      <td>...</td>\n",
       "      <td>...</td>\n",
       "      <td>...</td>\n",
       "      <td>...</td>\n",
       "      <td>...</td>\n",
       "      <td>...</td>\n",
       "      <td>...</td>\n",
       "      <td>...</td>\n",
       "      <td>...</td>\n",
       "      <td>...</td>\n",
       "      <td>...</td>\n",
       "    </tr>\n",
       "    <tr>\n",
       "      <th>21608</th>\n",
       "      <td>263000018</td>\n",
       "      <td>20140521T000000</td>\n",
       "      <td>360000.0</td>\n",
       "      <td>3</td>\n",
       "      <td>2.50</td>\n",
       "      <td>1530</td>\n",
       "      <td>1131</td>\n",
       "      <td>3.0</td>\n",
       "      <td>0</td>\n",
       "      <td>0</td>\n",
       "      <td>3</td>\n",
       "      <td>8</td>\n",
       "      <td>1530</td>\n",
       "      <td>0</td>\n",
       "      <td>2009</td>\n",
       "      <td>0</td>\n",
       "      <td>98103</td>\n",
       "      <td>47.6993</td>\n",
       "      <td>-122.346</td>\n",
       "      <td>1530</td>\n",
       "      <td>1509</td>\n",
       "    </tr>\n",
       "    <tr>\n",
       "      <th>21609</th>\n",
       "      <td>6600060120</td>\n",
       "      <td>20150223T000000</td>\n",
       "      <td>400000.0</td>\n",
       "      <td>4</td>\n",
       "      <td>2.50</td>\n",
       "      <td>2310</td>\n",
       "      <td>5813</td>\n",
       "      <td>2.0</td>\n",
       "      <td>0</td>\n",
       "      <td>0</td>\n",
       "      <td>3</td>\n",
       "      <td>8</td>\n",
       "      <td>2310</td>\n",
       "      <td>0</td>\n",
       "      <td>2014</td>\n",
       "      <td>0</td>\n",
       "      <td>98146</td>\n",
       "      <td>47.5107</td>\n",
       "      <td>-122.362</td>\n",
       "      <td>1830</td>\n",
       "      <td>7200</td>\n",
       "    </tr>\n",
       "    <tr>\n",
       "      <th>21610</th>\n",
       "      <td>1523300141</td>\n",
       "      <td>20140623T000000</td>\n",
       "      <td>402101.0</td>\n",
       "      <td>2</td>\n",
       "      <td>0.75</td>\n",
       "      <td>1020</td>\n",
       "      <td>1350</td>\n",
       "      <td>2.0</td>\n",
       "      <td>0</td>\n",
       "      <td>0</td>\n",
       "      <td>3</td>\n",
       "      <td>7</td>\n",
       "      <td>1020</td>\n",
       "      <td>0</td>\n",
       "      <td>2009</td>\n",
       "      <td>0</td>\n",
       "      <td>98144</td>\n",
       "      <td>47.5944</td>\n",
       "      <td>-122.299</td>\n",
       "      <td>1020</td>\n",
       "      <td>2007</td>\n",
       "    </tr>\n",
       "    <tr>\n",
       "      <th>21611</th>\n",
       "      <td>291310100</td>\n",
       "      <td>20150116T000000</td>\n",
       "      <td>400000.0</td>\n",
       "      <td>3</td>\n",
       "      <td>2.50</td>\n",
       "      <td>1600</td>\n",
       "      <td>2388</td>\n",
       "      <td>2.0</td>\n",
       "      <td>0</td>\n",
       "      <td>0</td>\n",
       "      <td>3</td>\n",
       "      <td>8</td>\n",
       "      <td>1600</td>\n",
       "      <td>0</td>\n",
       "      <td>2004</td>\n",
       "      <td>0</td>\n",
       "      <td>98027</td>\n",
       "      <td>47.5345</td>\n",
       "      <td>-122.069</td>\n",
       "      <td>1410</td>\n",
       "      <td>1287</td>\n",
       "    </tr>\n",
       "    <tr>\n",
       "      <th>21612</th>\n",
       "      <td>1523300157</td>\n",
       "      <td>20141015T000000</td>\n",
       "      <td>325000.0</td>\n",
       "      <td>2</td>\n",
       "      <td>0.75</td>\n",
       "      <td>1020</td>\n",
       "      <td>1076</td>\n",
       "      <td>2.0</td>\n",
       "      <td>0</td>\n",
       "      <td>0</td>\n",
       "      <td>3</td>\n",
       "      <td>7</td>\n",
       "      <td>1020</td>\n",
       "      <td>0</td>\n",
       "      <td>2008</td>\n",
       "      <td>0</td>\n",
       "      <td>98144</td>\n",
       "      <td>47.5941</td>\n",
       "      <td>-122.299</td>\n",
       "      <td>1020</td>\n",
       "      <td>1357</td>\n",
       "    </tr>\n",
       "  </tbody>\n",
       "</table>\n",
       "<p>21613 rows × 21 columns</p>\n",
       "</div>"
      ],
      "text/plain": [
       "               id             date     price  bedrooms  bathrooms  \\\n",
       "0      7129300520  20141013T000000  221900.0         3       1.00   \n",
       "1      6414100192  20141209T000000  538000.0         3       2.25   \n",
       "2      5631500400  20150225T000000  180000.0         2       1.00   \n",
       "3      2487200875  20141209T000000  604000.0         4       3.00   \n",
       "4      1954400510  20150218T000000  510000.0         3       2.00   \n",
       "...           ...              ...       ...       ...        ...   \n",
       "21608   263000018  20140521T000000  360000.0         3       2.50   \n",
       "21609  6600060120  20150223T000000  400000.0         4       2.50   \n",
       "21610  1523300141  20140623T000000  402101.0         2       0.75   \n",
       "21611   291310100  20150116T000000  400000.0         3       2.50   \n",
       "21612  1523300157  20141015T000000  325000.0         2       0.75   \n",
       "\n",
       "       sqft_living  sqft_lot  floors  waterfront  view  condition  grade  \\\n",
       "0             1180      5650     1.0           0     0          3      7   \n",
       "1             2570      7242     2.0           0     0          3      7   \n",
       "2              770     10000     1.0           0     0          3      6   \n",
       "3             1960      5000     1.0           0     0          5      7   \n",
       "4             1680      8080     1.0           0     0          3      8   \n",
       "...            ...       ...     ...         ...   ...        ...    ...   \n",
       "21608         1530      1131     3.0           0     0          3      8   \n",
       "21609         2310      5813     2.0           0     0          3      8   \n",
       "21610         1020      1350     2.0           0     0          3      7   \n",
       "21611         1600      2388     2.0           0     0          3      8   \n",
       "21612         1020      1076     2.0           0     0          3      7   \n",
       "\n",
       "       sqft_above  sqft_basement  yr_built  yr_renovated  zipcode      lat  \\\n",
       "0            1180              0      1955             0    98178  47.5112   \n",
       "1            2170            400      1951          1991    98125  47.7210   \n",
       "2             770              0      1933             0    98028  47.7379   \n",
       "3            1050            910      1965             0    98136  47.5208   \n",
       "4            1680              0      1987             0    98074  47.6168   \n",
       "...           ...            ...       ...           ...      ...      ...   \n",
       "21608        1530              0      2009             0    98103  47.6993   \n",
       "21609        2310              0      2014             0    98146  47.5107   \n",
       "21610        1020              0      2009             0    98144  47.5944   \n",
       "21611        1600              0      2004             0    98027  47.5345   \n",
       "21612        1020              0      2008             0    98144  47.5941   \n",
       "\n",
       "          long  sqft_living15  sqft_lot15  \n",
       "0     -122.257           1340        5650  \n",
       "1     -122.319           1690        7639  \n",
       "2     -122.233           2720        8062  \n",
       "3     -122.393           1360        5000  \n",
       "4     -122.045           1800        7503  \n",
       "...        ...            ...         ...  \n",
       "21608 -122.346           1530        1509  \n",
       "21609 -122.362           1830        7200  \n",
       "21610 -122.299           1020        2007  \n",
       "21611 -122.069           1410        1287  \n",
       "21612 -122.299           1020        1357  \n",
       "\n",
       "[21613 rows x 21 columns]"
      ]
     },
     "execution_count": 145,
     "metadata": {},
     "output_type": "execute_result"
    }
   ],
   "source": [
    "data"
   ]
  },
  {
   "cell_type": "code",
   "execution_count": 153,
   "metadata": {
    "colab": {
     "base_uri": "https://localhost:8080/"
    },
    "id": "Rt1iQsOg5Zr6",
    "outputId": "82310cb8-67ff-4771-a43d-ca6bac8f5e44"
   },
   "outputs": [
    {
     "data": {
      "text/plain": [
       "0       -122.257\n",
       "1       -122.319\n",
       "2       -122.233\n",
       "3       -122.393\n",
       "4       -122.045\n",
       "          ...   \n",
       "21608   -122.346\n",
       "21609   -122.362\n",
       "21610   -122.299\n",
       "21611   -122.069\n",
       "21612   -122.299\n",
       "Name: long, Length: 21613, dtype: float64"
      ]
     },
     "execution_count": 153,
     "metadata": {},
     "output_type": "execute_result"
    }
   ],
   "source": [
    "data[\"long\"]\n"
   ]
  },
  {
   "cell_type": "code",
   "execution_count": null,
   "metadata": {
    "id": "QB7fmp3d6elo"
   },
   "outputs": [],
   "source": []
  },
  {
   "cell_type": "code",
   "execution_count": 142,
   "metadata": {
    "id": "ncmHZBw4kQUg"
   },
   "outputs": [],
   "source": [
    "data['long'] = data['long'].abs()"
   ]
  },
  {
   "cell_type": "code",
   "execution_count": 143,
   "metadata": {
    "colab": {
     "base_uri": "https://localhost:8080/",
     "height": 444
    },
    "id": "J0H4TX-Fkchc",
    "outputId": "e42a7671-250b-4d8e-a770-73760c1107d0"
   },
   "outputs": [
    {
     "data": {
      "text/html": [
       "<div>\n",
       "<style scoped>\n",
       "    .dataframe tbody tr th:only-of-type {\n",
       "        vertical-align: middle;\n",
       "    }\n",
       "\n",
       "    .dataframe tbody tr th {\n",
       "        vertical-align: top;\n",
       "    }\n",
       "\n",
       "    .dataframe thead th {\n",
       "        text-align: right;\n",
       "    }\n",
       "</style>\n",
       "<table border=\"1\" class=\"dataframe\">\n",
       "  <thead>\n",
       "    <tr style=\"text-align: right;\">\n",
       "      <th></th>\n",
       "      <th>id</th>\n",
       "      <th>date</th>\n",
       "      <th>price</th>\n",
       "      <th>bedrooms</th>\n",
       "      <th>bathrooms</th>\n",
       "      <th>sqft_living</th>\n",
       "      <th>sqft_lot</th>\n",
       "      <th>floors</th>\n",
       "      <th>waterfront</th>\n",
       "      <th>view</th>\n",
       "      <th>condition</th>\n",
       "      <th>grade</th>\n",
       "      <th>sqft_above</th>\n",
       "      <th>sqft_basement</th>\n",
       "      <th>yr_built</th>\n",
       "      <th>yr_renovated</th>\n",
       "      <th>zipcode</th>\n",
       "      <th>lat</th>\n",
       "      <th>long</th>\n",
       "      <th>sqft_living15</th>\n",
       "      <th>sqft_lot15</th>\n",
       "    </tr>\n",
       "  </thead>\n",
       "  <tbody>\n",
       "    <tr>\n",
       "      <th>0</th>\n",
       "      <td>7129300520</td>\n",
       "      <td>20141013T000000</td>\n",
       "      <td>221900.0</td>\n",
       "      <td>3</td>\n",
       "      <td>1.00</td>\n",
       "      <td>1180</td>\n",
       "      <td>5650</td>\n",
       "      <td>1.0</td>\n",
       "      <td>0</td>\n",
       "      <td>0</td>\n",
       "      <td>3</td>\n",
       "      <td>7</td>\n",
       "      <td>1180</td>\n",
       "      <td>0</td>\n",
       "      <td>1955</td>\n",
       "      <td>0</td>\n",
       "      <td>98178</td>\n",
       "      <td>47.5112</td>\n",
       "      <td>122.257</td>\n",
       "      <td>1340</td>\n",
       "      <td>5650</td>\n",
       "    </tr>\n",
       "    <tr>\n",
       "      <th>1</th>\n",
       "      <td>6414100192</td>\n",
       "      <td>20141209T000000</td>\n",
       "      <td>538000.0</td>\n",
       "      <td>3</td>\n",
       "      <td>2.25</td>\n",
       "      <td>2570</td>\n",
       "      <td>7242</td>\n",
       "      <td>2.0</td>\n",
       "      <td>0</td>\n",
       "      <td>0</td>\n",
       "      <td>3</td>\n",
       "      <td>7</td>\n",
       "      <td>2170</td>\n",
       "      <td>400</td>\n",
       "      <td>1951</td>\n",
       "      <td>1991</td>\n",
       "      <td>98125</td>\n",
       "      <td>47.7210</td>\n",
       "      <td>122.319</td>\n",
       "      <td>1690</td>\n",
       "      <td>7639</td>\n",
       "    </tr>\n",
       "    <tr>\n",
       "      <th>2</th>\n",
       "      <td>5631500400</td>\n",
       "      <td>20150225T000000</td>\n",
       "      <td>180000.0</td>\n",
       "      <td>2</td>\n",
       "      <td>1.00</td>\n",
       "      <td>770</td>\n",
       "      <td>10000</td>\n",
       "      <td>1.0</td>\n",
       "      <td>0</td>\n",
       "      <td>0</td>\n",
       "      <td>3</td>\n",
       "      <td>6</td>\n",
       "      <td>770</td>\n",
       "      <td>0</td>\n",
       "      <td>1933</td>\n",
       "      <td>0</td>\n",
       "      <td>98028</td>\n",
       "      <td>47.7379</td>\n",
       "      <td>122.233</td>\n",
       "      <td>2720</td>\n",
       "      <td>8062</td>\n",
       "    </tr>\n",
       "    <tr>\n",
       "      <th>3</th>\n",
       "      <td>2487200875</td>\n",
       "      <td>20141209T000000</td>\n",
       "      <td>604000.0</td>\n",
       "      <td>4</td>\n",
       "      <td>3.00</td>\n",
       "      <td>1960</td>\n",
       "      <td>5000</td>\n",
       "      <td>1.0</td>\n",
       "      <td>0</td>\n",
       "      <td>0</td>\n",
       "      <td>5</td>\n",
       "      <td>7</td>\n",
       "      <td>1050</td>\n",
       "      <td>910</td>\n",
       "      <td>1965</td>\n",
       "      <td>0</td>\n",
       "      <td>98136</td>\n",
       "      <td>47.5208</td>\n",
       "      <td>122.393</td>\n",
       "      <td>1360</td>\n",
       "      <td>5000</td>\n",
       "    </tr>\n",
       "    <tr>\n",
       "      <th>4</th>\n",
       "      <td>1954400510</td>\n",
       "      <td>20150218T000000</td>\n",
       "      <td>510000.0</td>\n",
       "      <td>3</td>\n",
       "      <td>2.00</td>\n",
       "      <td>1680</td>\n",
       "      <td>8080</td>\n",
       "      <td>1.0</td>\n",
       "      <td>0</td>\n",
       "      <td>0</td>\n",
       "      <td>3</td>\n",
       "      <td>8</td>\n",
       "      <td>1680</td>\n",
       "      <td>0</td>\n",
       "      <td>1987</td>\n",
       "      <td>0</td>\n",
       "      <td>98074</td>\n",
       "      <td>47.6168</td>\n",
       "      <td>122.045</td>\n",
       "      <td>1800</td>\n",
       "      <td>7503</td>\n",
       "    </tr>\n",
       "    <tr>\n",
       "      <th>...</th>\n",
       "      <td>...</td>\n",
       "      <td>...</td>\n",
       "      <td>...</td>\n",
       "      <td>...</td>\n",
       "      <td>...</td>\n",
       "      <td>...</td>\n",
       "      <td>...</td>\n",
       "      <td>...</td>\n",
       "      <td>...</td>\n",
       "      <td>...</td>\n",
       "      <td>...</td>\n",
       "      <td>...</td>\n",
       "      <td>...</td>\n",
       "      <td>...</td>\n",
       "      <td>...</td>\n",
       "      <td>...</td>\n",
       "      <td>...</td>\n",
       "      <td>...</td>\n",
       "      <td>...</td>\n",
       "      <td>...</td>\n",
       "      <td>...</td>\n",
       "    </tr>\n",
       "    <tr>\n",
       "      <th>21608</th>\n",
       "      <td>263000018</td>\n",
       "      <td>20140521T000000</td>\n",
       "      <td>360000.0</td>\n",
       "      <td>3</td>\n",
       "      <td>2.50</td>\n",
       "      <td>1530</td>\n",
       "      <td>1131</td>\n",
       "      <td>3.0</td>\n",
       "      <td>0</td>\n",
       "      <td>0</td>\n",
       "      <td>3</td>\n",
       "      <td>8</td>\n",
       "      <td>1530</td>\n",
       "      <td>0</td>\n",
       "      <td>2009</td>\n",
       "      <td>0</td>\n",
       "      <td>98103</td>\n",
       "      <td>47.6993</td>\n",
       "      <td>122.346</td>\n",
       "      <td>1530</td>\n",
       "      <td>1509</td>\n",
       "    </tr>\n",
       "    <tr>\n",
       "      <th>21609</th>\n",
       "      <td>6600060120</td>\n",
       "      <td>20150223T000000</td>\n",
       "      <td>400000.0</td>\n",
       "      <td>4</td>\n",
       "      <td>2.50</td>\n",
       "      <td>2310</td>\n",
       "      <td>5813</td>\n",
       "      <td>2.0</td>\n",
       "      <td>0</td>\n",
       "      <td>0</td>\n",
       "      <td>3</td>\n",
       "      <td>8</td>\n",
       "      <td>2310</td>\n",
       "      <td>0</td>\n",
       "      <td>2014</td>\n",
       "      <td>0</td>\n",
       "      <td>98146</td>\n",
       "      <td>47.5107</td>\n",
       "      <td>122.362</td>\n",
       "      <td>1830</td>\n",
       "      <td>7200</td>\n",
       "    </tr>\n",
       "    <tr>\n",
       "      <th>21610</th>\n",
       "      <td>1523300141</td>\n",
       "      <td>20140623T000000</td>\n",
       "      <td>402101.0</td>\n",
       "      <td>2</td>\n",
       "      <td>0.75</td>\n",
       "      <td>1020</td>\n",
       "      <td>1350</td>\n",
       "      <td>2.0</td>\n",
       "      <td>0</td>\n",
       "      <td>0</td>\n",
       "      <td>3</td>\n",
       "      <td>7</td>\n",
       "      <td>1020</td>\n",
       "      <td>0</td>\n",
       "      <td>2009</td>\n",
       "      <td>0</td>\n",
       "      <td>98144</td>\n",
       "      <td>47.5944</td>\n",
       "      <td>122.299</td>\n",
       "      <td>1020</td>\n",
       "      <td>2007</td>\n",
       "    </tr>\n",
       "    <tr>\n",
       "      <th>21611</th>\n",
       "      <td>291310100</td>\n",
       "      <td>20150116T000000</td>\n",
       "      <td>400000.0</td>\n",
       "      <td>3</td>\n",
       "      <td>2.50</td>\n",
       "      <td>1600</td>\n",
       "      <td>2388</td>\n",
       "      <td>2.0</td>\n",
       "      <td>0</td>\n",
       "      <td>0</td>\n",
       "      <td>3</td>\n",
       "      <td>8</td>\n",
       "      <td>1600</td>\n",
       "      <td>0</td>\n",
       "      <td>2004</td>\n",
       "      <td>0</td>\n",
       "      <td>98027</td>\n",
       "      <td>47.5345</td>\n",
       "      <td>122.069</td>\n",
       "      <td>1410</td>\n",
       "      <td>1287</td>\n",
       "    </tr>\n",
       "    <tr>\n",
       "      <th>21612</th>\n",
       "      <td>1523300157</td>\n",
       "      <td>20141015T000000</td>\n",
       "      <td>325000.0</td>\n",
       "      <td>2</td>\n",
       "      <td>0.75</td>\n",
       "      <td>1020</td>\n",
       "      <td>1076</td>\n",
       "      <td>2.0</td>\n",
       "      <td>0</td>\n",
       "      <td>0</td>\n",
       "      <td>3</td>\n",
       "      <td>7</td>\n",
       "      <td>1020</td>\n",
       "      <td>0</td>\n",
       "      <td>2008</td>\n",
       "      <td>0</td>\n",
       "      <td>98144</td>\n",
       "      <td>47.5941</td>\n",
       "      <td>122.299</td>\n",
       "      <td>1020</td>\n",
       "      <td>1357</td>\n",
       "    </tr>\n",
       "  </tbody>\n",
       "</table>\n",
       "<p>21613 rows × 21 columns</p>\n",
       "</div>"
      ],
      "text/plain": [
       "               id             date     price  bedrooms  bathrooms  \\\n",
       "0      7129300520  20141013T000000  221900.0         3       1.00   \n",
       "1      6414100192  20141209T000000  538000.0         3       2.25   \n",
       "2      5631500400  20150225T000000  180000.0         2       1.00   \n",
       "3      2487200875  20141209T000000  604000.0         4       3.00   \n",
       "4      1954400510  20150218T000000  510000.0         3       2.00   \n",
       "...           ...              ...       ...       ...        ...   \n",
       "21608   263000018  20140521T000000  360000.0         3       2.50   \n",
       "21609  6600060120  20150223T000000  400000.0         4       2.50   \n",
       "21610  1523300141  20140623T000000  402101.0         2       0.75   \n",
       "21611   291310100  20150116T000000  400000.0         3       2.50   \n",
       "21612  1523300157  20141015T000000  325000.0         2       0.75   \n",
       "\n",
       "       sqft_living  sqft_lot  floors  waterfront  view  condition  grade  \\\n",
       "0             1180      5650     1.0           0     0          3      7   \n",
       "1             2570      7242     2.0           0     0          3      7   \n",
       "2              770     10000     1.0           0     0          3      6   \n",
       "3             1960      5000     1.0           0     0          5      7   \n",
       "4             1680      8080     1.0           0     0          3      8   \n",
       "...            ...       ...     ...         ...   ...        ...    ...   \n",
       "21608         1530      1131     3.0           0     0          3      8   \n",
       "21609         2310      5813     2.0           0     0          3      8   \n",
       "21610         1020      1350     2.0           0     0          3      7   \n",
       "21611         1600      2388     2.0           0     0          3      8   \n",
       "21612         1020      1076     2.0           0     0          3      7   \n",
       "\n",
       "       sqft_above  sqft_basement  yr_built  yr_renovated  zipcode      lat  \\\n",
       "0            1180              0      1955             0    98178  47.5112   \n",
       "1            2170            400      1951          1991    98125  47.7210   \n",
       "2             770              0      1933             0    98028  47.7379   \n",
       "3            1050            910      1965             0    98136  47.5208   \n",
       "4            1680              0      1987             0    98074  47.6168   \n",
       "...           ...            ...       ...           ...      ...      ...   \n",
       "21608        1530              0      2009             0    98103  47.6993   \n",
       "21609        2310              0      2014             0    98146  47.5107   \n",
       "21610        1020              0      2009             0    98144  47.5944   \n",
       "21611        1600              0      2004             0    98027  47.5345   \n",
       "21612        1020              0      2008             0    98144  47.5941   \n",
       "\n",
       "          long  sqft_living15  sqft_lot15  \n",
       "0      122.257           1340        5650  \n",
       "1      122.319           1690        7639  \n",
       "2      122.233           2720        8062  \n",
       "3      122.393           1360        5000  \n",
       "4      122.045           1800        7503  \n",
       "...        ...            ...         ...  \n",
       "21608  122.346           1530        1509  \n",
       "21609  122.362           1830        7200  \n",
       "21610  122.299           1020        2007  \n",
       "21611  122.069           1410        1287  \n",
       "21612  122.299           1020        1357  \n",
       "\n",
       "[21613 rows x 21 columns]"
      ]
     },
     "execution_count": 143,
     "metadata": {},
     "output_type": "execute_result"
    }
   ],
   "source": [
    "data"
   ]
  },
  {
   "cell_type": "raw",
   "metadata": {
    "id": "i-yvFsxQsZhq"
   },
   "source": [
    "\n",
    "\n",
    "```\n",
    "# Bu, kod olarak biçimlendirilmiştir\n",
    "```\n",
    "\n",
    "### sqft_living = square footage of the home. \n",
    "### sqft_lot = the average lot square footage. \n",
    "### grade = quality \n",
    "### sqft_above = sqft_living - sqft_basement \n",
    "### sqft_basement = size of the basement \n",
    "### yr_built = built year of the building \n",
    "### yr_renovated = binanın yenilenme yılı\n",
    "### lat = enlem \n",
    "### long = boylam \n",
    "### sqft_living15 = the average house square footage of the 15 closest houses \n",
    "### sqft_lot15 = the average lot square footage of the 15 closest houses"
   ]
  },
  {
   "cell_type": "markdown",
   "metadata": {
    "id": "gZ6aHbWysZhr"
   },
   "source": [
    "## veri setinin incelemesini gerçekleştiriyoruz.\n"
   ]
  },
  {
   "cell_type": "code",
   "execution_count": 8,
   "metadata": {
    "colab": {
     "base_uri": "https://localhost:8080/"
    },
    "id": "7EhTZ-WAsZhs",
    "outputId": "ce368f2b-3b31-4c0f-ee79-fe65720c3cd0"
   },
   "outputs": [
    {
     "name": "stdout",
     "output_type": "stream",
     "text": [
      "Data shape: 21613 sales and 21 features\n"
     ]
    }
   ],
   "source": [
    "print(\"Data shape:\", data.shape[0], \"sales and\" , data.shape[1], \"features\")"
   ]
  },
  {
   "cell_type": "markdown",
   "metadata": {
    "id": "nYesJnHAsZhs"
   },
   "source": [
    "Veri setinde, 21613 satış verisi ve 21 adet özellik bulunmaktadır!"
   ]
  },
  {
   "cell_type": "code",
   "execution_count": 9,
   "metadata": {
    "colab": {
     "base_uri": "https://localhost:8080/",
     "height": 226
    },
    "id": "l9p-GtpUsZht",
    "outputId": "38b65be6-99bb-4ae3-c063-d0615d3095dc",
    "scrolled": true
   },
   "outputs": [
    {
     "data": {
      "text/html": [
       "<div>\n",
       "<style scoped>\n",
       "    .dataframe tbody tr th:only-of-type {\n",
       "        vertical-align: middle;\n",
       "    }\n",
       "\n",
       "    .dataframe tbody tr th {\n",
       "        vertical-align: top;\n",
       "    }\n",
       "\n",
       "    .dataframe thead th {\n",
       "        text-align: right;\n",
       "    }\n",
       "</style>\n",
       "<table border=\"1\" class=\"dataframe\">\n",
       "  <thead>\n",
       "    <tr style=\"text-align: right;\">\n",
       "      <th></th>\n",
       "      <th>id</th>\n",
       "      <th>date</th>\n",
       "      <th>price</th>\n",
       "      <th>bedrooms</th>\n",
       "      <th>bathrooms</th>\n",
       "      <th>sqft_living</th>\n",
       "      <th>sqft_lot</th>\n",
       "      <th>floors</th>\n",
       "      <th>waterfront</th>\n",
       "      <th>view</th>\n",
       "      <th>condition</th>\n",
       "      <th>grade</th>\n",
       "      <th>sqft_above</th>\n",
       "      <th>sqft_basement</th>\n",
       "      <th>yr_built</th>\n",
       "      <th>yr_renovated</th>\n",
       "      <th>zipcode</th>\n",
       "      <th>lat</th>\n",
       "      <th>long</th>\n",
       "      <th>sqft_living15</th>\n",
       "      <th>sqft_lot15</th>\n",
       "    </tr>\n",
       "  </thead>\n",
       "  <tbody>\n",
       "    <tr>\n",
       "      <th>0</th>\n",
       "      <td>7129300520</td>\n",
       "      <td>20141013T000000</td>\n",
       "      <td>221900.0</td>\n",
       "      <td>3</td>\n",
       "      <td>1.00</td>\n",
       "      <td>1180</td>\n",
       "      <td>5650</td>\n",
       "      <td>1.0</td>\n",
       "      <td>0</td>\n",
       "      <td>0</td>\n",
       "      <td>3</td>\n",
       "      <td>7</td>\n",
       "      <td>1180</td>\n",
       "      <td>0</td>\n",
       "      <td>1955</td>\n",
       "      <td>0</td>\n",
       "      <td>98178</td>\n",
       "      <td>47.5112</td>\n",
       "      <td>122.257</td>\n",
       "      <td>1340</td>\n",
       "      <td>5650</td>\n",
       "    </tr>\n",
       "    <tr>\n",
       "      <th>1</th>\n",
       "      <td>6414100192</td>\n",
       "      <td>20141209T000000</td>\n",
       "      <td>538000.0</td>\n",
       "      <td>3</td>\n",
       "      <td>2.25</td>\n",
       "      <td>2570</td>\n",
       "      <td>7242</td>\n",
       "      <td>2.0</td>\n",
       "      <td>0</td>\n",
       "      <td>0</td>\n",
       "      <td>3</td>\n",
       "      <td>7</td>\n",
       "      <td>2170</td>\n",
       "      <td>400</td>\n",
       "      <td>1951</td>\n",
       "      <td>1991</td>\n",
       "      <td>98125</td>\n",
       "      <td>47.7210</td>\n",
       "      <td>122.319</td>\n",
       "      <td>1690</td>\n",
       "      <td>7639</td>\n",
       "    </tr>\n",
       "    <tr>\n",
       "      <th>2</th>\n",
       "      <td>5631500400</td>\n",
       "      <td>20150225T000000</td>\n",
       "      <td>180000.0</td>\n",
       "      <td>2</td>\n",
       "      <td>1.00</td>\n",
       "      <td>770</td>\n",
       "      <td>10000</td>\n",
       "      <td>1.0</td>\n",
       "      <td>0</td>\n",
       "      <td>0</td>\n",
       "      <td>3</td>\n",
       "      <td>6</td>\n",
       "      <td>770</td>\n",
       "      <td>0</td>\n",
       "      <td>1933</td>\n",
       "      <td>0</td>\n",
       "      <td>98028</td>\n",
       "      <td>47.7379</td>\n",
       "      <td>122.233</td>\n",
       "      <td>2720</td>\n",
       "      <td>8062</td>\n",
       "    </tr>\n",
       "    <tr>\n",
       "      <th>3</th>\n",
       "      <td>2487200875</td>\n",
       "      <td>20141209T000000</td>\n",
       "      <td>604000.0</td>\n",
       "      <td>4</td>\n",
       "      <td>3.00</td>\n",
       "      <td>1960</td>\n",
       "      <td>5000</td>\n",
       "      <td>1.0</td>\n",
       "      <td>0</td>\n",
       "      <td>0</td>\n",
       "      <td>5</td>\n",
       "      <td>7</td>\n",
       "      <td>1050</td>\n",
       "      <td>910</td>\n",
       "      <td>1965</td>\n",
       "      <td>0</td>\n",
       "      <td>98136</td>\n",
       "      <td>47.5208</td>\n",
       "      <td>122.393</td>\n",
       "      <td>1360</td>\n",
       "      <td>5000</td>\n",
       "    </tr>\n",
       "    <tr>\n",
       "      <th>4</th>\n",
       "      <td>1954400510</td>\n",
       "      <td>20150218T000000</td>\n",
       "      <td>510000.0</td>\n",
       "      <td>3</td>\n",
       "      <td>2.00</td>\n",
       "      <td>1680</td>\n",
       "      <td>8080</td>\n",
       "      <td>1.0</td>\n",
       "      <td>0</td>\n",
       "      <td>0</td>\n",
       "      <td>3</td>\n",
       "      <td>8</td>\n",
       "      <td>1680</td>\n",
       "      <td>0</td>\n",
       "      <td>1987</td>\n",
       "      <td>0</td>\n",
       "      <td>98074</td>\n",
       "      <td>47.6168</td>\n",
       "      <td>122.045</td>\n",
       "      <td>1800</td>\n",
       "      <td>7503</td>\n",
       "    </tr>\n",
       "  </tbody>\n",
       "</table>\n",
       "</div>"
      ],
      "text/plain": [
       "           id             date     price  bedrooms  bathrooms  sqft_living  \\\n",
       "0  7129300520  20141013T000000  221900.0         3       1.00         1180   \n",
       "1  6414100192  20141209T000000  538000.0         3       2.25         2570   \n",
       "2  5631500400  20150225T000000  180000.0         2       1.00          770   \n",
       "3  2487200875  20141209T000000  604000.0         4       3.00         1960   \n",
       "4  1954400510  20150218T000000  510000.0         3       2.00         1680   \n",
       "\n",
       "   sqft_lot  floors  waterfront  view  condition  grade  sqft_above  \\\n",
       "0      5650     1.0           0     0          3      7        1180   \n",
       "1      7242     2.0           0     0          3      7        2170   \n",
       "2     10000     1.0           0     0          3      6         770   \n",
       "3      5000     1.0           0     0          5      7        1050   \n",
       "4      8080     1.0           0     0          3      8        1680   \n",
       "\n",
       "   sqft_basement  yr_built  yr_renovated  zipcode      lat     long  \\\n",
       "0              0      1955             0    98178  47.5112  122.257   \n",
       "1            400      1951          1991    98125  47.7210  122.319   \n",
       "2              0      1933             0    98028  47.7379  122.233   \n",
       "3            910      1965             0    98136  47.5208  122.393   \n",
       "4              0      1987             0    98074  47.6168  122.045   \n",
       "\n",
       "   sqft_living15  sqft_lot15  \n",
       "0           1340        5650  \n",
       "1           1690        7639  \n",
       "2           2720        8062  \n",
       "3           1360        5000  \n",
       "4           1800        7503  "
      ]
     },
     "execution_count": 9,
     "metadata": {},
     "output_type": "execute_result"
    }
   ],
   "source": [
    "data.head()"
   ]
  },
  {
   "cell_type": "code",
   "execution_count": 10,
   "metadata": {
    "colab": {
     "base_uri": "https://localhost:8080/",
     "height": 226
    },
    "id": "PC1TAnl3sZhu",
    "outputId": "ef46b419-0532-4d82-8d9d-9026c18ed4e6"
   },
   "outputs": [
    {
     "data": {
      "text/html": [
       "<div>\n",
       "<style scoped>\n",
       "    .dataframe tbody tr th:only-of-type {\n",
       "        vertical-align: middle;\n",
       "    }\n",
       "\n",
       "    .dataframe tbody tr th {\n",
       "        vertical-align: top;\n",
       "    }\n",
       "\n",
       "    .dataframe thead th {\n",
       "        text-align: right;\n",
       "    }\n",
       "</style>\n",
       "<table border=\"1\" class=\"dataframe\">\n",
       "  <thead>\n",
       "    <tr style=\"text-align: right;\">\n",
       "      <th></th>\n",
       "      <th>id</th>\n",
       "      <th>date</th>\n",
       "      <th>price</th>\n",
       "      <th>bedrooms</th>\n",
       "      <th>bathrooms</th>\n",
       "      <th>sqft_living</th>\n",
       "      <th>sqft_lot</th>\n",
       "      <th>floors</th>\n",
       "      <th>waterfront</th>\n",
       "      <th>view</th>\n",
       "      <th>condition</th>\n",
       "      <th>grade</th>\n",
       "      <th>sqft_above</th>\n",
       "      <th>sqft_basement</th>\n",
       "      <th>yr_built</th>\n",
       "      <th>yr_renovated</th>\n",
       "      <th>zipcode</th>\n",
       "      <th>lat</th>\n",
       "      <th>long</th>\n",
       "      <th>sqft_living15</th>\n",
       "      <th>sqft_lot15</th>\n",
       "    </tr>\n",
       "  </thead>\n",
       "  <tbody>\n",
       "    <tr>\n",
       "      <th>21608</th>\n",
       "      <td>263000018</td>\n",
       "      <td>20140521T000000</td>\n",
       "      <td>360000.0</td>\n",
       "      <td>3</td>\n",
       "      <td>2.50</td>\n",
       "      <td>1530</td>\n",
       "      <td>1131</td>\n",
       "      <td>3.0</td>\n",
       "      <td>0</td>\n",
       "      <td>0</td>\n",
       "      <td>3</td>\n",
       "      <td>8</td>\n",
       "      <td>1530</td>\n",
       "      <td>0</td>\n",
       "      <td>2009</td>\n",
       "      <td>0</td>\n",
       "      <td>98103</td>\n",
       "      <td>47.6993</td>\n",
       "      <td>122.346</td>\n",
       "      <td>1530</td>\n",
       "      <td>1509</td>\n",
       "    </tr>\n",
       "    <tr>\n",
       "      <th>21609</th>\n",
       "      <td>6600060120</td>\n",
       "      <td>20150223T000000</td>\n",
       "      <td>400000.0</td>\n",
       "      <td>4</td>\n",
       "      <td>2.50</td>\n",
       "      <td>2310</td>\n",
       "      <td>5813</td>\n",
       "      <td>2.0</td>\n",
       "      <td>0</td>\n",
       "      <td>0</td>\n",
       "      <td>3</td>\n",
       "      <td>8</td>\n",
       "      <td>2310</td>\n",
       "      <td>0</td>\n",
       "      <td>2014</td>\n",
       "      <td>0</td>\n",
       "      <td>98146</td>\n",
       "      <td>47.5107</td>\n",
       "      <td>122.362</td>\n",
       "      <td>1830</td>\n",
       "      <td>7200</td>\n",
       "    </tr>\n",
       "    <tr>\n",
       "      <th>21610</th>\n",
       "      <td>1523300141</td>\n",
       "      <td>20140623T000000</td>\n",
       "      <td>402101.0</td>\n",
       "      <td>2</td>\n",
       "      <td>0.75</td>\n",
       "      <td>1020</td>\n",
       "      <td>1350</td>\n",
       "      <td>2.0</td>\n",
       "      <td>0</td>\n",
       "      <td>0</td>\n",
       "      <td>3</td>\n",
       "      <td>7</td>\n",
       "      <td>1020</td>\n",
       "      <td>0</td>\n",
       "      <td>2009</td>\n",
       "      <td>0</td>\n",
       "      <td>98144</td>\n",
       "      <td>47.5944</td>\n",
       "      <td>122.299</td>\n",
       "      <td>1020</td>\n",
       "      <td>2007</td>\n",
       "    </tr>\n",
       "    <tr>\n",
       "      <th>21611</th>\n",
       "      <td>291310100</td>\n",
       "      <td>20150116T000000</td>\n",
       "      <td>400000.0</td>\n",
       "      <td>3</td>\n",
       "      <td>2.50</td>\n",
       "      <td>1600</td>\n",
       "      <td>2388</td>\n",
       "      <td>2.0</td>\n",
       "      <td>0</td>\n",
       "      <td>0</td>\n",
       "      <td>3</td>\n",
       "      <td>8</td>\n",
       "      <td>1600</td>\n",
       "      <td>0</td>\n",
       "      <td>2004</td>\n",
       "      <td>0</td>\n",
       "      <td>98027</td>\n",
       "      <td>47.5345</td>\n",
       "      <td>122.069</td>\n",
       "      <td>1410</td>\n",
       "      <td>1287</td>\n",
       "    </tr>\n",
       "    <tr>\n",
       "      <th>21612</th>\n",
       "      <td>1523300157</td>\n",
       "      <td>20141015T000000</td>\n",
       "      <td>325000.0</td>\n",
       "      <td>2</td>\n",
       "      <td>0.75</td>\n",
       "      <td>1020</td>\n",
       "      <td>1076</td>\n",
       "      <td>2.0</td>\n",
       "      <td>0</td>\n",
       "      <td>0</td>\n",
       "      <td>3</td>\n",
       "      <td>7</td>\n",
       "      <td>1020</td>\n",
       "      <td>0</td>\n",
       "      <td>2008</td>\n",
       "      <td>0</td>\n",
       "      <td>98144</td>\n",
       "      <td>47.5941</td>\n",
       "      <td>122.299</td>\n",
       "      <td>1020</td>\n",
       "      <td>1357</td>\n",
       "    </tr>\n",
       "  </tbody>\n",
       "</table>\n",
       "</div>"
      ],
      "text/plain": [
       "               id             date     price  bedrooms  bathrooms  \\\n",
       "21608   263000018  20140521T000000  360000.0         3       2.50   \n",
       "21609  6600060120  20150223T000000  400000.0         4       2.50   \n",
       "21610  1523300141  20140623T000000  402101.0         2       0.75   \n",
       "21611   291310100  20150116T000000  400000.0         3       2.50   \n",
       "21612  1523300157  20141015T000000  325000.0         2       0.75   \n",
       "\n",
       "       sqft_living  sqft_lot  floors  waterfront  view  condition  grade  \\\n",
       "21608         1530      1131     3.0           0     0          3      8   \n",
       "21609         2310      5813     2.0           0     0          3      8   \n",
       "21610         1020      1350     2.0           0     0          3      7   \n",
       "21611         1600      2388     2.0           0     0          3      8   \n",
       "21612         1020      1076     2.0           0     0          3      7   \n",
       "\n",
       "       sqft_above  sqft_basement  yr_built  yr_renovated  zipcode      lat  \\\n",
       "21608        1530              0      2009             0    98103  47.6993   \n",
       "21609        2310              0      2014             0    98146  47.5107   \n",
       "21610        1020              0      2009             0    98144  47.5944   \n",
       "21611        1600              0      2004             0    98027  47.5345   \n",
       "21612        1020              0      2008             0    98144  47.5941   \n",
       "\n",
       "          long  sqft_living15  sqft_lot15  \n",
       "21608  122.346           1530        1509  \n",
       "21609  122.362           1830        7200  \n",
       "21610  122.299           1020        2007  \n",
       "21611  122.069           1410        1287  \n",
       "21612  122.299           1020        1357  "
      ]
     },
     "execution_count": 10,
     "metadata": {},
     "output_type": "execute_result"
    }
   ],
   "source": [
    "data.tail()"
   ]
  },
  {
   "cell_type": "markdown",
   "metadata": {
    "id": "OmXsR6rMsZhu"
   },
   "source": [
    "## id sütunu işimize yaramayacağı içib buradaki setten çıkarıyoruz.\n"
   ]
  },
  {
   "cell_type": "code",
   "execution_count": 11,
   "metadata": {
    "colab": {
     "base_uri": "https://localhost:8080/"
    },
    "id": "SPkplzB6sZhu",
    "outputId": "d28850f1-39c5-4d18-a350-3fa3c67e83bf"
   },
   "outputs": [
    {
     "data": {
      "text/plain": [
       "(21613, 20)"
      ]
     },
     "execution_count": 11,
     "metadata": {},
     "output_type": "execute_result"
    }
   ],
   "source": [
    "#id sütunu işimize yaramayacağı içib buradaki setten çıkarıyoruz.\n",
    "data_id = data[\"id\"]\n",
    "data.drop([\"id\"], axis=1, inplace = True)\n",
    "data.shape"
   ]
  },
  {
   "cell_type": "markdown",
   "metadata": {
    "id": "YNMQtKDosZhv"
   },
   "source": [
    "## date sütununu da çıkaralım.\n"
   ]
  },
  {
   "cell_type": "code",
   "execution_count": 12,
   "metadata": {
    "colab": {
     "base_uri": "https://localhost:8080/"
    },
    "id": "vZBBHq6qsZhv",
    "outputId": "095d566c-6f83-4ec3-c733-04d9f6280418"
   },
   "outputs": [
    {
     "data": {
      "text/plain": [
       "(21613, 19)"
      ]
     },
     "execution_count": 12,
     "metadata": {},
     "output_type": "execute_result"
    }
   ],
   "source": [
    "#date sütununu da çıkaralım.\n",
    "data_date = data[\"date\"]\n",
    "data.drop([\"date\"],axis=1, inplace = True)\n",
    "data.shape"
   ]
  },
  {
   "cell_type": "code",
   "execution_count": 13,
   "metadata": {
    "colab": {
     "base_uri": "https://localhost:8080/"
    },
    "id": "_0H3UnxrsZhw",
    "outputId": "78c97abd-9fed-4bb2-bafd-e5eea4b5f364"
   },
   "outputs": [
    {
     "name": "stdout",
     "output_type": "stream",
     "text": [
      "<class 'pandas.core.frame.DataFrame'>\n",
      "RangeIndex: 21613 entries, 0 to 21612\n",
      "Data columns (total 19 columns):\n",
      " #   Column         Non-Null Count  Dtype  \n",
      "---  ------         --------------  -----  \n",
      " 0   price          21613 non-null  float64\n",
      " 1   bedrooms       21613 non-null  int64  \n",
      " 2   bathrooms      21613 non-null  float64\n",
      " 3   sqft_living    21613 non-null  int64  \n",
      " 4   sqft_lot       21613 non-null  int64  \n",
      " 5   floors         21613 non-null  float64\n",
      " 6   waterfront     21613 non-null  int64  \n",
      " 7   view           21613 non-null  int64  \n",
      " 8   condition      21613 non-null  int64  \n",
      " 9   grade          21613 non-null  int64  \n",
      " 10  sqft_above     21613 non-null  int64  \n",
      " 11  sqft_basement  21613 non-null  int64  \n",
      " 12  yr_built       21613 non-null  int64  \n",
      " 13  yr_renovated   21613 non-null  int64  \n",
      " 14  zipcode        21613 non-null  int64  \n",
      " 15  lat            21613 non-null  float64\n",
      " 16  long           21613 non-null  float64\n",
      " 17  sqft_living15  21613 non-null  int64  \n",
      " 18  sqft_lot15     21613 non-null  int64  \n",
      "dtypes: float64(5), int64(14)\n",
      "memory usage: 3.1 MB\n"
     ]
    }
   ],
   "source": [
    "data.info()"
   ]
  },
  {
   "cell_type": "markdown",
   "metadata": {
    "id": "yZmU8IcNsZhw"
   },
   "source": [
    "## tahmin etmek istediğimiz price değerini yakından inceleyecek olursak eğer;\n"
   ]
  },
  {
   "cell_type": "code",
   "execution_count": 14,
   "metadata": {
    "colab": {
     "base_uri": "https://localhost:8080/",
     "height": 0
    },
    "id": "NWNvj3PtsZhx",
    "outputId": "9d7481d2-096d-4c30-9480-7f9c13edfe28"
   },
   "outputs": [
    {
     "data": {
      "image/png": "[encoded data removed]",
      "text/plain": [
       "<Figure size 576x504 with 1 Axes>"
      ]
     },
     "metadata": {},
     "output_type": "display_data"
    }
   ],
   "source": [
    "   \n",
    "sns.set_style(\"white\")\n",
    "sns.set_color_codes(palette='deep')\n",
    "f, ax = plt.subplots(figsize=(8, 7))\n",
    "\n",
    "#Grafiğin dağılımına bakalım.\n",
    "\n",
    "sns.distplot(data['price'], color=\"b\");\n",
    "ax.xaxis.grid(False)\n",
    "ax.set(ylabel=\"Frequency\")\n",
    "ax.set(xlabel=\"SalePrice\")\n",
    "ax.set(title=\"SalePrice distribution\")\n",
    "sns.despine(trim=True, left=True)\n",
    "plt.show()"
   ]
  },
  {
   "cell_type": "code",
   "execution_count": 15,
   "metadata": {
    "colab": {
     "base_uri": "https://localhost:8080/"
    },
    "id": "d829xC_nsZhx",
    "outputId": "ac329401-7615-4718-c713-b8baf68fcc0f"
   },
   "outputs": [
    {
     "name": "stdout",
     "output_type": "stream",
     "text": [
      "Skewness: 4.024069\n",
      "Kurtosis: 34.585540\n"
     ]
    }
   ],
   "source": [
    "# Çarpıklık ve basıklık durumunu inceliyoruz.\n",
    "print(\"Skewness: %f\" % data['price'].skew())\n",
    "print(\"Kurtosis: %f\" % data['price'].kurt())"
   ]
  },
  {
   "cell_type": "markdown",
   "metadata": {
    "id": "GOWnQX_JsZhy"
   },
   "source": [
    "## veri setimizde bulunan özelliklerin birbirleri arasındaki ilişkiyi inceliyoruz.\n"
   ]
  },
  {
   "cell_type": "code",
   "execution_count": 16,
   "metadata": {
    "colab": {
     "base_uri": "https://localhost:8080/",
     "height": 0
    },
    "id": "c9RYODlEsZhy",
    "outputId": "f1bd32a5-a2ec-4bb5-87f6-b02c6b41308a"
   },
   "outputs": [
    {
     "data": {
      "text/plain": [
       "<matplotlib.axes._subplots.AxesSubplot at 0x7f9348e073d0>"
      ]
     },
     "execution_count": 16,
     "metadata": {},
     "output_type": "execute_result"
    },
    {
     "data": {
      "image/png": "[encoded data removed]",
      "text/plain": [
       "<Figure size 1080x864 with 2 Axes>"
      ]
     },
     "metadata": {},
     "output_type": "display_data"
    }
   ],
   "source": [
    "#veri setimizde bulunan özelliklerin birbirleri arasındaki ilişkiyi inceliyoruz.\n",
    "\n",
    "plt.subplots(figsize=(15,12))\n",
    "sns.heatmap(data.corr(), annot=True, cmap=\"Blues\")\n"
   ]
  },
  {
   "cell_type": "code",
   "execution_count": 17,
   "metadata": {
    "colab": {
     "base_uri": "https://localhost:8080/"
    },
    "id": "j8thIU5gsZhy",
    "outputId": "6631e781-82ff-47f8-89bb-5ededd2ff15b"
   },
   "outputs": [
    {
     "name": "stdout",
     "output_type": "stream",
     "text": [
      "<class 'pandas.core.frame.DataFrame'>\n",
      "RangeIndex: 21613 entries, 0 to 21612\n",
      "Data columns (total 19 columns):\n",
      " #   Column         Non-Null Count  Dtype  \n",
      "---  ------         --------------  -----  \n",
      " 0   price          21613 non-null  float64\n",
      " 1   bedrooms       21613 non-null  int64  \n",
      " 2   bathrooms      21613 non-null  float64\n",
      " 3   sqft_living    21613 non-null  int64  \n",
      " 4   sqft_lot       21613 non-null  int64  \n",
      " 5   floors         21613 non-null  float64\n",
      " 6   waterfront     21613 non-null  int64  \n",
      " 7   view           21613 non-null  int64  \n",
      " 8   condition      21613 non-null  int64  \n",
      " 9   grade          21613 non-null  int64  \n",
      " 10  sqft_above     21613 non-null  int64  \n",
      " 11  sqft_basement  21613 non-null  int64  \n",
      " 12  yr_built       21613 non-null  int64  \n",
      " 13  yr_renovated   21613 non-null  int64  \n",
      " 14  zipcode        21613 non-null  int64  \n",
      " 15  lat            21613 non-null  float64\n",
      " 16  long           21613 non-null  float64\n",
      " 17  sqft_living15  21613 non-null  int64  \n",
      " 18  sqft_lot15     21613 non-null  int64  \n",
      "dtypes: float64(5), int64(14)\n",
      "memory usage: 3.1 MB\n"
     ]
    }
   ],
   "source": [
    "data.info()"
   ]
  },
  {
   "cell_type": "code",
   "execution_count": 18,
   "metadata": {
    "colab": {
     "base_uri": "https://localhost:8080/"
    },
    "id": "38Ok17otsZhz",
    "outputId": "741561a5-1b89-45dc-f3f2-73e534a4ce29"
   },
   "outputs": [
    {
     "data": {
      "text/plain": [
       "0        221900.0\n",
       "1        538000.0\n",
       "2        180000.0\n",
       "3        604000.0\n",
       "4        510000.0\n",
       "           ...   \n",
       "21608    360000.0\n",
       "21609    400000.0\n",
       "21610    402101.0\n",
       "21611    400000.0\n",
       "21612    325000.0\n",
       "Length: 21613, dtype: float64"
      ]
     },
     "execution_count": 18,
     "metadata": {},
     "output_type": "execute_result"
    }
   ],
   "source": [
    "data.max(axis = 1, skipna = True)\n"
   ]
  },
  {
   "cell_type": "code",
   "execution_count": 19,
   "metadata": {
    "id": "DJsogotGsZhz"
   },
   "outputs": [],
   "source": [
    "# Sayısal değerleri olan özelliklerin keşifini yapıyoruz.\n",
    "numeric_dtypes = [ 'int64', 'float64']\n",
    "numeric = []\n",
    "\n",
    "for i in data.columns:\n",
    "    if data[i].dtype in numeric_dtypes:\n",
    "        if i in data:\n",
    "            numeric.append(i)   "
   ]
  },
  {
   "cell_type": "code",
   "execution_count": 20,
   "metadata": {
    "colab": {
     "base_uri": "https://localhost:8080/"
    },
    "id": "_TuRoVLKsZh0",
    "outputId": "96311489-0231-4de7-d21a-d58812b0cff2"
   },
   "outputs": [
    {
     "data": {
      "text/plain": [
       "['price',\n",
       " 'bedrooms',\n",
       " 'bathrooms',\n",
       " 'sqft_living',\n",
       " 'sqft_lot',\n",
       " 'floors',\n",
       " 'waterfront',\n",
       " 'view',\n",
       " 'condition',\n",
       " 'grade',\n",
       " 'sqft_above',\n",
       " 'sqft_basement',\n",
       " 'yr_built',\n",
       " 'yr_renovated',\n",
       " 'zipcode',\n",
       " 'lat',\n",
       " 'long',\n",
       " 'sqft_living15',\n",
       " 'sqft_lot15']"
      ]
     },
     "execution_count": 20,
     "metadata": {},
     "output_type": "execute_result"
    }
   ],
   "source": [
    "numeric"
   ]
  },
  {
   "cell_type": "code",
   "execution_count": 21,
   "metadata": {
    "colab": {
     "base_uri": "https://localhost:8080/"
    },
    "id": "6VRkzu_msZh0",
    "outputId": "f64fb12b-298f-4248-807c-6e5ebb9a3757"
   },
   "outputs": [
    {
     "data": {
      "text/plain": [
       "0        221900.0\n",
       "1        538000.0\n",
       "2        180000.0\n",
       "3        604000.0\n",
       "4        510000.0\n",
       "           ...   \n",
       "21608    360000.0\n",
       "21609    400000.0\n",
       "21610    402101.0\n",
       "21611    400000.0\n",
       "21612    325000.0\n",
       "Name: price, Length: 21613, dtype: float64"
      ]
     },
     "execution_count": 21,
     "metadata": {},
     "output_type": "execute_result"
    }
   ],
   "source": [
    "data[\"price\"]\n"
   ]
  },
  {
   "cell_type": "code",
   "execution_count": 22,
   "metadata": {
    "colab": {
     "base_uri": "https://localhost:8080/"
    },
    "id": "zT0S6BBAsZh0",
    "outputId": "4baccf48-aefb-4855-bdee-1d75aa37fbd4"
   },
   "outputs": [
    {
     "name": "stdout",
     "output_type": "stream",
     "text": [
      "count    2.161300e+04\n",
      "mean     5.400881e+05\n",
      "std      3.671272e+05\n",
      "min      7.500000e+04\n",
      "25%      3.219500e+05\n",
      "50%      4.500000e+05\n",
      "75%      6.450000e+05\n",
      "max      7.700000e+06\n",
      "Name: price, dtype: float64\n"
     ]
    }
   ],
   "source": [
    "print(data[\"price\"].describe())"
   ]
  },
  {
   "cell_type": "raw",
   "metadata": {
    "id": "YVaVW3FxsZh1",
    "scrolled": false
   },
   "source": [
    "# aynı zamanda da verilerin price ile olan ilişkisini ve outliersları gösteriyoruz.\n",
    "fig, axs = plt.subplots(ncols=2, nrows=1, figsize=(20,120))\n",
    "plt.subplots_adjust(right=2)\n",
    "plt.subplots_adjust(top=2)\n",
    "sns.color_palette(\"husl\", 8)\n",
    "\n",
    "for i, feature in enumerate(list(data[numeric]), 1):\n",
    "    \n",
    "    plt.subplot(len(list(numeric)), 3, i)\n",
    "    sns.scatterplot(x=feature, y='price', hue='price', data=data)\n",
    "        \n",
    "    plt.xlabel('{}'.format(feature), size=15,labelpad=12.5) \n",
    "    plt.ylabel('price', size=15, labelpad=12.5)\n",
    "    \n",
    "    for j in range(2):\n",
    "        plt.tick_params(axis='x', labelsize=12)\n",
    "        plt.tick_params(axis='y', labelsize=12)\n",
    "    \n",
    "    plt.legend(loc='best', prop={'size': 10})\n",
    "        \n",
    "plt.show()"
   ]
  },
  {
   "cell_type": "markdown",
   "metadata": {
    "id": "wvSIO-w8sZh1"
   },
   "source": [
    "## Çarpıklık ve basıklık durumunu inceliyoruz.\n"
   ]
  },
  {
   "cell_type": "markdown",
   "metadata": {
    "id": "kuw8JA2OsZh1"
   },
   "source": [
    "Price özelliğinin heat_map'ten en fazla ilişkisi bulunan (0,1) aralığı için x>0.50 üzerindeki değerler için ne kadar etkiliyor, bunların grafiklerini çizdirelim.\n",
    "\n",
    ">sqft_living = 0.7\n",
    ">grade = 0.67\n",
    ">sqft_above = 0.61\n",
    ">sqft_living = 0.59"
   ]
  },
  {
   "cell_type": "markdown",
   "metadata": {
    "id": "wUpIRikqsZh2"
   },
   "source": [
    "## sqft_living  ile price arasındaki ilişkiyi buradan görebiliriz.\n"
   ]
  },
  {
   "cell_type": "raw",
   "metadata": {
    "id": "q2rFLu4YsZh2",
    "scrolled": true
   },
   "source": [
    "#>sqft_living = 0.7 ile price arasındaki ilişkiyi buradan görebiliriz.\n",
    "\n",
    "data_x1 = pd.concat([data['price'], data['sqft_living']], axis=1)\n",
    "f, ax = plt.subplots(figsize=(38, 8))\n",
    "fig = sns.boxplot(x=data_x1['sqft_living'], y=\"price\", data=data_x1)\n",
    "fig.axis(ymin=0, ymax=8000000);\n",
    "fig.axis(xmin=0, xmax = len(\"sqft_living\")*100);"
   ]
  },
  {
   "cell_type": "markdown",
   "metadata": {
    "id": "Pk1wIWBasZh2"
   },
   "source": [
    " ## grade ve price arasındaki ilişki"
   ]
  },
  {
   "cell_type": "raw",
   "metadata": {
    "id": "z12Ij3kCsZh2"
   },
   "source": [
    "#grade\n",
    "\n",
    "data_x2 = pd.concat([data['price'], data['grade']], axis=1)\n",
    "f, ax = plt.subplots(figsize=(38, 8))\n",
    "fig = sns.boxplot(x=data_x2['grade'], y=\"price\", data=data_x2)\n",
    "fig.axis(ymin=0, ymax=8000000);\n"
   ]
  },
  {
   "cell_type": "markdown",
   "metadata": {
    "id": "Hvog50jjsZh2"
   },
   "source": [
    "## sqft_above ile price arasındaki ilikşi\n"
   ]
  },
  {
   "cell_type": "raw",
   "metadata": {
    "id": "EW02ChMksZh3"
   },
   "source": [
    "#sqft_above = 0.61 \n",
    "\n",
    "data_x3 = pd.concat([data['price'], data['sqft_above']], axis=1)\n",
    "f, ax = plt.subplots(figsize=(38, 8))\n",
    "fig = sns.boxplot(x=data_x3['sqft_above'], y=\"price\", data=data_x3)\n",
    "fig.axis(ymin=0, ymax=8000000);\n"
   ]
  },
  {
   "cell_type": "markdown",
   "metadata": {
    "id": "kJ1SW-dIsZh3"
   },
   "source": [
    "## sqft_living15 ile price arasındaki ilişki\n"
   ]
  },
  {
   "cell_type": "raw",
   "metadata": {
    "id": "jKu2fwl6sZh3"
   },
   "source": [
    "#sqft_living15 = 0.59\n",
    "\n",
    "data_x4 = pd.concat([data['price'], data['sqft_living15']], axis=1)\n",
    "f, ax = plt.subplots(figsize=(38, 8))\n",
    "fig = sns.boxplot(x=data_x4['sqft_living15'], y=\"price\", data=data_x4)\n",
    "fig.axis(ymin=0, ymax=8000000);"
   ]
  },
  {
   "cell_type": "markdown",
   "metadata": {
    "id": "mERru-QMsZh3"
   },
   "source": [
    "## Feature Engineering"
   ]
  },
  {
   "cell_type": "markdown",
   "metadata": {
    "id": "DxhtS4hmsZh4"
   },
   "source": [
    "### Öncelikle price değerini  grafiksel olarak çizdirelim."
   ]
  },
  {
   "cell_type": "code",
   "execution_count": 23,
   "metadata": {
    "colab": {
     "base_uri": "https://localhost:8080/",
     "height": 0
    },
    "id": "yBvtaAVCsZh4",
    "outputId": "2970b7b5-a09a-4da8-8ee9-aa8ab19511b9"
   },
   "outputs": [
    {
     "data": {
      "image/png": "[encoded data removed]",
      "text/plain": [
       "<Figure size 576x504 with 1 Axes>"
      ]
     },
     "metadata": {},
     "output_type": "display_data"
    }
   ],
   "source": [
    "#ilk olarak price dağılımını tekrardan bir çizdirelim.\n",
    "\n",
    "#tahmin etmek istediğimiz price değerini yakından inceleyecek olursak eğer;\n",
    "    \n",
    "sns.set_style(\"white\")\n",
    "sns.set_color_codes(palette='deep')\n",
    "f, ax = plt.subplots(figsize=(8, 7))\n",
    "\n",
    "#Grafiğin dağılımına bakalım.\n",
    "\n",
    "sns.distplot(data['price'], color=\"b\");\n",
    "ax.xaxis.grid(False)\n",
    "ax.set(ylabel=\"Frequency\")\n",
    "ax.set(xlabel=\"SalePrice\")\n",
    "ax.set(title=\"SalePrice distribution\")\n",
    "sns.despine(trim=True, left=True)\n",
    "plt.show()"
   ]
  },
  {
   "cell_type": "code",
   "execution_count": 23,
   "metadata": {
    "id": "vkQ1hQBSsZh4"
   },
   "outputs": [],
   "source": []
  },
  {
   "cell_type": "markdown",
   "metadata": {
    "id": "GO7zAhF8sZh4"
   },
   "source": [
    "# SALI ------------------------------------------------------------\n",
    "### Logaritma işlemini yapmadan önce test ve train verilerimizi ayıralım.\n"
   ]
  },
  {
   "cell_type": "markdown",
   "metadata": {
    "id": "VwGAkNefsZh4"
   },
   "source": [
    "### giriş ve çıkış değerlerini böl\n"
   ]
  },
  {
   "cell_type": "code",
   "execution_count": 24,
   "metadata": {
    "colab": {
     "base_uri": "https://localhost:8080/"
    },
    "id": "rlCzeQH6sZh5",
    "outputId": "674684aa-c720-45d5-a3ed-f9c5e24bc0e3"
   },
   "outputs": [
    {
     "name": "stdout",
     "output_type": "stream",
     "text": [
      "(21613, 18) (21613,)\n"
     ]
    }
   ],
   "source": [
    "#giriş ve çıkış değerlerini böl\n",
    "X, y = data[[\"bedrooms\",\"bathrooms\",\"sqft_living\",\"sqft_lot\",\"floors\",\"waterfront\",\"view\",\"condition\",\"grade\", \"sqft_above\",\"sqft_basement\",\"yr_built\",\"yr_renovated\",\"zipcode\",\"lat\", \"long\",\"sqft_living15\",\"sqft_lot15\"]] , data[\"price\"]\n",
    "print(X.shape,y.shape)"
   ]
  },
  {
   "cell_type": "markdown",
   "metadata": {
    "id": "HeCDIAgGsZh5"
   },
   "source": [
    "### train ve test verilerini ayrıştıralım"
   ]
  },
  {
   "cell_type": "code",
   "execution_count": 25,
   "metadata": {
    "colab": {
     "base_uri": "https://localhost:8080/"
    },
    "id": "ISqLd3xQsZh5",
    "outputId": "ae3e5abf-bfbd-4acf-843e-2edfe763a187"
   },
   "outputs": [
    {
     "name": "stdout",
     "output_type": "stream",
     "text": [
      "(17290, 18) (4323, 18) (17290,) (4323,)\n"
     ]
    }
   ],
   "source": [
    "#train ve test verilerini ayrıştıralım.\n",
    "X_train, X_test, y_train, y_test = train_test_split(X, y, test_size=0.20, random_state=5)\n",
    "print(X_train.shape, X_test.shape, y_train.shape, y_test.shape)"
   ]
  },
  {
   "cell_type": "markdown",
   "metadata": {
    "id": "Mi26qznGsZh5"
   },
   "source": [
    "### Test ve train verilerinin hepsinin ayrı ayrı logunu alıyoruz."
   ]
  },
  {
   "cell_type": "markdown",
   "metadata": {
    "id": "o6LKRi61sZh6"
   },
   "source": [
    "### y_train ve logaritmik y_train karşılaştırması"
   ]
  },
  {
   "cell_type": "code",
   "execution_count": 26,
   "metadata": {
    "id": "iSnCMAMgsZh6"
   },
   "outputs": [],
   "source": [
    "X_train_log = np.log1p(X_train)\n",
    "y_train_log = np.log1p(y_train)\n",
    "X_test_log  = np.log1p(X_test)\n",
    "y_test_log = np.log1p(y_test)\n"
   ]
  },
  {
   "cell_type": "markdown",
   "metadata": {
    "id": "nBlW79oysZh6"
   },
   "source": [
    "## Train edilmiş değerlerin logaritmik ifadeleri ile karşılaştırılması"
   ]
  },
  {
   "cell_type": "code",
   "execution_count": 27,
   "metadata": {
    "colab": {
     "base_uri": "https://localhost:8080/",
     "height": 0
    },
    "id": "shmE9WcjsZh6",
    "outputId": "f279f3ca-53bf-4362-9b96-0a82b5339ddd"
   },
   "outputs": [
    {
     "data": {
      "text/plain": [
       "Text(0.5, 0, 'Log X_test')"
      ]
     },
     "execution_count": 27,
     "metadata": {},
     "output_type": "execute_result"
    },
    {
     "data": {
      "image/png": "[encoded data removed]",
      "text/plain": [
       "<Figure size 432x288 with 2 Axes>"
      ]
     },
     "metadata": {},
     "output_type": "display_data"
    }
   ],
   "source": [
    "plt.subplot(1, 2, 1)\n",
    "sns.distplot(X_test, kde=False, fit = norm)\n",
    "plt.xlabel(\"X_test\")\n",
    "plt.subplot(1, 2, 2)\n",
    "sns.distplot(X_test_log, kde=False, fit = norm)\n",
    "plt.xlabel('Log X_test')"
   ]
  },
  {
   "cell_type": "code",
   "execution_count": 28,
   "metadata": {
    "colab": {
     "base_uri": "https://localhost:8080/",
     "height": 0
    },
    "id": "xYw4rlxAsZh7",
    "outputId": "01e23c90-101b-41d7-f4bb-716245f39b79"
   },
   "outputs": [
    {
     "data": {
      "text/plain": [
       "Text(0.5, 0, 'Log X_train')"
      ]
     },
     "execution_count": 28,
     "metadata": {},
     "output_type": "execute_result"
    },
    {
     "data": {
      "image/png": "[encoded data removed]",
      "text/plain": [
       "<Figure size 432x288 with 2 Axes>"
      ]
     },
     "metadata": {},
     "output_type": "display_data"
    }
   ],
   "source": [
    "plt.subplot(1, 2, 1)\n",
    "sns.distplot(X_train, kde=False, fit = norm)\n",
    "plt.xlabel(\"X_train\")\n",
    "plt.subplot(1, 2, 2)\n",
    "sns.distplot(X_train_log, kde=False, fit = norm)\n",
    "plt.xlabel('Log X_train')"
   ]
  },
  {
   "cell_type": "code",
   "execution_count": 29,
   "metadata": {
    "colab": {
     "base_uri": "https://localhost:8080/",
     "height": 0
    },
    "id": "lCmluFM6sZh7",
    "outputId": "46f17695-9520-4db8-8340-b522df181761"
   },
   "outputs": [
    {
     "data": {
      "text/plain": [
       "Text(0.5, 0, 'Log y_train')"
      ]
     },
     "execution_count": 29,
     "metadata": {},
     "output_type": "execute_result"
    },
    {
     "data": {
      "image/png": "[encoded data removed]",
      "text/plain": [
       "<Figure size 432x288 with 2 Axes>"
      ]
     },
     "metadata": {},
     "output_type": "display_data"
    }
   ],
   "source": [
    "plt.subplot(1, 2, 1)\n",
    "sns.distplot(y_train, kde=False, fit = norm)\n",
    "plt.xlabel(\"y_train\")\n",
    "plt.subplot(1, 2, 2)\n",
    "sns.distplot(y_train_log, kde=False, fit = norm)\n",
    "plt.xlabel('Log y_train')"
   ]
  },
  {
   "cell_type": "markdown",
   "metadata": {
    "id": "6qCoBdMysZh7"
   },
   "source": [
    "### Dönüştürmeleri kontrol ediyoruz."
   ]
  },
  {
   "cell_type": "code",
   "execution_count": 30,
   "metadata": {
    "colab": {
     "base_uri": "https://localhost:8080/"
    },
    "id": "t4HW3cKSsZh7",
    "outputId": "29815b01-b270-42f3-b048-103aebb034e0"
   },
   "outputs": [
    {
     "data": {
      "text/plain": [
       "3856     13.190024\n",
       "5010     12.959847\n",
       "18050    13.592368\n",
       "570      12.733463\n",
       "8556     13.918068\n",
       "           ...    \n",
       "5520     13.458837\n",
       "3046     12.865924\n",
       "20463    13.142168\n",
       "18638    13.155800\n",
       "2915     13.028055\n",
       "Name: price, Length: 17290, dtype: float64"
      ]
     },
     "execution_count": 30,
     "metadata": {},
     "output_type": "execute_result"
    }
   ],
   "source": [
    "y_train_log"
   ]
  },
  {
   "cell_type": "code",
   "execution_count": 31,
   "metadata": {
    "colab": {
     "base_uri": "https://localhost:8080/",
     "height": 0
    },
    "id": "2TbP9fDzsZh8",
    "outputId": "3d29f4c8-7034-4bb0-cd9e-3f32ebca9e6b"
   },
   "outputs": [
    {
     "data": {
      "text/html": [
       "<div>\n",
       "<style scoped>\n",
       "    .dataframe tbody tr th:only-of-type {\n",
       "        vertical-align: middle;\n",
       "    }\n",
       "\n",
       "    .dataframe tbody tr th {\n",
       "        vertical-align: top;\n",
       "    }\n",
       "\n",
       "    .dataframe thead th {\n",
       "        text-align: right;\n",
       "    }\n",
       "</style>\n",
       "<table border=\"1\" class=\"dataframe\">\n",
       "  <thead>\n",
       "    <tr style=\"text-align: right;\">\n",
       "      <th></th>\n",
       "      <th>bedrooms</th>\n",
       "      <th>bathrooms</th>\n",
       "      <th>sqft_living</th>\n",
       "      <th>sqft_lot</th>\n",
       "      <th>floors</th>\n",
       "      <th>waterfront</th>\n",
       "      <th>view</th>\n",
       "      <th>condition</th>\n",
       "      <th>grade</th>\n",
       "      <th>sqft_above</th>\n",
       "      <th>sqft_basement</th>\n",
       "      <th>yr_built</th>\n",
       "      <th>yr_renovated</th>\n",
       "      <th>zipcode</th>\n",
       "      <th>lat</th>\n",
       "      <th>long</th>\n",
       "      <th>sqft_living15</th>\n",
       "      <th>sqft_lot15</th>\n",
       "    </tr>\n",
       "  </thead>\n",
       "  <tbody>\n",
       "    <tr>\n",
       "      <th>3856</th>\n",
       "      <td>1.609438</td>\n",
       "      <td>1.252763</td>\n",
       "      <td>7.965893</td>\n",
       "      <td>10.085601</td>\n",
       "      <td>1.098612</td>\n",
       "      <td>0.0</td>\n",
       "      <td>1.386294</td>\n",
       "      <td>1.386294</td>\n",
       "      <td>2.302585</td>\n",
       "      <td>7.965893</td>\n",
       "      <td>0.000000</td>\n",
       "      <td>7.602401</td>\n",
       "      <td>0.0</td>\n",
       "      <td>11.492957</td>\n",
       "      <td>3.875616</td>\n",
       "      <td>4.812225</td>\n",
       "      <td>7.812378</td>\n",
       "      <td>9.741557</td>\n",
       "    </tr>\n",
       "    <tr>\n",
       "      <th>5010</th>\n",
       "      <td>1.098612</td>\n",
       "      <td>0.693147</td>\n",
       "      <td>6.431331</td>\n",
       "      <td>8.402007</td>\n",
       "      <td>0.693147</td>\n",
       "      <td>0.0</td>\n",
       "      <td>0.000000</td>\n",
       "      <td>1.386294</td>\n",
       "      <td>1.945910</td>\n",
       "      <td>6.431331</td>\n",
       "      <td>0.000000</td>\n",
       "      <td>7.564238</td>\n",
       "      <td>0.0</td>\n",
       "      <td>11.493926</td>\n",
       "      <td>3.885426</td>\n",
       "      <td>4.815391</td>\n",
       "      <td>7.074117</td>\n",
       "      <td>8.517393</td>\n",
       "    </tr>\n",
       "    <tr>\n",
       "      <th>18050</th>\n",
       "      <td>1.609438</td>\n",
       "      <td>1.252763</td>\n",
       "      <td>8.003363</td>\n",
       "      <td>9.729729</td>\n",
       "      <td>1.098612</td>\n",
       "      <td>0.0</td>\n",
       "      <td>0.000000</td>\n",
       "      <td>1.386294</td>\n",
       "      <td>2.484907</td>\n",
       "      <td>8.003363</td>\n",
       "      <td>0.000000</td>\n",
       "      <td>7.596392</td>\n",
       "      <td>0.0</td>\n",
       "      <td>11.493518</td>\n",
       "      <td>3.885932</td>\n",
       "      <td>4.812778</td>\n",
       "      <td>8.114025</td>\n",
       "      <td>9.839109</td>\n",
       "    </tr>\n",
       "    <tr>\n",
       "      <th>570</th>\n",
       "      <td>1.609438</td>\n",
       "      <td>1.252763</td>\n",
       "      <td>7.512618</td>\n",
       "      <td>8.632841</td>\n",
       "      <td>1.098612</td>\n",
       "      <td>0.0</td>\n",
       "      <td>0.000000</td>\n",
       "      <td>1.386294</td>\n",
       "      <td>2.079442</td>\n",
       "      <td>7.512618</td>\n",
       "      <td>0.000000</td>\n",
       "      <td>7.602900</td>\n",
       "      <td>0.0</td>\n",
       "      <td>11.493121</td>\n",
       "      <td>3.878615</td>\n",
       "      <td>4.812306</td>\n",
       "      <td>7.512618</td>\n",
       "      <td>8.699348</td>\n",
       "    </tr>\n",
       "    <tr>\n",
       "      <th>8556</th>\n",
       "      <td>1.609438</td>\n",
       "      <td>1.252763</td>\n",
       "      <td>8.108021</td>\n",
       "      <td>9.146442</td>\n",
       "      <td>1.098612</td>\n",
       "      <td>0.0</td>\n",
       "      <td>1.386294</td>\n",
       "      <td>1.386294</td>\n",
       "      <td>2.397895</td>\n",
       "      <td>8.108021</td>\n",
       "      <td>0.000000</td>\n",
       "      <td>7.595387</td>\n",
       "      <td>0.0</td>\n",
       "      <td>11.492794</td>\n",
       "      <td>3.882913</td>\n",
       "      <td>4.813111</td>\n",
       "      <td>7.962416</td>\n",
       "      <td>9.374158</td>\n",
       "    </tr>\n",
       "    <tr>\n",
       "      <th>...</th>\n",
       "      <td>...</td>\n",
       "      <td>...</td>\n",
       "      <td>...</td>\n",
       "      <td>...</td>\n",
       "      <td>...</td>\n",
       "      <td>...</td>\n",
       "      <td>...</td>\n",
       "      <td>...</td>\n",
       "      <td>...</td>\n",
       "      <td>...</td>\n",
       "      <td>...</td>\n",
       "      <td>...</td>\n",
       "      <td>...</td>\n",
       "      <td>...</td>\n",
       "      <td>...</td>\n",
       "      <td>...</td>\n",
       "      <td>...</td>\n",
       "      <td>...</td>\n",
       "    </tr>\n",
       "    <tr>\n",
       "      <th>5520</th>\n",
       "      <td>1.386294</td>\n",
       "      <td>1.011601</td>\n",
       "      <td>7.650169</td>\n",
       "      <td>8.517393</td>\n",
       "      <td>0.916291</td>\n",
       "      <td>0.0</td>\n",
       "      <td>0.000000</td>\n",
       "      <td>1.386294</td>\n",
       "      <td>2.197225</td>\n",
       "      <td>7.650169</td>\n",
       "      <td>0.000000</td>\n",
       "      <td>7.558517</td>\n",
       "      <td>0.0</td>\n",
       "      <td>11.493926</td>\n",
       "      <td>3.885219</td>\n",
       "      <td>4.815107</td>\n",
       "      <td>7.512618</td>\n",
       "      <td>8.343078</td>\n",
       "    </tr>\n",
       "    <tr>\n",
       "      <th>3046</th>\n",
       "      <td>1.386294</td>\n",
       "      <td>0.693147</td>\n",
       "      <td>7.193686</td>\n",
       "      <td>9.259226</td>\n",
       "      <td>0.693147</td>\n",
       "      <td>0.0</td>\n",
       "      <td>0.000000</td>\n",
       "      <td>1.386294</td>\n",
       "      <td>2.079442</td>\n",
       "      <td>6.867974</td>\n",
       "      <td>5.916202</td>\n",
       "      <td>7.582738</td>\n",
       "      <td>0.0</td>\n",
       "      <td>11.493080</td>\n",
       "      <td>3.886098</td>\n",
       "      <td>4.813777</td>\n",
       "      <td>7.286876</td>\n",
       "      <td>9.354527</td>\n",
       "    </tr>\n",
       "    <tr>\n",
       "      <th>20463</th>\n",
       "      <td>1.386294</td>\n",
       "      <td>1.252763</td>\n",
       "      <td>7.912423</td>\n",
       "      <td>8.873048</td>\n",
       "      <td>1.098612</td>\n",
       "      <td>0.0</td>\n",
       "      <td>0.000000</td>\n",
       "      <td>1.386294</td>\n",
       "      <td>2.197225</td>\n",
       "      <td>7.912423</td>\n",
       "      <td>0.000000</td>\n",
       "      <td>7.607381</td>\n",
       "      <td>0.0</td>\n",
       "      <td>11.494751</td>\n",
       "      <td>3.879372</td>\n",
       "      <td>4.814791</td>\n",
       "      <td>7.664347</td>\n",
       "      <td>9.097508</td>\n",
       "    </tr>\n",
       "    <tr>\n",
       "      <th>18638</th>\n",
       "      <td>1.098612</td>\n",
       "      <td>0.916291</td>\n",
       "      <td>7.560601</td>\n",
       "      <td>8.134174</td>\n",
       "      <td>0.693147</td>\n",
       "      <td>0.0</td>\n",
       "      <td>0.000000</td>\n",
       "      <td>1.609438</td>\n",
       "      <td>2.079442</td>\n",
       "      <td>6.867974</td>\n",
       "      <td>6.867974</td>\n",
       "      <td>7.556428</td>\n",
       "      <td>0.0</td>\n",
       "      <td>11.493977</td>\n",
       "      <td>3.883866</td>\n",
       "      <td>4.814612</td>\n",
       "      <td>7.030857</td>\n",
       "      <td>8.134174</td>\n",
       "    </tr>\n",
       "    <tr>\n",
       "      <th>2915</th>\n",
       "      <td>1.386294</td>\n",
       "      <td>1.011601</td>\n",
       "      <td>7.170888</td>\n",
       "      <td>9.169623</td>\n",
       "      <td>0.693147</td>\n",
       "      <td>0.0</td>\n",
       "      <td>0.000000</td>\n",
       "      <td>1.609438</td>\n",
       "      <td>2.079442</td>\n",
       "      <td>7.170888</td>\n",
       "      <td>0.000000</td>\n",
       "      <td>7.585789</td>\n",
       "      <td>0.0</td>\n",
       "      <td>11.493263</td>\n",
       "      <td>3.884422</td>\n",
       "      <td>4.813021</td>\n",
       "      <td>7.635787</td>\n",
       "      <td>9.187686</td>\n",
       "    </tr>\n",
       "  </tbody>\n",
       "</table>\n",
       "<p>17290 rows × 18 columns</p>\n",
       "</div>"
      ],
      "text/plain": [
       "       bedrooms  bathrooms  sqft_living   sqft_lot    floors  waterfront  \\\n",
       "3856   1.609438   1.252763     7.965893  10.085601  1.098612         0.0   \n",
       "5010   1.098612   0.693147     6.431331   8.402007  0.693147         0.0   \n",
       "18050  1.609438   1.252763     8.003363   9.729729  1.098612         0.0   \n",
       "570    1.609438   1.252763     7.512618   8.632841  1.098612         0.0   \n",
       "8556   1.609438   1.252763     8.108021   9.146442  1.098612         0.0   \n",
       "...         ...        ...          ...        ...       ...         ...   \n",
       "5520   1.386294   1.011601     7.650169   8.517393  0.916291         0.0   \n",
       "3046   1.386294   0.693147     7.193686   9.259226  0.693147         0.0   \n",
       "20463  1.386294   1.252763     7.912423   8.873048  1.098612         0.0   \n",
       "18638  1.098612   0.916291     7.560601   8.134174  0.693147         0.0   \n",
       "2915   1.386294   1.011601     7.170888   9.169623  0.693147         0.0   \n",
       "\n",
       "           view  condition     grade  sqft_above  sqft_basement  yr_built  \\\n",
       "3856   1.386294   1.386294  2.302585    7.965893       0.000000  7.602401   \n",
       "5010   0.000000   1.386294  1.945910    6.431331       0.000000  7.564238   \n",
       "18050  0.000000   1.386294  2.484907    8.003363       0.000000  7.596392   \n",
       "570    0.000000   1.386294  2.079442    7.512618       0.000000  7.602900   \n",
       "8556   1.386294   1.386294  2.397895    8.108021       0.000000  7.595387   \n",
       "...         ...        ...       ...         ...            ...       ...   \n",
       "5520   0.000000   1.386294  2.197225    7.650169       0.000000  7.558517   \n",
       "3046   0.000000   1.386294  2.079442    6.867974       5.916202  7.582738   \n",
       "20463  0.000000   1.386294  2.197225    7.912423       0.000000  7.607381   \n",
       "18638  0.000000   1.609438  2.079442    6.867974       6.867974  7.556428   \n",
       "2915   0.000000   1.609438  2.079442    7.170888       0.000000  7.585789   \n",
       "\n",
       "       yr_renovated    zipcode       lat      long  sqft_living15  sqft_lot15  \n",
       "3856            0.0  11.492957  3.875616  4.812225       7.812378    9.741557  \n",
       "5010            0.0  11.493926  3.885426  4.815391       7.074117    8.517393  \n",
       "18050           0.0  11.493518  3.885932  4.812778       8.114025    9.839109  \n",
       "570             0.0  11.493121  3.878615  4.812306       7.512618    8.699348  \n",
       "8556            0.0  11.492794  3.882913  4.813111       7.962416    9.374158  \n",
       "...             ...        ...       ...       ...            ...         ...  \n",
       "5520            0.0  11.493926  3.885219  4.815107       7.512618    8.343078  \n",
       "3046            0.0  11.493080  3.886098  4.813777       7.286876    9.354527  \n",
       "20463           0.0  11.494751  3.879372  4.814791       7.664347    9.097508  \n",
       "18638           0.0  11.493977  3.883866  4.814612       7.030857    8.134174  \n",
       "2915            0.0  11.493263  3.884422  4.813021       7.635787    9.187686  \n",
       "\n",
       "[17290 rows x 18 columns]"
      ]
     },
     "execution_count": 31,
     "metadata": {},
     "output_type": "execute_result"
    }
   ],
   "source": [
    "X_train_log"
   ]
  },
  {
   "cell_type": "markdown",
   "metadata": {
    "id": "IEgelXGosZh8"
   },
   "source": [
    "### kayıp verilerin dağılımlarını bulalım.\n"
   ]
  },
  {
   "cell_type": "code",
   "execution_count": 32,
   "metadata": {
    "colab": {
     "base_uri": "https://localhost:8080/"
    },
    "id": "1UkjPKKgsZh8",
    "outputId": "abf3f395-525a-433a-dbed-dac6c4f5da05"
   },
   "outputs": [
    {
     "name": "stdout",
     "output_type": "stream",
     "text": [
      "Percent of missing data\n"
     ]
    },
    {
     "data": {
      "text/plain": [
       "[('price', 0.0),\n",
       " ('bedrooms', 0.0),\n",
       " ('bathrooms', 0.0),\n",
       " ('sqft_living', 0.0),\n",
       " ('sqft_lot', 0.0),\n",
       " ('floors', 0.0),\n",
       " ('waterfront', 0.0),\n",
       " ('view', 0.0),\n",
       " ('condition', 0.0),\n",
       " ('grade', 0.0)]"
      ]
     },
     "execution_count": 32,
     "metadata": {},
     "output_type": "execute_result"
    }
   ],
   "source": [
    "# kayıp verilerin dağılımlarını bulalım.\n",
    "def percent_missing(df):\n",
    "    data = pd.DataFrame(df)\n",
    "    df_cols = list(pd.DataFrame(data))\n",
    "    dict_x = {}\n",
    "    for i in range(0, len(df_cols)):\n",
    "        dict_x.update({df_cols[i]: round(data[df_cols[i]].isnull().mean()*100,2)})\n",
    "    \n",
    "    return dict_x\n",
    "\n",
    "missing = percent_missing(data)\n",
    "df_miss = sorted(missing.items(), key=lambda x: x[1], reverse=True)\n",
    "print('Percent of missing data')\n",
    "df_miss[0:10]\n"
   ]
  },
  {
   "cell_type": "markdown",
   "metadata": {
    "id": "Tr_W_yeVsZh9"
   },
   "source": [
    "### Hiç kayıp yok."
   ]
  },
  {
   "cell_type": "markdown",
   "metadata": {
    "id": "kOCoyy69sZh9"
   },
   "source": [
    "### Varsa tekrarlayan satırları sil\n"
   ]
  },
  {
   "cell_type": "code",
   "execution_count": 33,
   "metadata": {
    "id": "4vZHavu6sZh9"
   },
   "outputs": [],
   "source": [
    "# tekrarlayan satırları sil\n",
    "data = data.loc[:,~data.columns.duplicated()]\n"
   ]
  },
  {
   "cell_type": "markdown",
   "metadata": {
    "id": "tx5g3WamsZh9"
   },
   "source": [
    "### XGB modelini oluşturuyoruz ve bunun hata oranına bakıyoruz."
   ]
  },
  {
   "cell_type": "code",
   "execution_count": 34,
   "metadata": {
    "colab": {
     "base_uri": "https://localhost:8080/"
    },
    "id": "0QvCEwgCsZh9",
    "outputId": "320f4ab3-dfef-4aa3-d0b9-56921c4a1eac"
   },
   "outputs": [
    {
     "name": "stdout",
     "output_type": "stream",
     "text": [
      "[06:52:57] WARNING: /workspace/src/objective/regression_obj.cu:152: reg:linear is now deprecated in favor of reg:squarederror.\n"
     ]
    },
    {
     "data": {
      "text/plain": [
       "XGBRegressor(base_score=0.5, booster='gbtree', colsample_bylevel=1,\n",
       "             colsample_bynode=1, colsample_bytree=1, gamma=0,\n",
       "             importance_type='gain', learning_rate=0.1, max_delta_step=0,\n",
       "             max_depth=3, min_child_weight=1, missing=None, n_estimators=100,\n",
       "             n_jobs=1, nthread=None, objective='reg:linear', random_state=1,\n",
       "             reg_alpha=0, reg_lambda=1, scale_pos_weight=1, seed=None,\n",
       "             silent=None, subsample=1, verbosity=1)"
      ]
     },
     "execution_count": 34,
     "metadata": {},
     "output_type": "execute_result"
    }
   ],
   "source": [
    "#modeli oluşturuyoruz.\n",
    "model = XGBRegressor(random_state=1)\n",
    "model.fit(X_train,y_train)"
   ]
  },
  {
   "cell_type": "code",
   "execution_count": 35,
   "metadata": {
    "colab": {
     "base_uri": "https://localhost:8080/"
    },
    "id": "5BnXB4MRsZh-",
    "outputId": "347dfffc-389d-4fd8-ceac-37c0f145bfa8"
   },
   "outputs": [
    {
     "name": "stdout",
     "output_type": "stream",
     "text": [
      "MAE:  80716.90878007171\n",
      "MSE:  18836752163.95818\n",
      "RMSE:  137247.04792438407\n"
     ]
    }
   ],
   "source": [
    "#tahmin yapalım\n",
    "yhat = model.predict(X_test)\n",
    "\n",
    "mae= mean_absolute_error(y_test,yhat)\n",
    "print(\"MAE: \", mae)\n",
    "mse = mean_squared_error(y_test,yhat)\n",
    "print(\"MSE: \", mse)\n",
    "rmse= np.sqrt(mse)\n",
    "print(\"RMSE: \", rmse)\n"
   ]
  },
  {
   "cell_type": "code",
   "execution_count": 36,
   "metadata": {
    "colab": {
     "base_uri": "https://localhost:8080/"
    },
    "id": "PHwV_rLysZh-",
    "outputId": "dc080cd4-d5d8-418c-e81e-f2e13f1430f7"
   },
   "outputs": [
    {
     "data": {
      "text/plain": [
       "array([339868.16, 232022.22, 358581.62, ..., 607908.94, 618753.5 ,\n",
       "       582401.4 ], dtype=float32)"
      ]
     },
     "execution_count": 36,
     "metadata": {},
     "output_type": "execute_result"
    }
   ],
   "source": [
    "yhat"
   ]
  },
  {
   "cell_type": "markdown",
   "metadata": {
    "id": "vIe3TnHusZh-"
   },
   "source": [
    "## Normalizasyon işlemi"
   ]
  },
  {
   "cell_type": "markdown",
   "metadata": {
    "id": "ReTiwa9ysZh-"
   },
   "source": [
    "### X_train'e normalizasyon işlemi uygulanması"
   ]
  },
  {
   "cell_type": "code",
   "execution_count": 37,
   "metadata": {
    "colab": {
     "base_uri": "https://localhost:8080/"
    },
    "id": "W7UoGk7zsZh-",
    "outputId": "27adb563-26b4-4961-836c-2e1cea453c84",
    "scrolled": true
   },
   "outputs": [
    {
     "name": "stdout",
     "output_type": "stream",
     "text": [
      "[[0.12121212 0.3125     0.1899696  ... 0.5730897  0.34956522 0.01879044]\n",
      " [0.06060606 0.125      0.01823708 ... 0.89700997 0.12521739 0.0049957 ]\n",
      " [0.12121212 0.3125     0.19832827 ... 0.62956811 0.50086957 0.02079263]\n",
      " ...\n",
      " [0.09090909 0.3125     0.17857143 ... 0.83554817 0.29043478 0.00951239]\n",
      " [0.06060606 0.1875     0.11702128 ... 0.81727575 0.11652174 0.00316697]\n",
      " [0.09090909 0.21875    0.06990881 ... 0.65448505 0.28       0.01048074]]\n"
     ]
    }
   ],
   "source": [
    "scale_x_train = preprocessing.MinMaxScaler()\n",
    "X_train_norm = scale_x_train.fit_transform(X_train)\n",
    "print(X_train_norm)"
   ]
  },
  {
   "cell_type": "markdown",
   "metadata": {
    "id": "rsorArQ7sZh_"
   },
   "source": [
    "### X_test'e normalizasyon işlemi uygulanması\n"
   ]
  },
  {
   "cell_type": "code",
   "execution_count": 38,
   "metadata": {
    "colab": {
     "base_uri": "https://localhost:8080/"
    },
    "id": "XaiUul_DsZh_",
    "outputId": "c2f9d472-bf7e-450a-8d2a-3704aac18cc7"
   },
   "outputs": [
    {
     "name": "stdout",
     "output_type": "stream",
     "text": [
      "[[0.12121212 0.3125     0.18389058 ... 0.65863787 0.27826087 0.00708633]\n",
      " [0.09090909 0.125      0.06610942 ... 0.78156146 0.23304348 0.00876688]\n",
      " [0.09090909 0.125      0.0881459  ... 0.88039867 0.13217391 0.00814314]\n",
      " ...\n",
      " [0.12121212 0.3125     0.14133739 ... 0.82475083 0.26086957 0.00758027]\n",
      " [0.15151515 0.34375    0.16489362 ... 0.71096346 0.34608696 0.00812591]\n",
      " [0.12121212 0.3125     0.12613982 ... 0.57475083 0.29043478 0.00556545]]\n"
     ]
    }
   ],
   "source": [
    "X_test_norm = scale_x_train.transform(X_test)\n",
    "print(X_test_norm)"
   ]
  },
  {
   "cell_type": "markdown",
   "metadata": {
    "id": "qh_2-tx9sZh_"
   },
   "source": [
    "### y değerlerini reshape ediyoruz"
   ]
  },
  {
   "cell_type": "code",
   "execution_count": 39,
   "metadata": {
    "id": "mOY0YegzsZh_"
   },
   "outputs": [],
   "source": [
    "y_train1 = y_train.values.reshape(-1,1)\n",
    "y_test1 = y_test.values.reshape(-1,1)\n"
   ]
  },
  {
   "cell_type": "markdown",
   "metadata": {
    "id": "HL8jE5uZsZiA"
   },
   "source": [
    "### y_train'e normalizasyon işlemi uygulanması"
   ]
  },
  {
   "cell_type": "code",
   "execution_count": 40,
   "metadata": {
    "colab": {
     "base_uri": "https://localhost:8080/"
    },
    "id": "a23eHXwTsZiA",
    "outputId": "bca4bd97-2f22-4fec-f164-eb72295f36ab"
   },
   "outputs": [
    {
     "name": "stdout",
     "output_type": "stream",
     "text": [
      "[[0.06032787]\n",
      " [0.04590164]\n",
      " [0.09508197]\n",
      " ...\n",
      " [0.05704918]\n",
      " [0.05796721]\n",
      " [0.04983607]]\n"
     ]
    }
   ],
   "source": [
    "scale_y_train = preprocessing.MinMaxScaler()\n",
    "y_train_norm = scale_y_train.fit_transform(y_train1)\n",
    "print(y_train_norm)"
   ]
  },
  {
   "cell_type": "markdown",
   "metadata": {
    "id": "PXPh8Ao8sZiA"
   },
   "source": [
    "### y_test'e normalizasyon işlemi uygulanması"
   ]
  },
  {
   "cell_type": "code",
   "execution_count": 41,
   "metadata": {
    "colab": {
     "base_uri": "https://localhost:8080/"
    },
    "id": "pIESglmUsZiA",
    "outputId": "57af1615-840e-4f3d-db92-7f26de6cb96f"
   },
   "outputs": [
    {
     "name": "stdout",
     "output_type": "stream",
     "text": [
      "[[0.03803279]\n",
      " [0.01967213]\n",
      " [0.04064918]\n",
      " ...\n",
      " [0.07593443]\n",
      " [0.05311475]\n",
      " [0.06557377]]\n"
     ]
    }
   ],
   "source": [
    "y_test_norm = scale_y_train.transform(y_test1)\n",
    "print(y_test_norm)"
   ]
  },
  {
   "cell_type": "markdown",
   "metadata": {
    "id": "E-ITmyJRsZiB"
   },
   "source": [
    "## Normalize edilmiş veriler ile eğitim: "
   ]
  },
  {
   "cell_type": "code",
   "execution_count": 42,
   "metadata": {
    "colab": {
     "base_uri": "https://localhost:8080/"
    },
    "id": "WwhnEbMosZiB",
    "outputId": "7f30b4fa-c2c5-4b01-bb60-4d13a2872886"
   },
   "outputs": [
    {
     "name": "stdout",
     "output_type": "stream",
     "text": [
      "[06:52:59] WARNING: /workspace/src/objective/regression_obj.cu:152: reg:linear is now deprecated in favor of reg:squarederror.\n"
     ]
    },
    {
     "data": {
      "text/plain": [
       "XGBRegressor(base_score=0.5, booster='gbtree', colsample_bylevel=1,\n",
       "             colsample_bynode=1, colsample_bytree=1, gamma=0,\n",
       "             importance_type='gain', learning_rate=0.1, max_delta_step=0,\n",
       "             max_depth=3, min_child_weight=1, missing=None, n_estimators=100,\n",
       "             n_jobs=1, nthread=None, objective='reg:linear', random_state=1,\n",
       "             reg_alpha=0, reg_lambda=1, scale_pos_weight=1, seed=None,\n",
       "             silent=None, subsample=1, verbosity=1)"
      ]
     },
     "execution_count": 42,
     "metadata": {},
     "output_type": "execute_result"
    }
   ],
   "source": [
    "#modeli oluşturuyoruz.\n",
    "model_norm = XGBRegressor(random_state=1)\n",
    "model_norm.fit(X_train_norm,y_train_norm)"
   ]
  },
  {
   "cell_type": "code",
   "execution_count": 43,
   "metadata": {
    "id": "pRsUAgIgsZiB"
   },
   "outputs": [],
   "source": [
    "#tahmin yapalım\n",
    "yhat_norm = model_norm.predict(X_test_norm)"
   ]
  },
  {
   "cell_type": "code",
   "execution_count": 44,
   "metadata": {
    "id": "FXa3xg7XsZiB"
   },
   "outputs": [],
   "source": [
    "yhat_norm1  = yhat_norm.reshape(-1,1)"
   ]
  },
  {
   "cell_type": "code",
   "execution_count": 45,
   "metadata": {
    "id": "V08dCE-RsZiB"
   },
   "outputs": [],
   "source": [
    "yhat_norm_reel = scale_y_train.inverse_transform(yhat_norm1)"
   ]
  },
  {
   "cell_type": "code",
   "execution_count": 46,
   "metadata": {
    "colab": {
     "base_uri": "https://localhost:8080/"
    },
    "id": "M0UxEJwxsZiC",
    "outputId": "6c1d140c-194d-437a-e6ac-e5854c2ef69b"
   },
   "outputs": [
    {
     "data": {
      "text/plain": [
       "array([[329827.47],\n",
       "       [238124.12],\n",
       "       [351687.1 ],\n",
       "       ...,\n",
       "       [597660.94],\n",
       "       [640578.  ],\n",
       "       [572824.44]], dtype=float32)"
      ]
     },
     "execution_count": 46,
     "metadata": {},
     "output_type": "execute_result"
    }
   ],
   "source": [
    "yhat_norm_reel"
   ]
  },
  {
   "cell_type": "code",
   "execution_count": 1,
   "metadata": {
    "colab": {
     "base_uri": "https://localhost:8080/"
    },
    "id": "RgGLtSj3sZiC",
    "outputId": "a24c48c0-b108-4ca4-ff14-d113edb56610"
   },
   "outputs": [
    {
     "ename": "NameError",
     "evalue": "name 'yhat' is not defined",
     "output_type": "error",
     "traceback": [
      "\u001b[1;31m---------------------------------------------------------------------------\u001b[0m",
      "\u001b[1;31mNameError\u001b[0m                                 Traceback (most recent call last)",
      "\u001b[1;32m<ipython-input-1-0e80bf90ef94>\u001b[0m in \u001b[0;36m<module>\u001b[1;34m\u001b[0m\n\u001b[1;32m----> 1\u001b[1;33m \u001b[0myhat\u001b[0m\u001b[1;33m\u001b[0m\u001b[1;33m\u001b[0m\u001b[0m\n\u001b[0m",
      "\u001b[1;31mNameError\u001b[0m: name 'yhat' is not defined"
     ]
    }
   ],
   "source": [
    "yhat"
   ]
  },
  {
   "cell_type": "markdown",
   "metadata": {
    "id": "tAMfYP0QsZiC"
   },
   "source": [
    "## LOG'lu Normalize ile eğitim"
   ]
  },
  {
   "cell_type": "markdown",
   "metadata": {
    "id": "wT0-ryIbsZiC"
   },
   "source": [
    "### log >> scale "
   ]
  },
  {
   "cell_type": "markdown",
   "metadata": {
    "id": "b1qG6K8SsZiC"
   },
   "source": [
    "### X train logu normalize edelim"
   ]
  },
  {
   "cell_type": "code",
   "execution_count": 48,
   "metadata": {
    "colab": {
     "base_uri": "https://localhost:8080/"
    },
    "id": "xRUBhphvsZiD",
    "outputId": "e2002578-4e23-4e54-b315-1ee1bc0b4e45"
   },
   "outputs": [
    {
     "name": "stdout",
     "output_type": "stream",
     "text": [
      "[[0.45640198 0.570157   0.56658521 ... 0.57428737 0.64559296 0.45313988]\n",
      " [0.31154282 0.31546488 0.13681763 ... 0.89746126 0.36172043 0.28306009]\n",
      " [0.45640198 0.570157   0.57707911 ... 0.63070933 0.76158084 0.46669337]\n",
      " ...\n",
      " [0.39312326 0.570157   0.55161057 ... 0.83621967 0.58867261 0.36365858]\n",
      " [0.31154282 0.41702188 0.45307972 ... 0.81800563 0.34508656 0.22981737]\n",
      " [0.39312326 0.46039942 0.34393723 ... 0.65559146 0.57769095 0.37618753]]\n"
     ]
    }
   ],
   "source": [
    "scale_x_train_log = preprocessing.MinMaxScaler()\n",
    "X_train_log_norm = scale_x_train_log.fit_transform(X_train_log)\n",
    "print(X_train_log_norm)"
   ]
  },
  {
   "cell_type": "markdown",
   "metadata": {
    "id": "WXxlq7iqsZiD"
   },
   "source": [
    "### X test logu normalize edelim"
   ]
  },
  {
   "cell_type": "code",
   "execution_count": 49,
   "metadata": {
    "colab": {
     "base_uri": "https://localhost:8080/"
    },
    "id": "4PUcSDkdsZiD",
    "outputId": "e578b3d5-9190-4d4a-b6bf-0b214254c8e6"
   },
   "outputs": [
    {
     "name": "stdout",
     "output_type": "stream",
     "text": [
      "[[0.45640198 0.570157   0.55869848 ... 0.65973789 0.57582979 0.32618126]\n",
      " [0.39312326 0.31546488 0.33296173 ... 0.78239607 0.52397825 0.35317919]\n",
      " [0.39312326 0.31546488 0.39135073 ... 0.8809131  0.3745281  0.34376004]\n",
      " ...\n",
      " [0.45640198 0.570157   0.49623015 ... 0.82545722 0.55670527 0.33467484]\n",
      " [0.50810445 0.60155701 0.53251549 ... 0.71196851 0.64246808 0.34349056]\n",
      " [0.45640198 0.570157   0.4700496  ... 0.57594729 0.58867261 0.29619847]]\n"
     ]
    }
   ],
   "source": [
    "X_test_log_norm = scale_x_train_log.transform(X_test_log)\n",
    "print(X_test_log_norm)"
   ]
  },
  {
   "cell_type": "markdown",
   "metadata": {
    "id": "pnHJY_zDsZiD"
   },
   "source": [
    "### Y train logu normalize edelim"
   ]
  },
  {
   "cell_type": "code",
   "execution_count": 50,
   "metadata": {
    "id": "W0M82IGosZiE"
   },
   "outputs": [],
   "source": [
    "y_train_log1 = y_train_log.values.reshape(-1,1)\n"
   ]
  },
  {
   "cell_type": "code",
   "execution_count": 51,
   "metadata": {
    "colab": {
     "base_uri": "https://localhost:8080/"
    },
    "id": "v-pX8w2fsZiE",
    "outputId": "142b1483-45ff-4f27-84a5-05024f094996"
   },
   "outputs": [
    {
     "name": "stdout",
     "output_type": "stream",
     "text": [
      "[[0.42422068]\n",
      " [0.37452223]\n",
      " [0.51109245]\n",
      " ...\n",
      " [0.41388792]\n",
      " [0.41683128]\n",
      " [0.38924931]]\n"
     ]
    }
   ],
   "source": [
    "scale_y_train_log = preprocessing.MinMaxScaler()\n",
    "y_train_log_norm = scale_y_train_log.fit_transform(y_train_log1)\n",
    "print(y_train_log_norm)"
   ]
  },
  {
   "cell_type": "markdown",
   "metadata": {
    "id": "gIAQ4EggsZiE"
   },
   "source": [
    "### Y test logu normalize edelim"
   ]
  },
  {
   "cell_type": "code",
   "execution_count": 52,
   "metadata": {
    "id": "x3PlTfFWsZiE"
   },
   "outputs": [],
   "source": [
    "y_test_log1 = y_test_log.values.reshape(-1,1)\n"
   ]
  },
  {
   "cell_type": "code",
   "execution_count": 53,
   "metadata": {
    "colab": {
     "base_uri": "https://localhost:8080/"
    },
    "id": "WggITIPGsZiE",
    "outputId": "de117f6a-dbfb-4210-9d18-fc3671448e35"
   },
   "outputs": [
    {
     "name": "stdout",
     "output_type": "stream",
     "text": [
      "[[0.36153313]\n",
      " [0.24819043]\n",
      " [0.37400047]\n",
      " ...\n",
      " [0.49816626]\n",
      " [0.42569915]\n",
      " [0.46800596]]\n"
     ]
    }
   ],
   "source": [
    "scale_y_test_log = preprocessing.MinMaxScaler()\n",
    "y_test_log_norm = scale_y_test_log.fit_transform(y_test_log1)\n",
    "print(y_test_log_norm)"
   ]
  },
  {
   "cell_type": "markdown",
   "metadata": {
    "id": "z5M4ieSisZiF"
   },
   "source": [
    "### Eğitim"
   ]
  },
  {
   "cell_type": "code",
   "execution_count": 54,
   "metadata": {
    "colab": {
     "base_uri": "https://localhost:8080/"
    },
    "id": "YOlOejYVsZiF",
    "outputId": "f6829ffd-2a07-4444-c55a-b829ce3e6104"
   },
   "outputs": [
    {
     "name": "stdout",
     "output_type": "stream",
     "text": [
      "[06:53:00] WARNING: /workspace/src/objective/regression_obj.cu:152: reg:linear is now deprecated in favor of reg:squarederror.\n"
     ]
    },
    {
     "data": {
      "text/plain": [
       "XGBRegressor(base_score=0.5, booster='gbtree', colsample_bylevel=1,\n",
       "             colsample_bynode=1, colsample_bytree=1, gamma=0,\n",
       "             importance_type='gain', learning_rate=0.1, max_delta_step=0,\n",
       "             max_depth=3, min_child_weight=1, missing=None, n_estimators=100,\n",
       "             n_jobs=1, nthread=None, objective='reg:linear', random_state=1,\n",
       "             reg_alpha=0, reg_lambda=1, scale_pos_weight=1, seed=None,\n",
       "             silent=None, subsample=1, verbosity=1)"
      ]
     },
     "execution_count": 54,
     "metadata": {},
     "output_type": "execute_result"
    }
   ],
   "source": [
    "#modeli oluşturuyoruz.\n",
    "model_log_norm = XGBRegressor(random_state=1)\n",
    "model_log_norm.fit(X_train_log_norm,y_train_log_norm)"
   ]
  },
  {
   "cell_type": "code",
   "execution_count": 55,
   "metadata": {
    "id": "yumMO6pgsZiF"
   },
   "outputs": [],
   "source": [
    "#tahmin yapalım\n",
    "yhat_log_norm = model_log_norm.predict(X_test_log_norm)"
   ]
  },
  {
   "cell_type": "code",
   "execution_count": 56,
   "metadata": {
    "colab": {
     "base_uri": "https://localhost:8080/"
    },
    "id": "lBuNBkbpsZiF",
    "outputId": "685f73f2-ff8d-43e4-8d65-101def6ced34"
   },
   "outputs": [
    {
     "data": {
      "text/plain": [
       "array([0.3316266 , 0.2311182 , 0.33728737, ..., 0.44722995, 0.4620958 ,\n",
       "       0.4422964 ], dtype=float32)"
      ]
     },
     "execution_count": 56,
     "metadata": {},
     "output_type": "execute_result"
    }
   ],
   "source": [
    "yhat_log_norm"
   ]
  },
  {
   "cell_type": "code",
   "execution_count": 57,
   "metadata": {
    "id": "h3Lp88KPsZiG"
   },
   "outputs": [],
   "source": [
    "yhat_log_norm1  = yhat_log_norm.reshape(-1,1)"
   ]
  },
  {
   "cell_type": "markdown",
   "metadata": {
    "id": "OkFVlSmYsZiG"
   },
   "source": [
    "### scale >> log"
   ]
  },
  {
   "cell_type": "code",
   "execution_count": 58,
   "metadata": {
    "id": "9V6tiuutsZiH"
   },
   "outputs": [],
   "source": [
    "yhat_log_norm_reel = scale_y_train_log.inverse_transform(yhat_log_norm1)"
   ]
  },
  {
   "cell_type": "code",
   "execution_count": 59,
   "metadata": {
    "colab": {
     "base_uri": "https://localhost:8080/"
    },
    "id": "gw8xJrl0sZiI",
    "outputId": "6dfb8e17-a8f6-45f3-fd1a-278fcdec9193"
   },
   "outputs": [
    {
     "data": {
      "text/plain": [
       "array([[12.761176],\n",
       "       [12.295675],\n",
       "       [12.787395],\n",
       "       ...,\n",
       "       [13.296591],\n",
       "       [13.365441],\n",
       "       [13.273741]], dtype=float32)"
      ]
     },
     "execution_count": 59,
     "metadata": {},
     "output_type": "execute_result"
    }
   ],
   "source": [
    "yhat_log_norm_reel"
   ]
  },
  {
   "cell_type": "code",
   "execution_count": 60,
   "metadata": {
    "id": "UoJm_k_jsZiI"
   },
   "outputs": [],
   "source": [
    "#logaritmadan kurtarıyoruz\n",
    "y_hat_log_norm_reel = (math.e)**yhat_log_norm_reel"
   ]
  },
  {
   "cell_type": "code",
   "execution_count": 61,
   "metadata": {
    "id": "D1ZHG4ybsZiI"
   },
   "outputs": [],
   "source": [
    "y_hat_log_norm_reel = y_hat_log_norm_reel.reshape(1,-1)"
   ]
  },
  {
   "cell_type": "code",
   "execution_count": 62,
   "metadata": {
    "colab": {
     "base_uri": "https://localhost:8080/"
    },
    "id": "UD3mXghRsZiT",
    "outputId": "407a5780-8f99-43b3-ea12-d0b8d986442c"
   },
   "outputs": [
    {
     "data": {
      "text/plain": [
       "array([[348424.1 , 218747.83, 357680.03, ..., 595162.9 , 637583.75,\n",
       "        581717.56]], dtype=float32)"
      ]
     },
     "execution_count": 62,
     "metadata": {},
     "output_type": "execute_result"
    }
   ],
   "source": [
    "y_hat_log_norm_reel"
   ]
  },
  {
   "cell_type": "code",
   "execution_count": 63,
   "metadata": {
    "colab": {
     "base_uri": "https://localhost:8080/"
    },
    "id": "l8n8oC5CsZiU",
    "outputId": "bcec3893-2027-4623-a256-1dc76504a32d"
   },
   "outputs": [
    {
     "data": {
      "text/plain": [
       "array([339868.16, 232022.22, 358581.62, ..., 607908.94, 618753.5 ,\n",
       "       582401.4 ], dtype=float32)"
      ]
     },
     "execution_count": 63,
     "metadata": {},
     "output_type": "execute_result"
    }
   ],
   "source": [
    "yhat"
   ]
  },
  {
   "cell_type": "markdown",
   "metadata": {
    "id": "LIxKAUWxkq1m"
   },
   "source": [
    "Log-norm değerlerinde nan ifade var mı bunu kontrol edelim."
   ]
  },
  {
   "cell_type": "code",
   "execution_count": 64,
   "metadata": {
    "colab": {
     "base_uri": "https://localhost:8080/"
    },
    "id": "S-RvGW5ikxdM",
    "outputId": "17fc652d-bfea-4fa1-d997-db7ad81ff7d8"
   },
   "outputs": [
    {
     "data": {
      "text/plain": [
       "array([[0.45640198, 0.570157  , 0.55869848, ..., 0.65973789, 0.57582979,\n",
       "        0.32618126],\n",
       "       [0.39312326, 0.31546488, 0.33296173, ..., 0.78239607, 0.52397825,\n",
       "        0.35317919],\n",
       "       [0.39312326, 0.31546488, 0.39135073, ..., 0.8809131 , 0.3745281 ,\n",
       "        0.34376004],\n",
       "       ...,\n",
       "       [0.45640198, 0.570157  , 0.49623015, ..., 0.82545722, 0.55670527,\n",
       "        0.33467484],\n",
       "       [0.50810445, 0.60155701, 0.53251549, ..., 0.71196851, 0.64246808,\n",
       "        0.34349056],\n",
       "       [0.45640198, 0.570157  , 0.4700496 , ..., 0.57594729, 0.58867261,\n",
       "        0.29619847]])"
      ]
     },
     "execution_count": 64,
     "metadata": {},
     "output_type": "execute_result"
    }
   ],
   "source": [
    "X_test_log_norm"
   ]
  },
  {
   "cell_type": "code",
   "execution_count": 65,
   "metadata": {
    "colab": {
     "base_uri": "https://localhost:8080/"
    },
    "id": "wjyD8I_nk0Sw",
    "outputId": "4e2c0783-3aed-4603-f52b-dcf14f7584e6"
   },
   "outputs": [
    {
     "data": {
      "text/plain": [
       "array([[0.45640198, 0.570157  , 0.56658521, ..., 0.57428737, 0.64559296,\n",
       "        0.45313988],\n",
       "       [0.31154282, 0.31546488, 0.13681763, ..., 0.89746126, 0.36172043,\n",
       "        0.28306009],\n",
       "       [0.45640198, 0.570157  , 0.57707911, ..., 0.63070933, 0.76158084,\n",
       "        0.46669337],\n",
       "       ...,\n",
       "       [0.39312326, 0.570157  , 0.55161057, ..., 0.83621967, 0.58867261,\n",
       "        0.36365858],\n",
       "       [0.31154282, 0.41702188, 0.45307972, ..., 0.81800563, 0.34508656,\n",
       "        0.22981737],\n",
       "       [0.39312326, 0.46039942, 0.34393723, ..., 0.65559146, 0.57769095,\n",
       "        0.37618753]])"
      ]
     },
     "execution_count": 65,
     "metadata": {},
     "output_type": "execute_result"
    }
   ],
   "source": [
    "X_train_log_norm"
   ]
  },
  {
   "cell_type": "markdown",
   "metadata": {
    "id": "QJ0932vFsZiU"
   },
   "source": [
    "# Eğitilmiş verilerin karşılaştırılması"
   ]
  },
  {
   "cell_type": "markdown",
   "metadata": {
    "id": "tcj0Y9JVsZiU"
   },
   "source": [
    "## gerçek veri ile eğitimdeki hataların hesaplanması"
   ]
  },
  {
   "cell_type": "code",
   "execution_count": 66,
   "metadata": {
    "colab": {
     "base_uri": "https://localhost:8080/"
    },
    "id": "ddzRaKgKsZiU",
    "outputId": "5dbc6905-5471-4c1f-b2e5-45a45c022741"
   },
   "outputs": [
    {
     "name": "stdout",
     "output_type": "stream",
     "text": [
      "MAE:  80716.90878007171\n",
      "MSE:  18836752163.95818\n",
      "RMSE:  137247.04792438407\n"
     ]
    }
   ],
   "source": [
    "score_model = model.score(X_train,y_train)\n",
    "prev_model = model.predict(X_test)\n",
    "\n",
    "mae_model = mean_absolute_error(y_test,yhat)\n",
    "mse_model = mean_squared_error(y_test,yhat)\n",
    "rmse_model = np.sqrt(mse_model)\n",
    "\n",
    "\n",
    "print(\"MAE: \", mae_model)\n",
    "print(\"MSE: \", mse_model)\n",
    "print(\"RMSE: \", rmse_model)"
   ]
  },
  {
   "cell_type": "markdown",
   "metadata": {
    "id": "71j1CYqRsZiV"
   },
   "source": [
    "## normalize edilmiş verideki hataların hesaplanması"
   ]
  },
  {
   "cell_type": "code",
   "execution_count": 67,
   "metadata": {
    "colab": {
     "base_uri": "https://localhost:8080/"
    },
    "id": "VpesSzKHsZiV",
    "outputId": "75f22deb-e8fd-4fae-d68e-0744dab635c1"
   },
   "outputs": [
    {
     "data": {
      "text/plain": [
       "array([[348424.1 , 218747.83, 357680.03, ..., 595162.9 , 637583.75,\n",
       "        581717.56]], dtype=float32)"
      ]
     },
     "execution_count": 67,
     "metadata": {},
     "output_type": "execute_result"
    }
   ],
   "source": [
    "y_hat_log_norm_reel"
   ]
  },
  {
   "cell_type": "code",
   "execution_count": 68,
   "metadata": {
    "id": "GeBZjANIsZiW"
   },
   "outputs": [],
   "source": [
    "x=np.squeeze(y_hat_log_norm_reel)"
   ]
  },
  {
   "cell_type": "code",
   "execution_count": 69,
   "metadata": {
    "colab": {
     "base_uri": "https://localhost:8080/"
    },
    "id": "0Khyy_xDsZiW",
    "outputId": "659b8fb9-025d-40ab-d831-4cd4d3829864"
   },
   "outputs": [
    {
     "name": "stdout",
     "output_type": "stream",
     "text": [
      "MAE:  80380.55616036318\n",
      "MSE:  18578163354.07497\n",
      "RMSE:  136301.73643088693\n"
     ]
    }
   ],
   "source": [
    "mae_model_norm = mean_absolute_error(y_test,np.squeeze(yhat_norm_reel))\n",
    "mse_model_norm = mean_squared_error(y_test,np.squeeze(yhat_norm_reel))\n",
    "rmse_model_norm = np.sqrt(mse_model_norm)\n",
    "\n",
    "\n",
    "print(\"MAE: \", mae_model_norm)\n",
    "print(\"MSE: \", mse_model_norm)\n",
    "print(\"RMSE: \", rmse_model_norm)"
   ]
  },
  {
   "cell_type": "markdown",
   "metadata": {
    "id": "HsPfWRgesZiW"
   },
   "source": [
    "## Log alınarak normalize edilmiş verideki hataların hesaplanması"
   ]
  },
  {
   "cell_type": "code",
   "execution_count": 70,
   "metadata": {
    "colab": {
     "base_uri": "https://localhost:8080/"
    },
    "id": "G8hxP2A7sZiX",
    "outputId": "a975df95-ba34-4416-a191-34b2cae55501"
   },
   "outputs": [
    {
     "name": "stdout",
     "output_type": "stream",
     "text": [
      "MAE:  76931.19146498381\n",
      "MSE:  20382501213.29025\n",
      "RMSE:  142767.29742237978\n"
     ]
    }
   ],
   "source": [
    "mae_model_log_norm = mean_absolute_error(y_test,x)\n",
    "mse_model_log_norm = mean_squared_error(y_test,x)\n",
    "rmse_model_log_norm = np.sqrt(mse_model_log_norm)\n",
    "\n",
    "\n",
    "print(\"MAE: \", mae_model_log_norm)\n",
    "print(\"MSE: \", mse_model_log_norm)\n",
    "print(\"RMSE: \", rmse_model_log_norm)"
   ]
  },
  {
   "cell_type": "code",
   "execution_count": 74,
   "metadata": {
    "colab": {
     "base_uri": "https://localhost:8080/",
     "height": 0
    },
    "id": "0C9MFza8sZiX",
    "outputId": "c53f843e-ebc3-4e59-d598-0ff964e8954b"
   },
   "outputs": [
    {
     "data": {
      "text/plain": [
       "(75000.0, 83000.0)"
      ]
     },
     "execution_count": 74,
     "metadata": {},
     "output_type": "execute_result"
    },
    {
     "data": {
      "image/png": "[encoded data removed]",
      "text/plain": [
       "<Figure size 432x288 with 1 Axes>"
      ]
     },
     "metadata": {},
     "output_type": "display_data"
    }
   ],
   "source": [
    "br1 = mae_model\n",
    "br2 = mae_model_norm\n",
    "br3 = mae_model_log_norm\n",
    "\n",
    "#plt.bar(br1, br1,width = 50)\n",
    "#plt.bar(br2, br2,width = 50)\n",
    "#plt.bar(br3, br3,width = 50)\n",
    "import seaborn as  sns\n",
    "sns.barplot(x=['m1','m2','m3'],y=[br1,br2,br3])\n",
    "plt.ylim([75000, 83000])"
   ]
  },
  {
   "cell_type": "markdown",
   "metadata": {
    "id": "F8oGRiaUlR4a"
   },
   "source": [
    "**Normal verideki tahnim gösterimi**\n",
    "\n",
    "\n",
    "\n"
   ]
  },
  {
   "cell_type": "code",
   "execution_count": 98,
   "metadata": {
    "colab": {
     "base_uri": "https://localhost:8080/",
     "height": 0
    },
    "id": "C8Em0JK5lRia",
    "outputId": "6857f596-59b7-47b8-80e0-ae8fbf72b80f"
   },
   "outputs": [
    {
     "data": {
      "text/plain": [
       "(-196600.0, 5844600.0, -196600.0, 5844600.0)"
      ]
     },
     "execution_count": 98,
     "metadata": {},
     "output_type": "execute_result"
    },
    {
     "data": {
      "image/png": "[encoded data removed]",
      "text/plain": [
       "<Figure size 600x600 with 1 Axes>"
      ]
     },
     "metadata": {},
     "output_type": "display_data"
    }
   ],
   "source": [
    "plt.figure(figsize=(6,6))\n",
    "plt.scatter(y_test, yhat)\n",
    "plt.plot(y_test,y_test, color=\"red\")\n",
    "plt.xlabel('test verileri')\n",
    "plt.ylabel(\"tahmin edilen değer\")\n",
    "plt.axis('equal')"
   ]
  },
  {
   "cell_type": "markdown",
   "metadata": {
    "id": "Ck9bQQTxsZiY"
   },
   "source": [
    "## normalize edilmiş verideki tahmin gösterimi"
   ]
  },
  {
   "cell_type": "code",
   "execution_count": 76,
   "metadata": {
    "colab": {
     "base_uri": "https://localhost:8080/",
     "height": 0
    },
    "id": "CcC_inQ_sZiY",
    "outputId": "8aaa0df6-d54c-4609-9c34-dd989999ab81"
   },
   "outputs": [
    {
     "data": {
      "text/plain": [
       "(-196600.0, 5844600.0, -196600.0, 5844600.0)"
      ]
     },
     "execution_count": 76,
     "metadata": {},
     "output_type": "execute_result"
    },
    {
     "data": {
      "image/png": "[encoded data removed]",
      "text/plain": [
       "<Figure size 432x432 with 1 Axes>"
      ]
     },
     "metadata": {},
     "output_type": "display_data"
    }
   ],
   "source": [
    "plt.figure(figsize=(6,6))\n",
    "plt.scatter(y_test, yhat_norm_reel)\n",
    "plt.plot(y_test,y_test, color=\"red\")\n",
    "plt.xlabel('test verileri')\n",
    "plt.ylabel(\"tahmin edilen değer\")\n",
    "plt.axis('equal')"
   ]
  },
  {
   "cell_type": "markdown",
   "metadata": {
    "id": "WoEsv7ULsZiZ"
   },
   "source": [
    "## log normalize edilmiş verideki tahmin gösterimi"
   ]
  },
  {
   "cell_type": "code",
   "execution_count": 77,
   "metadata": {
    "colab": {
     "base_uri": "https://localhost:8080/",
     "height": 0
    },
    "id": "ZVmGDwcJsZiZ",
    "outputId": "8159e599-8382-457a-9520-07a0ca504aba"
   },
   "outputs": [
    {
     "data": {
      "text/plain": [
       "(-196600.0, 5844600.0, -196600.0, 5844600.0)"
      ]
     },
     "execution_count": 77,
     "metadata": {},
     "output_type": "execute_result"
    },
    {
     "data": {
      "image/png": "[encoded data removed]",
      "text/plain": [
       "<Figure size 432x432 with 1 Axes>"
      ]
     },
     "metadata": {},
     "output_type": "display_data"
    }
   ],
   "source": [
    "plt.figure(figsize=(6,6))\n",
    "plt.scatter(y_test, y_hat_log_norm_reel)\n",
    "plt.plot(y_test,y_test, color=\"red\")\n",
    "plt.xlabel('test verileri')\n",
    "plt.ylabel(\"tahmin edilen değer\")\n",
    "plt.axis('equal')"
   ]
  },
  {
   "cell_type": "code",
   "execution_count": 78,
   "metadata": {
    "id": "0hPhC0XHsZia"
   },
   "outputs": [],
   "source": [
    "# --------------------------------"
   ]
  },
  {
   "cell_type": "code",
   "execution_count": 79,
   "metadata": {
    "id": "UrDD6SovsZia"
   },
   "outputs": [],
   "source": [
    "error1 = y_test - yhat"
   ]
  },
  {
   "cell_type": "code",
   "execution_count": 80,
   "metadata": {
    "colab": {
     "base_uri": "https://localhost:8080/"
    },
    "id": "ONhbLtNasZia",
    "outputId": "18f28053-2f9d-451e-d501-d968ad66bb7d"
   },
   "outputs": [
    {
     "data": {
      "text/plain": [
       "17485     25131.84375\n",
       "15164     -7022.21875\n",
       "18449     26368.37500\n",
       "6828      37540.31250\n",
       "18281   -338409.75000\n",
       "             ...     \n",
       "12430    -42541.75000\n",
       "2320     339377.00000\n",
       "5419      46091.06250\n",
       "9517    -138753.50000\n",
       "12877     -7401.37500\n",
       "Name: price, Length: 4323, dtype: float64"
      ]
     },
     "execution_count": 80,
     "metadata": {},
     "output_type": "execute_result"
    }
   ],
   "source": [
    "error1"
   ]
  },
  {
   "cell_type": "code",
   "execution_count": 81,
   "metadata": {
    "colab": {
     "base_uri": "https://localhost:8080/",
     "height": 0
    },
    "id": "uuwyESYysZia",
    "outputId": "a26d89b4-c0e8-444f-8e6b-f278a73a2b5f"
   },
   "outputs": [
    {
     "data": {
      "text/plain": [
       "<matplotlib.axes._subplots.AxesSubplot at 0x7f933d0ae090>"
      ]
     },
     "execution_count": 81,
     "metadata": {},
     "output_type": "execute_result"
    },
    {
     "data": {
      "image/png": "[encoded data removed]",
      "text/plain": [
       "<Figure size 432x288 with 1 Axes>"
      ]
     },
     "metadata": {},
     "output_type": "display_data"
    }
   ],
   "source": [
    "sns.set_style('dark')\n",
    "sns.distplot(error1)"
   ]
  },
  {
   "cell_type": "code",
   "execution_count": 82,
   "metadata": {
    "colab": {
     "base_uri": "https://localhost:8080/"
    },
    "id": "yMCdbIUOsZib",
    "outputId": "af19216f-ea7c-48df-bb8c-2c149e8f0ee8"
   },
   "outputs": [
    {
     "data": {
      "text/plain": [
       "(4323,)"
      ]
     },
     "execution_count": 82,
     "metadata": {},
     "output_type": "execute_result"
    }
   ],
   "source": [
    "y_test.shape"
   ]
  },
  {
   "cell_type": "code",
   "execution_count": 83,
   "metadata": {
    "colab": {
     "base_uri": "https://localhost:8080/"
    },
    "id": "aaET84o5sZib",
    "outputId": "c3c2d923-258f-46a2-c43d-0a15d0d23d44"
   },
   "outputs": [
    {
     "data": {
      "text/plain": [
       "array([[329827.47],\n",
       "       [238124.12],\n",
       "       [351687.1 ],\n",
       "       ...,\n",
       "       [597660.94],\n",
       "       [640578.  ],\n",
       "       [572824.44]], dtype=float32)"
      ]
     },
     "execution_count": 83,
     "metadata": {},
     "output_type": "execute_result"
    }
   ],
   "source": [
    "yhat_norm_reel"
   ]
  },
  {
   "cell_type": "code",
   "execution_count": 84,
   "metadata": {
    "id": "75WGg4uQsZib"
   },
   "outputs": [],
   "source": [
    "z = yhat_norm_reel.reshape(-1,4323)"
   ]
  },
  {
   "cell_type": "code",
   "execution_count": 85,
   "metadata": {
    "colab": {
     "base_uri": "https://localhost:8080/"
    },
    "id": "oQD6AJ0VsZib",
    "outputId": "4e58ecab-34c4-48ce-acf3-ab945ace6bbf"
   },
   "outputs": [
    {
     "data": {
      "text/plain": [
       "(1, 4323)"
      ]
     },
     "execution_count": 85,
     "metadata": {},
     "output_type": "execute_result"
    }
   ],
   "source": [
    "z.shape"
   ]
  },
  {
   "cell_type": "code",
   "execution_count": 86,
   "metadata": {
    "id": "Up4uQbCEsZic"
   },
   "outputs": [],
   "source": [
    "error2 = y_test.to_numpy().reshape(-1,4323) - z"
   ]
  },
  {
   "cell_type": "code",
   "execution_count": 87,
   "metadata": {
    "colab": {
     "base_uri": "https://localhost:8080/",
     "height": 0
    },
    "id": "SMIUlUGhsZic",
    "outputId": "a7d49ad6-3b4e-4041-9bcd-94e34c533243"
   },
   "outputs": [
    {
     "data": {
      "text/plain": [
       "<matplotlib.axes._subplots.AxesSubplot at 0x7f933cf3d2d0>"
      ]
     },
     "execution_count": 87,
     "metadata": {},
     "output_type": "execute_result"
    },
    {
     "data": {
      "image/png": "[encoded data removed]",
      "text/plain": [
       "<Figure size 432x288 with 1 Axes>"
      ]
     },
     "metadata": {},
     "output_type": "display_data"
    }
   ],
   "source": [
    "sns.set_style('dark')\n",
    "sns.distplot(error2)"
   ]
  },
  {
   "cell_type": "code",
   "execution_count": 88,
   "metadata": {
    "id": "eXtVGEJAsZic"
   },
   "outputs": [],
   "source": [
    "k = y_hat_log_norm_reel.reshape(-1,4323)"
   ]
  },
  {
   "cell_type": "code",
   "execution_count": 89,
   "metadata": {
    "colab": {
     "base_uri": "https://localhost:8080/"
    },
    "id": "lXEJJWizsZic",
    "outputId": "97bc418d-557a-46ab-e1a4-30c329c92a19"
   },
   "outputs": [
    {
     "data": {
      "text/plain": [
       "(1, 4323)"
      ]
     },
     "execution_count": 89,
     "metadata": {},
     "output_type": "execute_result"
    }
   ],
   "source": [
    "k.shape"
   ]
  },
  {
   "cell_type": "code",
   "execution_count": 90,
   "metadata": {
    "id": "dRnq5aSBsZid"
   },
   "outputs": [],
   "source": [
    "error3 = y_test.to_numpy().reshape(-1,4323) - k"
   ]
  },
  {
   "cell_type": "code",
   "execution_count": 91,
   "metadata": {
    "colab": {
     "base_uri": "https://localhost:8080/",
     "height": 0
    },
    "id": "Le8hijcDsZid",
    "outputId": "5a51f144-e0af-4c10-e555-519fe212e3cb"
   },
   "outputs": [
    {
     "data": {
      "text/plain": [
       "<matplotlib.axes._subplots.AxesSubplot at 0x7f933f141510>"
      ]
     },
     "execution_count": 91,
     "metadata": {},
     "output_type": "execute_result"
    },
    {
     "data": {
      "image/png": "[encoded data removed]",
      "text/plain": [
       "<Figure size 432x288 with 1 Axes>"
      ]
     },
     "metadata": {},
     "output_type": "display_data"
    }
   ],
   "source": [
    "sns.set_style('dark')\n",
    "sns.distplot(error3)"
   ]
  },
  {
   "cell_type": "code",
   "execution_count": 92,
   "metadata": {
    "colab": {
     "base_uri": "https://localhost:8080/",
     "height": 0
    },
    "id": "EsyVxCGRsZid",
    "outputId": "180d35c8-feed-4c2a-fe68-c58e80761345"
   },
   "outputs": [
    {
     "data": {
      "image/png": "[encoded data removed]",
      "text/plain": [
       "<Figure size 432x288 with 1 Axes>"
      ]
     },
     "metadata": {},
     "output_type": "display_data"
    }
   ],
   "source": [
    "plt.scatter(y_test, error1)\n",
    "plt.rcParams.update({'figure.figsize':(10,8), 'figure.dpi':100})\n",
    "plt.title('Gerçek veri ile eğitim')\n",
    "plt.xlabel('Price')\n",
    "plt.ylabel('Error')\n",
    "plt.show()"
   ]
  },
  {
   "cell_type": "code",
   "execution_count": 93,
   "metadata": {
    "colab": {
     "base_uri": "https://localhost:8080/",
     "height": 0
    },
    "id": "qep-cDxAsZid",
    "outputId": "07928628-e481-423f-cdc1-2a0e912782ea"
   },
   "outputs": [
    {
     "name": "stderr",
     "output_type": "stream",
     "text": [
      "No handles with labels found to put in legend.\n"
     ]
    },
    {
     "data": {
      "image/png": "[encoded data removed]",
      "text/plain": [
       "<Figure size 1000x800 with 1 Axes>"
      ]
     },
     "metadata": {},
     "output_type": "display_data"
    }
   ],
   "source": [
    "# Plot\n",
    "plt.rcParams.update({'figure.figsize':(10,8), 'figure.dpi':100})\n",
    "plt.scatter(y_test, error1)#, label=f'error1 - Correlation = {np.round(np.corrcoef(y_test,error1)[0,1], 2)}')\n",
    "plt.scatter(y_test, error2)#, label=f'error2 - normalize Correlation = {np.round(np.corrcoef(y_test,error2)[0,1], 2)}')\n",
    "plt.scatter(y_test, error3)#, label=f'error3 - log normalize Correlation = {np.round(np.corrcoef(y_test,error3)[0,1], 2)}')\n",
    "\n",
    "# Plot\n",
    "plt.title('Scatterplot and Correlations')\n",
    "plt.xlabel(\"Price\")\n",
    "plt.ylabel(\"Error \")\n",
    "plt.legend()\n",
    "plt.show()"
   ]
  },
  {
   "cell_type": "code",
   "execution_count": 94,
   "metadata": {
    "id": "cwi3I1DRsZie"
   },
   "outputs": [],
   "source": [
    "#----------------------------------------------------------------------------------------"
   ]
  },
  {
   "cell_type": "code",
   "execution_count": 95,
   "metadata": {
    "colab": {
     "base_uri": "https://localhost:8080/"
    },
    "id": "2U0UKMVzsZie",
    "outputId": "5b6e6d7d-24f3-45d8-92f6-94cb059f4193"
   },
   "outputs": [
    {
     "data": {
      "text/plain": [
       "17485     25131.84375\n",
       "15164     -7022.21875\n",
       "18449     26368.37500\n",
       "6828      37540.31250\n",
       "18281   -338409.75000\n",
       "             ...     \n",
       "12430    -42541.75000\n",
       "2320     339377.00000\n",
       "5419      46091.06250\n",
       "9517    -138753.50000\n",
       "12877     -7401.37500\n",
       "Name: price, Length: 4323, dtype: float64"
      ]
     },
     "execution_count": 95,
     "metadata": {},
     "output_type": "execute_result"
    }
   ],
   "source": [
    "error1"
   ]
  },
  {
   "cell_type": "code",
   "execution_count": 96,
   "metadata": {
    "colab": {
     "base_uri": "https://localhost:8080/"
    },
    "id": "2qPasKuZsZie",
    "outputId": "00058869-452a-4de9-d99a-79970b2fe485"
   },
   "outputs": [
    {
     "data": {
      "text/plain": [
       "array([[  35172.53125,  -13124.125  ,   33262.90625, ...,   56339.0625 ,\n",
       "        -160578.     ,    2175.5625 ]])"
      ]
     },
     "execution_count": 96,
     "metadata": {},
     "output_type": "execute_result"
    }
   ],
   "source": [
    "error2"
   ]
  },
  {
   "cell_type": "code",
   "execution_count": 97,
   "metadata": {
    "colab": {
     "base_uri": "https://localhost:8080/"
    },
    "id": "_OOFyvP3sZie",
    "outputId": "1f1a2cfb-f3e1-4f1c-cb76-675409df7ccd"
   },
   "outputs": [
    {
     "data": {
      "text/plain": [
       "array([[  16575.90625 ,    6252.171875,   27269.96875 , ...,\n",
       "          58837.125   , -157583.75    ,   -6717.5625  ]])"
      ]
     },
     "execution_count": 97,
     "metadata": {},
     "output_type": "execute_result"
    }
   ],
   "source": [
    "error3"
   ]
  },
  {
   "cell_type": "markdown",
   "metadata": {
    "id": "HhCuEBhxsZif"
   },
   "source": [
    "## MLPRegressor"
   ]
  },
  {
   "cell_type": "code",
   "execution_count": 99,
   "metadata": {
    "colab": {
     "base_uri": "https://localhost:8080/"
    },
    "id": "VfsNAkhVsZif",
    "outputId": "9b4cd067-3f7b-4e6c-f16e-04091ead2513"
   },
   "outputs": [
    {
     "name": "stdout",
     "output_type": "stream",
     "text": [
      "Iteration 1, loss = 84542504931.22061157\n",
      "Iteration 2, loss = 62119258570.36652374\n",
      "Iteration 3, loss = 52218419220.33666229\n",
      "Iteration 4, loss = 32935839923.85705566\n",
      "Iteration 5, loss = 29372456692.54829788\n",
      "Iteration 6, loss = 28300064609.18587494\n",
      "Iteration 7, loss = 28228695677.65219879\n",
      "Iteration 8, loss = 28054047134.21954346\n",
      "Iteration 9, loss = 27955130141.68308640\n",
      "Iteration 10, loss = 27416751471.56708908\n",
      "Iteration 11, loss = 27137040109.31356812\n",
      "Iteration 12, loss = 27191334907.14335251\n",
      "Iteration 13, loss = 27507642815.44256592\n",
      "Iteration 14, loss = 26910618044.66550446\n",
      "Iteration 15, loss = 26916274225.79692459\n",
      "Iteration 16, loss = 27224708909.83959579\n",
      "Iteration 17, loss = 26982445008.17749023\n",
      "Iteration 18, loss = 26612588142.96717072\n",
      "Iteration 19, loss = 26446938330.24058151\n",
      "Iteration 20, loss = 26426052513.99584198\n",
      "Iteration 21, loss = 27096237470.08538818\n",
      "Iteration 22, loss = 26426971193.78058624\n",
      "Iteration 23, loss = 26341344111.59817505\n",
      "Iteration 24, loss = 26692888514.74222946\n",
      "Iteration 25, loss = 26315954911.18758011\n",
      "Iteration 26, loss = 26150854692.81640625\n",
      "Iteration 27, loss = 26545889461.83482361\n",
      "Iteration 28, loss = 26101173094.65747070\n",
      "Iteration 29, loss = 26551164030.47988510\n",
      "Iteration 30, loss = 26251444520.16479111\n",
      "Iteration 31, loss = 26602847533.45151520\n",
      "Iteration 32, loss = 25778865405.37017822\n",
      "Iteration 33, loss = 25960293772.46157074\n",
      "Iteration 34, loss = 25965191137.54970169\n",
      "Iteration 35, loss = 26003683274.46456528\n",
      "Iteration 36, loss = 26038913272.29971313\n",
      "Iteration 37, loss = 25740196020.63132858\n",
      "Iteration 38, loss = 25761846713.88857651\n",
      "Iteration 39, loss = 25873866796.11954880\n",
      "Iteration 40, loss = 25650397855.05105591\n",
      "Iteration 41, loss = 25871547087.39604187\n",
      "Iteration 42, loss = 25705282717.22188950\n",
      "Iteration 43, loss = 25641725418.77198029\n",
      "Iteration 44, loss = 25757414890.24689102\n",
      "Iteration 45, loss = 26034611628.96922302\n",
      "Iteration 46, loss = 25471466961.28578186\n",
      "Iteration 47, loss = 25513739789.31662750\n",
      "Iteration 48, loss = 25293503983.44370651\n",
      "Iteration 49, loss = 25452729657.33086395\n",
      "Iteration 50, loss = 25220364255.76111221\n",
      "Iteration 51, loss = 25017068783.48254013\n",
      "Iteration 52, loss = 25261303184.08412552\n",
      "Iteration 53, loss = 25117448448.72422791\n",
      "Iteration 54, loss = 24932893767.61560059\n",
      "Iteration 55, loss = 25237827801.71981812\n",
      "Iteration 56, loss = 24716083385.31013870\n",
      "Iteration 57, loss = 24587505337.55581284\n",
      "Iteration 58, loss = 24494049183.65500641\n",
      "Iteration 59, loss = 24583154966.16185760\n",
      "Iteration 60, loss = 24661159555.82473373\n",
      "Iteration 61, loss = 24322557360.94234848\n",
      "Iteration 62, loss = 24955103667.81732559\n",
      "Iteration 63, loss = 24543519841.81922531\n",
      "Iteration 64, loss = 24380566934.91385269\n",
      "Iteration 65, loss = 24885600876.09445572\n",
      "Iteration 66, loss = 24372505392.13125992\n",
      "Iteration 67, loss = 24486301118.68278885\n",
      "Iteration 68, loss = 24214165492.53437424\n",
      "Iteration 69, loss = 24329195980.29588318\n",
      "Iteration 70, loss = 24212184597.32172012\n",
      "Iteration 71, loss = 24265737732.64940643\n",
      "Iteration 72, loss = 24172638348.22366333\n",
      "Iteration 73, loss = 24036377517.87300110\n",
      "Iteration 74, loss = 24196443135.07957458\n",
      "Iteration 75, loss = 23800741731.18368912\n",
      "Iteration 76, loss = 24274963030.30158997\n",
      "Iteration 77, loss = 24221048265.76652145\n",
      "Iteration 78, loss = 23844117091.05822372\n",
      "Iteration 79, loss = 23695631410.69115448\n",
      "Iteration 80, loss = 24499739724.20962143\n",
      "Iteration 81, loss = 23896441877.58600235\n",
      "Iteration 82, loss = 24021653683.68128967\n",
      "Iteration 83, loss = 23745634373.81900406\n",
      "Iteration 84, loss = 23582953982.78433990\n",
      "Iteration 85, loss = 24233086977.04873657\n",
      "Iteration 86, loss = 23761721695.58312225\n",
      "Iteration 87, loss = 23570924915.00236130\n",
      "Iteration 88, loss = 23875088431.51681900\n",
      "Iteration 89, loss = 23606977222.68706131\n",
      "Iteration 90, loss = 24138827251.05620193\n",
      "Iteration 91, loss = 23512987285.80570602\n",
      "Iteration 92, loss = 23275753500.06546021\n",
      "Iteration 93, loss = 23339077835.44010544\n",
      "Iteration 94, loss = 23535966894.31335449\n",
      "Iteration 95, loss = 23590011082.31556320\n",
      "Iteration 96, loss = 23133927527.10859680\n",
      "Iteration 97, loss = 23309852939.09283066\n",
      "Iteration 98, loss = 23135471310.12994385\n",
      "Iteration 99, loss = 23002839235.85490417\n",
      "Iteration 100, loss = 23367577206.24332428\n",
      "Iteration 101, loss = 23593055314.79741287\n",
      "Iteration 102, loss = 23116187806.14686584\n",
      "Iteration 103, loss = 23261646706.08521271\n",
      "Iteration 104, loss = 23412484410.52431107\n",
      "Iteration 105, loss = 23173737428.93934250\n",
      "Iteration 106, loss = 22997009734.65795135\n",
      "Iteration 107, loss = 22829898255.58104324\n",
      "Iteration 108, loss = 22861883628.05497742\n",
      "Iteration 109, loss = 23019357563.57219315\n",
      "Iteration 110, loss = 23125143671.98111343\n",
      "Iteration 111, loss = 22921171361.41352081\n",
      "Iteration 112, loss = 23002196084.84302139\n",
      "Iteration 113, loss = 22947592793.75758743\n",
      "Iteration 114, loss = 23193947240.31797409\n",
      "Iteration 115, loss = 22983309662.12041092\n",
      "Iteration 116, loss = 22828103750.18852234\n",
      "Iteration 117, loss = 22597088192.35057449\n",
      "Iteration 118, loss = 22872698814.23326874\n",
      "Iteration 119, loss = 22931569050.71210098\n",
      "Iteration 120, loss = 22966380844.96203232\n",
      "Iteration 121, loss = 22494678501.14835358\n",
      "Iteration 122, loss = 23104294019.44935608\n",
      "Iteration 123, loss = 22850536348.47102737\n",
      "Iteration 124, loss = 22457839240.68238449\n",
      "Iteration 125, loss = 22563007378.98191833\n",
      "Iteration 126, loss = 22434484149.75801468\n",
      "Iteration 127, loss = 22573324109.77592087\n",
      "Iteration 128, loss = 22648512687.33349991\n",
      "Iteration 129, loss = 22506447979.68935394\n",
      "Iteration 130, loss = 23026476118.53039932\n",
      "Iteration 131, loss = 22315859791.09890747\n",
      "Iteration 132, loss = 22309847998.25733948\n",
      "Iteration 133, loss = 22476226482.70958328\n",
      "Iteration 134, loss = 22732668399.41644287\n",
      "Iteration 135, loss = 22818263738.77001572\n",
      "Iteration 136, loss = 22282832112.38963318\n",
      "Iteration 137, loss = 22271928969.82911301\n",
      "Iteration 138, loss = 22329517259.23414612\n",
      "Iteration 139, loss = 22305316615.89807510\n",
      "Iteration 140, loss = 23091622709.87099457\n",
      "Iteration 141, loss = 22212364164.97423553\n",
      "Iteration 142, loss = 22166690791.98961639\n",
      "Iteration 143, loss = 22384727243.08683395\n",
      "Iteration 144, loss = 22550598692.82983780\n",
      "Iteration 145, loss = 22129381995.06064987\n",
      "Iteration 146, loss = 22509807789.44240952\n",
      "Iteration 147, loss = 22152877984.45318985\n",
      "Iteration 148, loss = 22511814058.26860046\n",
      "Iteration 149, loss = 22828719394.53605652\n",
      "Iteration 150, loss = 22599670117.41897202\n",
      "Iteration 151, loss = 22007444256.45467377\n",
      "Iteration 152, loss = 22174037105.69659805\n",
      "Iteration 153, loss = 22115872278.25597382\n",
      "Iteration 154, loss = 22104069879.43770218\n",
      "Iteration 155, loss = 22455758402.36796570\n",
      "Iteration 156, loss = 22006532702.61709213\n",
      "Iteration 157, loss = 22070241142.76936722\n",
      "Iteration 158, loss = 22210329711.05742264\n",
      "Iteration 159, loss = 22280496557.01088715\n",
      "Iteration 160, loss = 21888331850.57157135\n",
      "Iteration 161, loss = 21987145979.43200684\n",
      "Iteration 162, loss = 21829621806.96435928\n",
      "Iteration 163, loss = 21944839461.31122971\n",
      "Iteration 164, loss = 21747102963.15052032\n",
      "Iteration 165, loss = 21837008037.35858154\n",
      "Iteration 166, loss = 21888927022.20946884\n",
      "Iteration 167, loss = 21709169011.87433243\n",
      "Iteration 168, loss = 22096578712.86627579\n",
      "Iteration 169, loss = 22305952142.62147141\n",
      "Iteration 171, loss = 22161022921.45338821\n",
      "Iteration 172, loss = 21623699249.52359772\n",
      "Iteration 173, loss = 21914085346.41585159\n",
      "Iteration 174, loss = 21867664135.60870361\n",
      "Iteration 175, loss = 21641115510.21287537\n",
      "Iteration 176, loss = 21806284186.52840805\n",
      "Iteration 177, loss = 21718332569.31847000\n",
      "Iteration 178, loss = 21497427770.70343781\n",
      "Iteration 179, loss = 21821529805.19821548\n",
      "Iteration 180, loss = 21674345800.84902573\n",
      "Iteration 181, loss = 22074472119.35272217\n",
      "Iteration 182, loss = 21968565585.77608871\n",
      "Iteration 183, loss = 21752518425.67104340\n",
      "Iteration 184, loss = 21468606342.26541901\n",
      "Iteration 185, loss = 21704630959.21923828\n",
      "Iteration 186, loss = 21643581270.61618042\n",
      "Iteration 187, loss = 21565770246.26821136\n",
      "Iteration 188, loss = 21574575767.84815598\n",
      "Iteration 189, loss = 21894673643.68212128\n",
      "Iteration 190, loss = 21403507595.59833908\n",
      "Iteration 191, loss = 21666406354.28855133\n",
      "Iteration 192, loss = 21502014955.58274460\n",
      "Iteration 193, loss = 21489639282.51013947\n",
      "Iteration 194, loss = 21303805818.86499405\n",
      "Iteration 195, loss = 21844482106.99685287\n",
      "Iteration 196, loss = 21576668029.83407593\n",
      "Iteration 197, loss = 21586996020.61274719\n",
      "Iteration 198, loss = 21779390009.85852432\n",
      "Iteration 199, loss = 21412191326.89035416\n",
      "Iteration 200, loss = 21990738182.19494247\n"
     ]
    }
   ],
   "source": [
    "reg1 = MLPRegressor(hidden_layer_sizes=(338, 338, 50), \n",
    "                  activation='relu', solver='adam', max_iter = 200, random_state = 56, tol=0.0000000001 , verbose = True).fit(X_train,y_train)\n",
    "reg1_pred = reg1.predict(X_test)"
   ]
  },
  {
   "cell_type": "code",
   "execution_count": 100,
   "metadata": {
    "colab": {
     "base_uri": "https://localhost:8080/"
    },
    "id": "Neo3YNHcsZif",
    "outputId": "7c6fc0f3-6fc5-417f-bc50-de5a856d9c4d"
   },
   "outputs": [
    {
     "data": {
      "text/plain": [
       "MLPRegressor(activation='relu', alpha=0.0001, batch_size='auto', beta_1=0.9,\n",
       "             beta_2=0.999, early_stopping=False, epsilon=1e-08,\n",
       "             hidden_layer_sizes=(338, 338, 50), learning_rate='constant',\n",
       "             learning_rate_init=0.001, max_fun=15000, max_iter=200,\n",
       "             momentum=0.9, n_iter_no_change=10, nesterovs_momentum=True,\n",
       "             power_t=0.5, random_state=56, shuffle=True, solver='adam',\n",
       "             tol=1e-10, validation_fraction=0.1, verbose=True,\n",
       "             warm_start=False)"
      ]
     },
     "execution_count": 100,
     "metadata": {},
     "output_type": "execute_result"
    }
   ],
   "source": [
    "reg1"
   ]
  },
  {
   "cell_type": "code",
   "execution_count": 101,
   "metadata": {
    "colab": {
     "base_uri": "https://localhost:8080/"
    },
    "id": "2BFlEo-osZif",
    "outputId": "1699a424-0748-40d8-d978-376b3fce3f6b"
   },
   "outputs": [
    {
     "name": "stdout",
     "output_type": "stream",
     "text": [
      "MAE:  148161.3048097788\n",
      "MSE:  49688579553.178764\n",
      "RMSE:  137247.04792438407\n"
     ]
    }
   ],
   "source": [
    "mae1 = mean_absolute_error(y_test,reg1_pred)\n",
    "print(\"MAE: \", mae1)\n",
    "mse1 = mean_squared_error(y_test,reg1_pred)\n",
    "print(\"MSE: \", mse1)\n",
    "rmse1 = np.sqrt(mse)\n",
    "print(\"RMSE: \", rmse1)\n"
   ]
  },
  {
   "cell_type": "code",
   "execution_count": 102,
   "metadata": {
    "colab": {
     "base_uri": "https://localhost:8080/"
    },
    "id": "KmIU_BKWsZig",
    "outputId": "5c228cbb-4480-4d2d-94d2-cf01dd3fb75a"
   },
   "outputs": [
    {
     "data": {
      "text/plain": [
       "0.6357985099537139"
      ]
     },
     "execution_count": 102,
     "metadata": {},
     "output_type": "execute_result"
    }
   ],
   "source": [
    "reg1.score(X_test, y_test)"
   ]
  },
  {
   "cell_type": "code",
   "execution_count": 103,
   "metadata": {
    "colab": {
     "base_uri": "https://localhost:8080/"
    },
    "id": "NSyP7gOOsZig",
    "outputId": "16dedfc4-2775-4808-dc21-dec0b98888ce"
   },
   "outputs": [
    {
     "name": "stdout",
     "output_type": "stream",
     "text": [
      "Iteration 1, loss = 0.00127739\n",
      "Iteration 2, loss = 0.00033578\n",
      "Iteration 3, loss = 0.00029309\n",
      "Iteration 4, loss = 0.00028065\n",
      "Iteration 5, loss = 0.00026025\n",
      "Iteration 6, loss = 0.00024566\n",
      "Iteration 7, loss = 0.00023475\n",
      "Iteration 8, loss = 0.00024281\n",
      "Iteration 9, loss = 0.00023707\n",
      "Iteration 10, loss = 0.00022245\n",
      "Iteration 11, loss = 0.00021539\n",
      "Iteration 12, loss = 0.00021482\n",
      "Iteration 13, loss = 0.00021901\n",
      "Iteration 14, loss = 0.00020652\n",
      "Iteration 15, loss = 0.00020796\n",
      "Iteration 16, loss = 0.00020336\n",
      "Iteration 17, loss = 0.00019893\n",
      "Iteration 18, loss = 0.00019327\n",
      "Iteration 19, loss = 0.00019129\n",
      "Iteration 20, loss = 0.00018900\n",
      "Iteration 21, loss = 0.00018971\n",
      "Iteration 22, loss = 0.00018415\n",
      "Iteration 23, loss = 0.00018298\n",
      "Iteration 24, loss = 0.00018679\n",
      "Iteration 25, loss = 0.00017604\n",
      "Iteration 26, loss = 0.00017516\n",
      "Iteration 27, loss = 0.00017367\n",
      "Iteration 28, loss = 0.00016637\n",
      "Iteration 29, loss = 0.00016542\n",
      "Iteration 30, loss = 0.00016595\n",
      "Iteration 31, loss = 0.00016429\n",
      "Iteration 32, loss = 0.00016058\n",
      "Iteration 33, loss = 0.00016339\n",
      "Iteration 34, loss = 0.00016292\n",
      "Iteration 35, loss = 0.00016585\n",
      "Iteration 36, loss = 0.00016124\n",
      "Iteration 37, loss = 0.00016225\n",
      "Iteration 38, loss = 0.00016314\n",
      "Iteration 39, loss = 0.00015346\n",
      "Iteration 40, loss = 0.00015617\n",
      "Iteration 41, loss = 0.00014917\n",
      "Iteration 42, loss = 0.00014764\n",
      "Iteration 43, loss = 0.00014670\n",
      "Iteration 44, loss = 0.00014761\n",
      "Iteration 45, loss = 0.00014709\n",
      "Iteration 46, loss = 0.00014518\n",
      "Iteration 47, loss = 0.00014251\n",
      "Iteration 48, loss = 0.00014286\n",
      "Iteration 49, loss = 0.00014863\n",
      "Iteration 50, loss = 0.00014286\n",
      "Iteration 51, loss = 0.00013916\n",
      "Iteration 52, loss = 0.00013873\n",
      "Iteration 53, loss = 0.00013214\n",
      "Iteration 54, loss = 0.00013242\n",
      "Iteration 55, loss = 0.00014011\n",
      "Iteration 56, loss = 0.00014493\n",
      "Iteration 57, loss = 0.00013422\n",
      "Iteration 58, loss = 0.00012973\n",
      "Iteration 59, loss = 0.00012908\n",
      "Iteration 60, loss = 0.00012837\n",
      "Iteration 61, loss = 0.00013239\n",
      "Iteration 62, loss = 0.00013102\n",
      "Iteration 63, loss = 0.00013285\n",
      "Iteration 64, loss = 0.00013575\n",
      "Iteration 65, loss = 0.00012902\n",
      "Iteration 66, loss = 0.00012792\n",
      "Iteration 67, loss = 0.00012738\n",
      "Iteration 68, loss = 0.00012784\n",
      "Iteration 69, loss = 0.00013791\n",
      "Iteration 70, loss = 0.00012289\n",
      "Iteration 71, loss = 0.00012703\n",
      "Iteration 72, loss = 0.00012607\n",
      "Iteration 73, loss = 0.00014070\n",
      "Iteration 74, loss = 0.00012793\n",
      "Iteration 75, loss = 0.00011590\n",
      "Iteration 76, loss = 0.00012163\n",
      "Iteration 77, loss = 0.00013177\n",
      "Iteration 78, loss = 0.00011891\n",
      "Iteration 79, loss = 0.00012172\n",
      "Iteration 80, loss = 0.00011804\n",
      "Iteration 81, loss = 0.00011459\n",
      "Iteration 82, loss = 0.00012044\n",
      "Iteration 83, loss = 0.00011327\n",
      "Iteration 84, loss = 0.00011377\n",
      "Iteration 85, loss = 0.00011680\n",
      "Iteration 86, loss = 0.00011885\n",
      "Iteration 87, loss = 0.00011391\n",
      "Iteration 88, loss = 0.00012162\n",
      "Iteration 89, loss = 0.00011243\n",
      "Iteration 90, loss = 0.00011651\n",
      "Iteration 91, loss = 0.00011567\n",
      "Iteration 92, loss = 0.00012447\n",
      "Iteration 93, loss = 0.00010883\n",
      "Iteration 94, loss = 0.00010795\n",
      "Iteration 95, loss = 0.00010677\n",
      "Iteration 96, loss = 0.00011555\n",
      "Iteration 97, loss = 0.00010553\n",
      "Iteration 98, loss = 0.00010498\n",
      "Iteration 99, loss = 0.00010818\n",
      "Iteration 100, loss = 0.00011381\n",
      "Iteration 101, loss = 0.00011092\n",
      "Iteration 102, loss = 0.00010573\n",
      "Iteration 103, loss = 0.00010343\n",
      "Iteration 104, loss = 0.00010642\n",
      "Iteration 105, loss = 0.00010295\n",
      "Iteration 106, loss = 0.00010567\n",
      "Iteration 107, loss = 0.00010671\n",
      "Iteration 108, loss = 0.00009935\n",
      "Iteration 109, loss = 0.00010026\n",
      "Iteration 110, loss = 0.00010663\n",
      "Iteration 111, loss = 0.00011718\n",
      "Iteration 112, loss = 0.00010072\n",
      "Iteration 113, loss = 0.00010087\n",
      "Iteration 114, loss = 0.00009792\n",
      "Iteration 115, loss = 0.00010269\n",
      "Iteration 116, loss = 0.00009735\n",
      "Iteration 117, loss = 0.00010150\n",
      "Iteration 118, loss = 0.00010415\n",
      "Iteration 119, loss = 0.00010567\n",
      "Iteration 120, loss = 0.00009833\n",
      "Iteration 121, loss = 0.00009582\n",
      "Iteration 122, loss = 0.00010627\n",
      "Iteration 123, loss = 0.00011096\n",
      "Iteration 124, loss = 0.00010059\n",
      "Iteration 125, loss = 0.00009597\n",
      "Iteration 126, loss = 0.00009282\n",
      "Iteration 127, loss = 0.00009513\n",
      "Iteration 128, loss = 0.00009694\n",
      "Iteration 129, loss = 0.00010033\n",
      "Iteration 130, loss = 0.00009507\n",
      "Iteration 131, loss = 0.00009542\n",
      "Iteration 132, loss = 0.00010569\n",
      "Iteration 133, loss = 0.00010191\n",
      "Iteration 134, loss = 0.00009583\n",
      "Iteration 135, loss = 0.00009597\n",
      "Iteration 136, loss = 0.00009949\n",
      "Iteration 137, loss = 0.00009227\n",
      "Iteration 138, loss = 0.00009983\n",
      "Iteration 139, loss = 0.00009361\n",
      "Iteration 140, loss = 0.00009515\n",
      "Iteration 141, loss = 0.00009165\n",
      "Iteration 142, loss = 0.00009426\n",
      "Iteration 143, loss = 0.00009081\n",
      "Iteration 144, loss = 0.00009641\n",
      "Iteration 145, loss = 0.00009240\n",
      "Iteration 146, loss = 0.00009107\n",
      "Iteration 147, loss = 0.00008999\n",
      "Iteration 148, loss = 0.00009008\n",
      "Iteration 149, loss = 0.00008646\n",
      "Iteration 150, loss = 0.00008852\n",
      "Iteration 151, loss = 0.00009282\n",
      "Iteration 152, loss = 0.00008922\n",
      "Iteration 153, loss = 0.00009155\n",
      "Iteration 154, loss = 0.00009044\n",
      "Iteration 155, loss = 0.00009886\n",
      "Iteration 156, loss = 0.00009434\n",
      "Iteration 157, loss = 0.00009164\n",
      "Iteration 158, loss = 0.00009155\n",
      "Iteration 159, loss = 0.00009153\n",
      "Iteration 160, loss = 0.00008772\n",
      "Training loss did not improve more than tol=0.000000 for 10 consecutive epochs. Stopping.\n"
     ]
    }
   ],
   "source": [
    "reg2 = MLPRegressor(hidden_layer_sizes=(338, 338, 50), \n",
    "                  activation='relu', solver='adam', max_iter = 200, random_state = 56, tol=0.0000000001 , verbose = True).fit(X_train_norm,y_train_norm)\n",
    "reg2_pred = reg2.predict(X_test_norm)"
   ]
  },
  {
   "cell_type": "code",
   "execution_count": 104,
   "metadata": {
    "id": "JDo5SuWzsZig"
   },
   "outputs": [],
   "source": [
    "reg2_pred1  = reg2_pred.reshape(-1,1)"
   ]
  },
  {
   "cell_type": "code",
   "execution_count": 105,
   "metadata": {
    "id": "dLz-jA8LsZig"
   },
   "outputs": [],
   "source": [
    "reg2_pred_reel = scale_y_train.inverse_transform(reg2_pred1)"
   ]
  },
  {
   "cell_type": "code",
   "execution_count": 106,
   "metadata": {
    "colab": {
     "base_uri": "https://localhost:8080/"
    },
    "id": "sRVbPZyUsZig",
    "outputId": "7684c731-427d-43cd-b4d5-7b49a86ec118"
   },
   "outputs": [
    {
     "data": {
      "text/plain": [
       "array([[344629.9906152 ],\n",
       "       [188779.73814098],\n",
       "       [414333.91408264],\n",
       "       ...,\n",
       "       [611056.76917665],\n",
       "       [653533.78225921],\n",
       "       [564009.42030213]])"
      ]
     },
     "execution_count": 106,
     "metadata": {},
     "output_type": "execute_result"
    }
   ],
   "source": [
    "reg2_pred_reel"
   ]
  },
  {
   "cell_type": "code",
   "execution_count": 107,
   "metadata": {
    "colab": {
     "base_uri": "https://localhost:8080/"
    },
    "id": "60b9YyyUsZih",
    "outputId": "58f6b3e4-8f82-4086-f67d-30143045a041"
   },
   "outputs": [
    {
     "name": "stdout",
     "output_type": "stream",
     "text": [
      "MAE:  68931.9500921956\n",
      "MSE:  14636215071.035591\n",
      "RMSE:  137247.04792438407\n"
     ]
    }
   ],
   "source": [
    "mae2 = mean_absolute_error(y_test,reg2_pred_reel)\n",
    "print(\"MAE: \", mae2)\n",
    "mse2 = mean_squared_error(y_test,reg2_pred_reel)\n",
    "print(\"MSE: \", mse2)\n",
    "rmse2 = np.sqrt(mse)\n",
    "print(\"RMSE: \", rmse2)"
   ]
  },
  {
   "cell_type": "code",
   "execution_count": 108,
   "metadata": {
    "id": "HRSUupXNsZih"
   },
   "outputs": [],
   "source": [
    "a = mae_model - mae2"
   ]
  },
  {
   "cell_type": "code",
   "execution_count": 109,
   "metadata": {
    "colab": {
     "base_uri": "https://localhost:8080/"
    },
    "id": "Ffiw_j_WsZih",
    "outputId": "ccb00e68-4108-4e58-810d-c4506447fe64"
   },
   "outputs": [
    {
     "data": {
      "text/plain": [
       "11784.958687876104"
      ]
     },
     "execution_count": 109,
     "metadata": {},
     "output_type": "execute_result"
    }
   ],
   "source": [
    "a"
   ]
  },
  {
   "cell_type": "code",
   "execution_count": 110,
   "metadata": {
    "colab": {
     "base_uri": "https://localhost:8080/"
    },
    "id": "mjOwdPBesZih",
    "outputId": "bbc4f102-b409-4c18-a0c6-665d8a227a08"
   },
   "outputs": [
    {
     "data": {
      "text/plain": [
       "0.8927211969944903"
      ]
     },
     "execution_count": 110,
     "metadata": {},
     "output_type": "execute_result"
    }
   ],
   "source": [
    "reg2.score(X_test_norm, y_test_norm)"
   ]
  },
  {
   "cell_type": "code",
   "execution_count": 111,
   "metadata": {
    "id": "F0aiieXOsZih"
   },
   "outputs": [],
   "source": [
    "X_train_log_normson = np.nan_to_num(X_train_log_norm)\n",
    "X_test_log_normson = np.nan_to_num(X_test_log_norm)\n"
   ]
  },
  {
   "cell_type": "code",
   "execution_count": 112,
   "metadata": {
    "colab": {
     "base_uri": "https://localhost:8080/"
    },
    "id": "enFZqbAWsZih",
    "outputId": "24892099-8f6a-491b-a7d6-418fe7c3dbba"
   },
   "outputs": [
    {
     "name": "stdout",
     "output_type": "stream",
     "text": [
      "Iteration 1, loss = 0.00317366\n",
      "Iteration 2, loss = 0.00130308\n",
      "Iteration 3, loss = 0.00112938\n",
      "Iteration 4, loss = 0.00099945\n",
      "Iteration 5, loss = 0.00093707\n",
      "Iteration 6, loss = 0.00092970\n",
      "Iteration 7, loss = 0.00086836\n",
      "Iteration 8, loss = 0.00088432\n",
      "Iteration 9, loss = 0.00085831\n",
      "Iteration 10, loss = 0.00084998\n",
      "Iteration 11, loss = 0.00085181\n",
      "Iteration 12, loss = 0.00080519\n",
      "Iteration 13, loss = 0.00081213\n",
      "Iteration 14, loss = 0.00078955\n",
      "Iteration 15, loss = 0.00086437\n",
      "Iteration 16, loss = 0.00078605\n",
      "Iteration 17, loss = 0.00077661\n",
      "Iteration 18, loss = 0.00078125\n",
      "Iteration 19, loss = 0.00075492\n",
      "Iteration 20, loss = 0.00077337\n",
      "Iteration 21, loss = 0.00076399\n",
      "Iteration 22, loss = 0.00075421\n",
      "Iteration 23, loss = 0.00075076\n",
      "Iteration 24, loss = 0.00073354\n",
      "Iteration 25, loss = 0.00074587\n",
      "Iteration 26, loss = 0.00075235\n",
      "Iteration 27, loss = 0.00074359\n",
      "Iteration 28, loss = 0.00073335\n",
      "Iteration 29, loss = 0.00071229\n",
      "Iteration 30, loss = 0.00071301\n",
      "Iteration 31, loss = 0.00069541\n",
      "Iteration 32, loss = 0.00070552\n",
      "Iteration 33, loss = 0.00070962\n",
      "Iteration 34, loss = 0.00070419\n",
      "Iteration 35, loss = 0.00069200\n",
      "Iteration 36, loss = 0.00070950\n",
      "Iteration 37, loss = 0.00069276\n",
      "Iteration 38, loss = 0.00067684\n",
      "Iteration 39, loss = 0.00068883\n",
      "Iteration 40, loss = 0.00068162\n",
      "Iteration 41, loss = 0.00069224\n",
      "Iteration 42, loss = 0.00068769\n",
      "Iteration 43, loss = 0.00069062\n",
      "Iteration 44, loss = 0.00066281\n",
      "Iteration 45, loss = 0.00069287\n",
      "Iteration 46, loss = 0.00070813\n",
      "Iteration 47, loss = 0.00065890\n",
      "Iteration 48, loss = 0.00065499\n",
      "Iteration 49, loss = 0.00067529\n",
      "Iteration 50, loss = 0.00066877\n",
      "Iteration 51, loss = 0.00066723\n",
      "Iteration 52, loss = 0.00065344\n",
      "Iteration 53, loss = 0.00064109\n",
      "Iteration 54, loss = 0.00063414\n",
      "Iteration 55, loss = 0.00063468\n",
      "Iteration 56, loss = 0.00066349\n",
      "Iteration 57, loss = 0.00065004\n",
      "Iteration 58, loss = 0.00064264\n",
      "Iteration 59, loss = 0.00064322\n",
      "Iteration 60, loss = 0.00062770\n",
      "Iteration 61, loss = 0.00063508\n",
      "Iteration 62, loss = 0.00065280\n",
      "Iteration 63, loss = 0.00061911\n",
      "Iteration 64, loss = 0.00064487\n",
      "Iteration 65, loss = 0.00061969\n",
      "Iteration 66, loss = 0.00062043\n",
      "Iteration 67, loss = 0.00062404\n",
      "Iteration 68, loss = 0.00060487\n",
      "Iteration 69, loss = 0.00061757\n",
      "Iteration 70, loss = 0.00062643\n",
      "Iteration 71, loss = 0.00062463\n",
      "Iteration 72, loss = 0.00061237\n",
      "Iteration 73, loss = 0.00061866\n",
      "Iteration 74, loss = 0.00062147\n",
      "Iteration 75, loss = 0.00059911\n",
      "Iteration 76, loss = 0.00061480\n",
      "Iteration 77, loss = 0.00061403\n",
      "Iteration 78, loss = 0.00060371\n",
      "Iteration 79, loss = 0.00060808\n",
      "Iteration 80, loss = 0.00059065\n",
      "Iteration 81, loss = 0.00062129\n",
      "Iteration 82, loss = 0.00061666\n",
      "Iteration 83, loss = 0.00063378\n",
      "Iteration 84, loss = 0.00058664\n",
      "Iteration 85, loss = 0.00057830\n",
      "Iteration 86, loss = 0.00057343\n",
      "Iteration 87, loss = 0.00059463\n",
      "Iteration 88, loss = 0.00061311\n",
      "Iteration 89, loss = 0.00057363\n",
      "Iteration 90, loss = 0.00058146\n",
      "Iteration 91, loss = 0.00057371\n",
      "Iteration 92, loss = 0.00057111\n",
      "Iteration 93, loss = 0.00056212\n",
      "Iteration 94, loss = 0.00057988\n",
      "Iteration 95, loss = 0.00056825\n",
      "Iteration 96, loss = 0.00057616\n",
      "Iteration 97, loss = 0.00057817\n",
      "Iteration 98, loss = 0.00057432\n",
      "Iteration 99, loss = 0.00058177\n",
      "Iteration 100, loss = 0.00055813\n",
      "Iteration 101, loss = 0.00056432\n",
      "Iteration 102, loss = 0.00054419\n",
      "Iteration 103, loss = 0.00056381\n",
      "Iteration 104, loss = 0.00056335\n",
      "Iteration 105, loss = 0.00056891\n",
      "Iteration 106, loss = 0.00056497\n",
      "Iteration 107, loss = 0.00054443\n",
      "Iteration 108, loss = 0.00054887\n",
      "Iteration 109, loss = 0.00053935\n",
      "Iteration 110, loss = 0.00056347\n",
      "Iteration 111, loss = 0.00055212\n",
      "Iteration 112, loss = 0.00055873\n",
      "Iteration 113, loss = 0.00054353\n",
      "Iteration 114, loss = 0.00054483\n",
      "Iteration 115, loss = 0.00054451\n",
      "Iteration 116, loss = 0.00057431\n",
      "Iteration 117, loss = 0.00053679\n",
      "Iteration 118, loss = 0.00053519\n",
      "Iteration 119, loss = 0.00053909\n",
      "Iteration 120, loss = 0.00053600\n",
      "Iteration 121, loss = 0.00055455\n",
      "Iteration 122, loss = 0.00055120\n",
      "Iteration 123, loss = 0.00053851\n",
      "Iteration 124, loss = 0.00052654\n",
      "Iteration 125, loss = 0.00053034\n",
      "Iteration 126, loss = 0.00051572\n",
      "Iteration 127, loss = 0.00051781\n",
      "Iteration 128, loss = 0.00053780\n",
      "Iteration 129, loss = 0.00051630\n",
      "Iteration 130, loss = 0.00053343\n",
      "Iteration 131, loss = 0.00052610\n",
      "Iteration 132, loss = 0.00053063\n",
      "Iteration 133, loss = 0.00053020\n",
      "Iteration 134, loss = 0.00051467\n",
      "Iteration 135, loss = 0.00051893\n",
      "Iteration 136, loss = 0.00051341\n",
      "Iteration 137, loss = 0.00053246\n",
      "Iteration 138, loss = 0.00052183\n",
      "Iteration 139, loss = 0.00050009\n",
      "Iteration 140, loss = 0.00051435\n",
      "Iteration 141, loss = 0.00051175\n",
      "Iteration 142, loss = 0.00051085\n",
      "Iteration 143, loss = 0.00050993\n",
      "Iteration 144, loss = 0.00051233\n",
      "Iteration 145, loss = 0.00049653\n",
      "Iteration 146, loss = 0.00050061\n",
      "Iteration 147, loss = 0.00050419\n",
      "Iteration 148, loss = 0.00048320\n",
      "Iteration 149, loss = 0.00049903\n",
      "Iteration 150, loss = 0.00049965\n",
      "Iteration 151, loss = 0.00051071\n",
      "Iteration 152, loss = 0.00049126\n",
      "Iteration 153, loss = 0.00049616\n",
      "Iteration 154, loss = 0.00049462\n",
      "Iteration 155, loss = 0.00050834\n",
      "Iteration 156, loss = 0.00049604\n",
      "Iteration 157, loss = 0.00050034\n",
      "Iteration 158, loss = 0.00049021\n",
      "Iteration 159, loss = 0.00049772\n",
      "Training loss did not improve more than tol=0.000000 for 10 consecutive epochs. Stopping.\n"
     ]
    }
   ],
   "source": [
    "reg3 = MLPRegressor(hidden_layer_sizes=(338, 338, 50), \n",
    "                  activation='relu', solver='adam', max_iter = 200, random_state = 56, tol=0.0000000001 , verbose = True)\n",
    "reg3.fit(X_train_log_normson,y_train_log_norm)\n",
    "reg3_pred = reg3.predict(X_test_log_normson)"
   ]
  },
  {
   "cell_type": "code",
   "execution_count": 113,
   "metadata": {
    "colab": {
     "base_uri": "https://localhost:8080/"
    },
    "id": "PbkAFBp4sZii",
    "outputId": "e10041db-2bf7-4b32-f4fb-d622e5e8e70a"
   },
   "outputs": [
    {
     "data": {
      "text/plain": [
       "array([0.32737866, 0.22955138, 0.31842193, ..., 0.45196499, 0.43750482,\n",
       "       0.44114098])"
      ]
     },
     "execution_count": 113,
     "metadata": {},
     "output_type": "execute_result"
    }
   ],
   "source": [
    "reg3_pred"
   ]
  },
  {
   "cell_type": "code",
   "execution_count": 114,
   "metadata": {
    "id": "X_1slxgQsZii"
   },
   "outputs": [],
   "source": [
    "reg3_pred1  = reg3_pred.reshape(-1,1)"
   ]
  },
  {
   "cell_type": "code",
   "execution_count": 115,
   "metadata": {
    "id": "d1PO0HHVsZii"
   },
   "outputs": [],
   "source": [
    "reg3_pred_reel = scale_y_train_log.inverse_transform(reg3_pred1)"
   ]
  },
  {
   "cell_type": "code",
   "execution_count": 116,
   "metadata": {
    "colab": {
     "base_uri": "https://localhost:8080/"
    },
    "id": "LQ_a3uC9sZii",
    "outputId": "396f2228-e6ba-431f-94bc-03aab2106127"
   },
   "outputs": [
    {
     "data": {
      "text/plain": [
       "array([[12.74150259],\n",
       "       [12.28841802],\n",
       "       [12.70001969],\n",
       "       ...,\n",
       "       [13.31852098],\n",
       "       [13.25154905],\n",
       "       [13.26838983]])"
      ]
     },
     "execution_count": 116,
     "metadata": {},
     "output_type": "execute_result"
    }
   ],
   "source": [
    "reg3_pred_reel"
   ]
  },
  {
   "cell_type": "code",
   "execution_count": 117,
   "metadata": {
    "id": "Sk8FbxSpsZij"
   },
   "outputs": [],
   "source": [
    "reg3_pred_reel = (math.e)**reg3_pred_reel"
   ]
  },
  {
   "cell_type": "code",
   "execution_count": 118,
   "metadata": {
    "id": "d0O7a7MVsZij"
   },
   "outputs": [],
   "source": [
    "reg3_pred_reel = reg3_pred_reel.reshape(1,-1)"
   ]
  },
  {
   "cell_type": "code",
   "execution_count": 119,
   "metadata": {
    "colab": {
     "base_uri": "https://localhost:8080/"
    },
    "id": "nBP3J3clsZij",
    "outputId": "cb54268e-41f5-44f9-889b-19147e6cbb12"
   },
   "outputs": [
    {
     "data": {
      "text/plain": [
       "array([[341636.50214706, 217166.15350377, 327754.35610457, ...,\n",
       "        608359.32400511, 568950.69156852, 578613.39682047]])"
      ]
     },
     "execution_count": 119,
     "metadata": {},
     "output_type": "execute_result"
    }
   ],
   "source": [
    "reg3_pred_reel"
   ]
  },
  {
   "cell_type": "code",
   "execution_count": 120,
   "metadata": {
    "id": "MBpsUCNdsZij"
   },
   "outputs": [],
   "source": [
    "reg3_pred_reel2=np.squeeze(reg3_pred_reel)"
   ]
  },
  {
   "cell_type": "code",
   "execution_count": 121,
   "metadata": {
    "colab": {
     "base_uri": "https://localhost:8080/"
    },
    "id": "2w_T0h23sZij",
    "outputId": "32244e85-0735-4273-bdd0-5a22581f40b1"
   },
   "outputs": [
    {
     "name": "stdout",
     "output_type": "stream",
     "text": [
      "MAE:  68360.82077564782\n",
      "MSE:  14032515351.787653\n",
      "RMSE:  137247.04792438407\n"
     ]
    }
   ],
   "source": [
    "mae3 = mean_absolute_error(y_test,reg3_pred_reel2)\n",
    "print(\"MAE: \", mae3)\n",
    "mse3 = mean_squared_error(y_test,reg3_pred_reel2)\n",
    "print(\"MSE: \", mse3)\n",
    "rmse3 = np.sqrt(mse)\n",
    "print(\"RMSE: \", rmse3)"
   ]
  },
  {
   "cell_type": "code",
   "execution_count": 122,
   "metadata": {
    "colab": {
     "base_uri": "https://localhost:8080/"
    },
    "id": "k6JaXMNvsZik",
    "outputId": "a2fbd5d5-ffed-4e13-8b2b-d5bb706bec95"
   },
   "outputs": [
    {
     "data": {
      "text/plain": [
       "0.8496254886702748"
      ]
     },
     "execution_count": 122,
     "metadata": {},
     "output_type": "execute_result"
    }
   ],
   "source": [
    "reg3.score(X_test_log_normson, y_test_log_norm)"
   ]
  },
  {
   "cell_type": "code",
   "execution_count": 123,
   "metadata": {
    "colab": {
     "base_uri": "https://localhost:8080/",
     "height": 0
    },
    "id": "CnfDQbi4sZik",
    "outputId": "23b4b68b-38ac-476a-953e-d1966669eb14"
   },
   "outputs": [
    {
     "data": {
      "text/plain": [
       "(66000.0, 150000.0)"
      ]
     },
     "execution_count": 123,
     "metadata": {},
     "output_type": "execute_result"
    },
    {
     "data": {
      "image/png": "[encoded data removed]",
      "text/plain": [
       "<Figure size 1000x800 with 1 Axes>"
      ]
     },
     "metadata": {},
     "output_type": "display_data"
    }
   ],
   "source": [
    "br1 = mae_model\n",
    "br2 = mae_model_norm\n",
    "br3 = mae_model_log_norm\n",
    "brn1 = mae1\n",
    "brn2 = mae2\n",
    "brn3 = mae3\n",
    "\n",
    "import seaborn as  sns\n",
    "sns.barplot(x=['XGB Raw ','MLP Raw ','XGB Normalize ',\"MLP Normalize\",\"XGB Log-Normalize\",\"MLP Log-Normalize\"],y=[br1,mae1,br2,mae2,br3,mae3])\n",
    "plt.ylim([66000, 150000])\n"
   ]
  },
  {
   "cell_type": "markdown",
   "metadata": {
    "id": "gAheawTld4iC"
   },
   "source": [
    "**Kıyaslama işleminin yapılması**"
   ]
  },
  {
   "cell_type": "code",
   "execution_count": 124,
   "metadata": {
    "colab": {
     "base_uri": "https://localhost:8080/"
    },
    "id": "IoIIa1Q4d3Rv",
    "outputId": "0b9a22cb-f4f0-4d89-cee0-b209561a49ff"
   },
   "outputs": [
    {
     "data": {
      "text/plain": [
       "array([[0.45640198, 0.570157  , 0.56658521, ..., 0.57428737, 0.64559296,\n",
       "        0.45313988],\n",
       "       [0.31154282, 0.31546488, 0.13681763, ..., 0.89746126, 0.36172043,\n",
       "        0.28306009],\n",
       "       [0.45640198, 0.570157  , 0.57707911, ..., 0.63070933, 0.76158084,\n",
       "        0.46669337],\n",
       "       ...,\n",
       "       [0.39312326, 0.570157  , 0.55161057, ..., 0.83621967, 0.58867261,\n",
       "        0.36365858],\n",
       "       [0.31154282, 0.41702188, 0.45307972, ..., 0.81800563, 0.34508656,\n",
       "        0.22981737],\n",
       "       [0.39312326, 0.46039942, 0.34393723, ..., 0.65559146, 0.57769095,\n",
       "        0.37618753]])"
      ]
     },
     "execution_count": 124,
     "metadata": {},
     "output_type": "execute_result"
    }
   ],
   "source": [
    "X_train_log_norm"
   ]
  },
  {
   "cell_type": "code",
   "execution_count": 125,
   "metadata": {
    "colab": {
     "base_uri": "https://localhost:8080/",
     "height": 0
    },
    "id": "1kq67U6Bd3Ts",
    "outputId": "92dac3bd-e941-4939-d9e7-a531a4a953af"
   },
   "outputs": [
    {
     "data": {
      "text/html": [
       "<div>\n",
       "<style scoped>\n",
       "    .dataframe tbody tr th:only-of-type {\n",
       "        vertical-align: middle;\n",
       "    }\n",
       "\n",
       "    .dataframe tbody tr th {\n",
       "        vertical-align: top;\n",
       "    }\n",
       "\n",
       "    .dataframe thead th {\n",
       "        text-align: right;\n",
       "    }\n",
       "</style>\n",
       "<table border=\"1\" class=\"dataframe\">\n",
       "  <thead>\n",
       "    <tr style=\"text-align: right;\">\n",
       "      <th></th>\n",
       "      <th>bedrooms</th>\n",
       "      <th>bathrooms</th>\n",
       "      <th>sqft_living</th>\n",
       "      <th>sqft_lot</th>\n",
       "      <th>floors</th>\n",
       "      <th>waterfront</th>\n",
       "      <th>view</th>\n",
       "      <th>condition</th>\n",
       "      <th>grade</th>\n",
       "      <th>sqft_above</th>\n",
       "      <th>sqft_basement</th>\n",
       "      <th>yr_built</th>\n",
       "      <th>yr_renovated</th>\n",
       "      <th>zipcode</th>\n",
       "      <th>lat</th>\n",
       "      <th>long</th>\n",
       "      <th>sqft_living15</th>\n",
       "      <th>sqft_lot15</th>\n",
       "    </tr>\n",
       "  </thead>\n",
       "  <tbody>\n",
       "    <tr>\n",
       "      <th>3856</th>\n",
       "      <td>4</td>\n",
       "      <td>2.50</td>\n",
       "      <td>2880</td>\n",
       "      <td>23994</td>\n",
       "      <td>2.0</td>\n",
       "      <td>0</td>\n",
       "      <td>3</td>\n",
       "      <td>3</td>\n",
       "      <td>9</td>\n",
       "      <td>2880</td>\n",
       "      <td>0</td>\n",
       "      <td>2002</td>\n",
       "      <td>0</td>\n",
       "      <td>98022</td>\n",
       "      <td>47.2124</td>\n",
       "      <td>122.005</td>\n",
       "      <td>2470</td>\n",
       "      <td>17009</td>\n",
       "    </tr>\n",
       "    <tr>\n",
       "      <th>5010</th>\n",
       "      <td>2</td>\n",
       "      <td>1.00</td>\n",
       "      <td>620</td>\n",
       "      <td>4455</td>\n",
       "      <td>1.0</td>\n",
       "      <td>0</td>\n",
       "      <td>0</td>\n",
       "      <td>3</td>\n",
       "      <td>6</td>\n",
       "      <td>620</td>\n",
       "      <td>0</td>\n",
       "      <td>1927</td>\n",
       "      <td>0</td>\n",
       "      <td>98117</td>\n",
       "      <td>47.6877</td>\n",
       "      <td>122.395</td>\n",
       "      <td>1180</td>\n",
       "      <td>5000</td>\n",
       "    </tr>\n",
       "    <tr>\n",
       "      <th>18050</th>\n",
       "      <td>4</td>\n",
       "      <td>2.50</td>\n",
       "      <td>2990</td>\n",
       "      <td>16809</td>\n",
       "      <td>2.0</td>\n",
       "      <td>0</td>\n",
       "      <td>0</td>\n",
       "      <td>3</td>\n",
       "      <td>11</td>\n",
       "      <td>2990</td>\n",
       "      <td>0</td>\n",
       "      <td>1990</td>\n",
       "      <td>0</td>\n",
       "      <td>98077</td>\n",
       "      <td>47.7123</td>\n",
       "      <td>122.073</td>\n",
       "      <td>3340</td>\n",
       "      <td>18752</td>\n",
       "    </tr>\n",
       "    <tr>\n",
       "      <th>570</th>\n",
       "      <td>4</td>\n",
       "      <td>2.50</td>\n",
       "      <td>1830</td>\n",
       "      <td>5612</td>\n",
       "      <td>2.0</td>\n",
       "      <td>0</td>\n",
       "      <td>0</td>\n",
       "      <td>3</td>\n",
       "      <td>7</td>\n",
       "      <td>1830</td>\n",
       "      <td>0</td>\n",
       "      <td>2003</td>\n",
       "      <td>0</td>\n",
       "      <td>98038</td>\n",
       "      <td>47.3572</td>\n",
       "      <td>122.015</td>\n",
       "      <td>1830</td>\n",
       "      <td>5998</td>\n",
       "    </tr>\n",
       "    <tr>\n",
       "      <th>8556</th>\n",
       "      <td>4</td>\n",
       "      <td>2.50</td>\n",
       "      <td>3320</td>\n",
       "      <td>9380</td>\n",
       "      <td>2.0</td>\n",
       "      <td>0</td>\n",
       "      <td>3</td>\n",
       "      <td>3</td>\n",
       "      <td>10</td>\n",
       "      <td>3320</td>\n",
       "      <td>0</td>\n",
       "      <td>1988</td>\n",
       "      <td>0</td>\n",
       "      <td>98006</td>\n",
       "      <td>47.5655</td>\n",
       "      <td>122.114</td>\n",
       "      <td>2870</td>\n",
       "      <td>11779</td>\n",
       "    </tr>\n",
       "    <tr>\n",
       "      <th>...</th>\n",
       "      <td>...</td>\n",
       "      <td>...</td>\n",
       "      <td>...</td>\n",
       "      <td>...</td>\n",
       "      <td>...</td>\n",
       "      <td>...</td>\n",
       "      <td>...</td>\n",
       "      <td>...</td>\n",
       "      <td>...</td>\n",
       "      <td>...</td>\n",
       "      <td>...</td>\n",
       "      <td>...</td>\n",
       "      <td>...</td>\n",
       "      <td>...</td>\n",
       "      <td>...</td>\n",
       "      <td>...</td>\n",
       "      <td>...</td>\n",
       "      <td>...</td>\n",
       "    </tr>\n",
       "    <tr>\n",
       "      <th>5520</th>\n",
       "      <td>3</td>\n",
       "      <td>1.75</td>\n",
       "      <td>2100</td>\n",
       "      <td>5000</td>\n",
       "      <td>1.5</td>\n",
       "      <td>0</td>\n",
       "      <td>0</td>\n",
       "      <td>3</td>\n",
       "      <td>8</td>\n",
       "      <td>2100</td>\n",
       "      <td>0</td>\n",
       "      <td>1916</td>\n",
       "      <td>0</td>\n",
       "      <td>98117</td>\n",
       "      <td>47.6776</td>\n",
       "      <td>122.360</td>\n",
       "      <td>1830</td>\n",
       "      <td>4200</td>\n",
       "    </tr>\n",
       "    <tr>\n",
       "      <th>3046</th>\n",
       "      <td>3</td>\n",
       "      <td>1.00</td>\n",
       "      <td>1330</td>\n",
       "      <td>10500</td>\n",
       "      <td>1.0</td>\n",
       "      <td>0</td>\n",
       "      <td>0</td>\n",
       "      <td>3</td>\n",
       "      <td>7</td>\n",
       "      <td>960</td>\n",
       "      <td>370</td>\n",
       "      <td>1963</td>\n",
       "      <td>0</td>\n",
       "      <td>98034</td>\n",
       "      <td>47.7204</td>\n",
       "      <td>122.196</td>\n",
       "      <td>1460</td>\n",
       "      <td>11550</td>\n",
       "    </tr>\n",
       "    <tr>\n",
       "      <th>20463</th>\n",
       "      <td>3</td>\n",
       "      <td>2.50</td>\n",
       "      <td>2730</td>\n",
       "      <td>7136</td>\n",
       "      <td>2.0</td>\n",
       "      <td>0</td>\n",
       "      <td>0</td>\n",
       "      <td>3</td>\n",
       "      <td>8</td>\n",
       "      <td>2730</td>\n",
       "      <td>0</td>\n",
       "      <td>2012</td>\n",
       "      <td>0</td>\n",
       "      <td>98198</td>\n",
       "      <td>47.3938</td>\n",
       "      <td>122.321</td>\n",
       "      <td>2130</td>\n",
       "      <td>8932</td>\n",
       "    </tr>\n",
       "    <tr>\n",
       "      <th>18638</th>\n",
       "      <td>2</td>\n",
       "      <td>1.50</td>\n",
       "      <td>1920</td>\n",
       "      <td>3408</td>\n",
       "      <td>1.0</td>\n",
       "      <td>0</td>\n",
       "      <td>0</td>\n",
       "      <td>4</td>\n",
       "      <td>7</td>\n",
       "      <td>960</td>\n",
       "      <td>960</td>\n",
       "      <td>1912</td>\n",
       "      <td>0</td>\n",
       "      <td>98122</td>\n",
       "      <td>47.6118</td>\n",
       "      <td>122.299</td>\n",
       "      <td>1130</td>\n",
       "      <td>3408</td>\n",
       "    </tr>\n",
       "    <tr>\n",
       "      <th>2915</th>\n",
       "      <td>3</td>\n",
       "      <td>1.75</td>\n",
       "      <td>1300</td>\n",
       "      <td>9600</td>\n",
       "      <td>1.0</td>\n",
       "      <td>0</td>\n",
       "      <td>0</td>\n",
       "      <td>4</td>\n",
       "      <td>7</td>\n",
       "      <td>1300</td>\n",
       "      <td>0</td>\n",
       "      <td>1969</td>\n",
       "      <td>0</td>\n",
       "      <td>98052</td>\n",
       "      <td>47.6388</td>\n",
       "      <td>122.103</td>\n",
       "      <td>2070</td>\n",
       "      <td>9775</td>\n",
       "    </tr>\n",
       "  </tbody>\n",
       "</table>\n",
       "<p>17290 rows × 18 columns</p>\n",
       "</div>"
      ],
      "text/plain": [
       "       bedrooms  bathrooms  sqft_living  sqft_lot  floors  waterfront  view  \\\n",
       "3856          4       2.50         2880     23994     2.0           0     3   \n",
       "5010          2       1.00          620      4455     1.0           0     0   \n",
       "18050         4       2.50         2990     16809     2.0           0     0   \n",
       "570           4       2.50         1830      5612     2.0           0     0   \n",
       "8556          4       2.50         3320      9380     2.0           0     3   \n",
       "...         ...        ...          ...       ...     ...         ...   ...   \n",
       "5520          3       1.75         2100      5000     1.5           0     0   \n",
       "3046          3       1.00         1330     10500     1.0           0     0   \n",
       "20463         3       2.50         2730      7136     2.0           0     0   \n",
       "18638         2       1.50         1920      3408     1.0           0     0   \n",
       "2915          3       1.75         1300      9600     1.0           0     0   \n",
       "\n",
       "       condition  grade  sqft_above  sqft_basement  yr_built  yr_renovated  \\\n",
       "3856           3      9        2880              0      2002             0   \n",
       "5010           3      6         620              0      1927             0   \n",
       "18050          3     11        2990              0      1990             0   \n",
       "570            3      7        1830              0      2003             0   \n",
       "8556           3     10        3320              0      1988             0   \n",
       "...          ...    ...         ...            ...       ...           ...   \n",
       "5520           3      8        2100              0      1916             0   \n",
       "3046           3      7         960            370      1963             0   \n",
       "20463          3      8        2730              0      2012             0   \n",
       "18638          4      7         960            960      1912             0   \n",
       "2915           4      7        1300              0      1969             0   \n",
       "\n",
       "       zipcode      lat     long  sqft_living15  sqft_lot15  \n",
       "3856     98022  47.2124  122.005           2470       17009  \n",
       "5010     98117  47.6877  122.395           1180        5000  \n",
       "18050    98077  47.7123  122.073           3340       18752  \n",
       "570      98038  47.3572  122.015           1830        5998  \n",
       "8556     98006  47.5655  122.114           2870       11779  \n",
       "...        ...      ...      ...            ...         ...  \n",
       "5520     98117  47.6776  122.360           1830        4200  \n",
       "3046     98034  47.7204  122.196           1460       11550  \n",
       "20463    98198  47.3938  122.321           2130        8932  \n",
       "18638    98122  47.6118  122.299           1130        3408  \n",
       "2915     98052  47.6388  122.103           2070        9775  \n",
       "\n",
       "[17290 rows x 18 columns]"
      ]
     },
     "execution_count": 125,
     "metadata": {},
     "output_type": "execute_result"
    }
   ],
   "source": [
    "X_train"
   ]
  },
  {
   "cell_type": "code",
   "execution_count": 126,
   "metadata": {
    "colab": {
     "base_uri": "https://localhost:8080/"
    },
    "id": "Q8tq39T9d3V_",
    "outputId": "c0eaae5b-391d-410a-8e89-8ac5f944856b"
   },
   "outputs": [
    {
     "name": "stdout",
     "output_type": "stream",
     "text": [
      "False\n"
     ]
    }
   ],
   "source": [
    "X_train_norm_sum = np.sum(X_train_norm)\n",
    "X_train_norm_has_nan = np.isnan(X_train_norm_sum)\n",
    "print(X_train_norm_has_nan)\n"
   ]
  },
  {
   "cell_type": "code",
   "execution_count": 127,
   "metadata": {
    "colab": {
     "base_uri": "https://localhost:8080/"
    },
    "id": "TJdfP-pYfNAL",
    "outputId": "c7e9e58e-829b-4a34-c9a0-6ef646112bdb"
   },
   "outputs": [
    {
     "name": "stdout",
     "output_type": "stream",
     "text": [
      "False\n"
     ]
    }
   ],
   "source": [
    "X_train_log_norm_sum = np.sum(X_train_log_norm)\n",
    "X_train_log_norm_has_nan = np.isnan(X_train_log_norm_sum)\n",
    "print(X_train_log_norm_has_nan)\n"
   ]
  },
  {
   "cell_type": "code",
   "execution_count": 128,
   "metadata": {
    "colab": {
     "base_uri": "https://localhost:8080/"
    },
    "id": "IDUhS4g5jqv0",
    "outputId": "938eefd5-a214-4fb7-b5dd-47cdfe9836ac"
   },
   "outputs": [
    {
     "data": {
      "text/plain": [
       "array([[0.45640198, 0.570157  , 0.56658521, ..., 0.57428737, 0.64559296,\n",
       "        0.45313988],\n",
       "       [0.31154282, 0.31546488, 0.13681763, ..., 0.89746126, 0.36172043,\n",
       "        0.28306009],\n",
       "       [0.45640198, 0.570157  , 0.57707911, ..., 0.63070933, 0.76158084,\n",
       "        0.46669337],\n",
       "       ...,\n",
       "       [0.39312326, 0.570157  , 0.55161057, ..., 0.83621967, 0.58867261,\n",
       "        0.36365858],\n",
       "       [0.31154282, 0.41702188, 0.45307972, ..., 0.81800563, 0.34508656,\n",
       "        0.22981737],\n",
       "       [0.39312326, 0.46039942, 0.34393723, ..., 0.65559146, 0.57769095,\n",
       "        0.37618753]])"
      ]
     },
     "execution_count": 128,
     "metadata": {},
     "output_type": "execute_result"
    }
   ],
   "source": [
    "X_train_log_norm"
   ]
  },
  {
   "cell_type": "code",
   "execution_count": 129,
   "metadata": {
    "id": "8VsRqdZNsZik"
   },
   "outputs": [],
   "source": [
    "#############################################################"
   ]
  },
  {
   "cell_type": "code",
   "execution_count": 130,
   "metadata": {
    "colab": {
     "base_uri": "https://localhost:8080/",
     "height": 0
    },
    "id": "8ylGafnbsZik",
    "outputId": "5fa0a24c-712f-4ceb-b2cd-17bd0293ff30"
   },
   "outputs": [
    {
     "data": {
      "text/plain": [
       "(-196600.0, 5844600.0, -196600.0, 5844600.0)"
      ]
     },
     "execution_count": 130,
     "metadata": {},
     "output_type": "execute_result"
    },
    {
     "data": {
      "image/png": "[encoded data removed]",
      "text/plain": [
       "<Figure size 600x600 with 1 Axes>"
      ]
     },
     "metadata": {},
     "output_type": "display_data"
    }
   ],
   "source": [
    "plt.figure(figsize=(6,6))\n",
    "plt.scatter(y_test, reg3_pred_reel2)\n",
    "plt.plot(y_test,y_test, color=\"red\")\n",
    "plt.xlabel('test verileri')\n",
    "plt.ylabel(\"tahmin edilen değer\")\n",
    "plt.axis('equal')"
   ]
  },
  {
   "cell_type": "code",
   "execution_count": 131,
   "metadata": {
    "colab": {
     "base_uri": "https://localhost:8080/",
     "height": 0
    },
    "id": "TFbewHXKsZik",
    "outputId": "7537e36a-787f-43af-f0c0-81a8877a408a"
   },
   "outputs": [
    {
     "data": {
      "text/plain": [
       "(-196600.0, 5844600.0, -197544.48707315896, 5844644.9755749125)"
      ]
     },
     "execution_count": 131,
     "metadata": {},
     "output_type": "execute_result"
    },
    {
     "data": {
      "image/png": "[encoded data removed]",
      "text/plain": [
       "<Figure size 600x600 with 1 Axes>"
      ]
     },
     "metadata": {},
     "output_type": "display_data"
    }
   ],
   "source": [
    "plt.figure(figsize=(6,6))\n",
    "plt.scatter(y_test, reg2_pred_reel)\n",
    "plt.plot(y_test,y_test, color=\"red\")\n",
    "plt.xlabel('test verileri')\n",
    "plt.ylabel(\"tahmin edilen değer\")\n",
    "plt.axis('equal')"
   ]
  },
  {
   "cell_type": "code",
   "execution_count": 132,
   "metadata": {
    "colab": {
     "base_uri": "https://localhost:8080/",
     "height": 0
    },
    "id": "op-t9P5qsZil",
    "outputId": "c2b438a1-9340-45ec-b62c-618a91a5e45a"
   },
   "outputs": [
    {
     "data": {
      "text/plain": [
       "(-196600.0, 5844600.0, -198310.89413184213, 5880528.776768684)"
      ]
     },
     "execution_count": 132,
     "metadata": {},
     "output_type": "execute_result"
    },
    {
     "data": {
      "image/png": "[encoded data removed]",
      "text/plain": [
       "<Figure size 600x600 with 1 Axes>"
      ]
     },
     "metadata": {},
     "output_type": "display_data"
    }
   ],
   "source": [
    "plt.figure(figsize=(6,6))\n",
    "plt.scatter(y_test, reg1_pred)\n",
    "plt.plot(y_test,y_test, color=\"red\")\n",
    "plt.xlabel('test verileri')\n",
    "plt.ylabel(\"tahmin edilen değer\")\n",
    "plt.axis('equal')"
   ]
  },
  {
   "cell_type": "code",
   "execution_count": 132,
   "metadata": {
    "id": "t8U1GfJbsZil"
   },
   "outputs": [],
   "source": []
  },
  {
   "cell_type": "code",
   "execution_count": 132,
   "metadata": {
    "id": "9Y8WIijOsZim"
   },
   "outputs": [],
   "source": []
  },
  {
   "cell_type": "code",
   "execution_count": 132,
   "metadata": {
    "id": "IM_gX6h1sZim"
   },
   "outputs": [],
   "source": []
  },
  {
   "cell_type": "code",
   "execution_count": 132,
   "metadata": {
    "id": "gx0EnuOIsZim"
   },
   "outputs": [],
   "source": []
  },
  {
   "cell_type": "code",
   "execution_count": 133,
   "metadata": {
    "colab": {
     "base_uri": "https://localhost:8080/",
     "height": 0
    },
    "id": "M9-5WGGfsZim",
    "outputId": "82ec56f0-3632-4994-b6b7-e81722d61c22"
   },
   "outputs": [
    {
     "data": {
      "text/html": [
       "<div>\n",
       "<style scoped>\n",
       "    .dataframe tbody tr th:only-of-type {\n",
       "        vertical-align: middle;\n",
       "    }\n",
       "\n",
       "    .dataframe tbody tr th {\n",
       "        vertical-align: top;\n",
       "    }\n",
       "\n",
       "    .dataframe thead th {\n",
       "        text-align: right;\n",
       "    }\n",
       "</style>\n",
       "<table border=\"1\" class=\"dataframe\">\n",
       "  <thead>\n",
       "    <tr style=\"text-align: right;\">\n",
       "      <th></th>\n",
       "      <th>bedrooms</th>\n",
       "      <th>bathrooms</th>\n",
       "      <th>sqft_living</th>\n",
       "      <th>sqft_lot</th>\n",
       "      <th>floors</th>\n",
       "      <th>waterfront</th>\n",
       "      <th>view</th>\n",
       "      <th>condition</th>\n",
       "      <th>grade</th>\n",
       "      <th>sqft_above</th>\n",
       "      <th>sqft_basement</th>\n",
       "      <th>yr_built</th>\n",
       "      <th>yr_renovated</th>\n",
       "      <th>zipcode</th>\n",
       "      <th>lat</th>\n",
       "      <th>long</th>\n",
       "      <th>sqft_living15</th>\n",
       "      <th>sqft_lot15</th>\n",
       "    </tr>\n",
       "  </thead>\n",
       "  <tbody>\n",
       "    <tr>\n",
       "      <th>17485</th>\n",
       "      <td>4</td>\n",
       "      <td>2.50</td>\n",
       "      <td>2800</td>\n",
       "      <td>6820</td>\n",
       "      <td>2.0</td>\n",
       "      <td>0</td>\n",
       "      <td>0</td>\n",
       "      <td>4</td>\n",
       "      <td>7</td>\n",
       "      <td>2800</td>\n",
       "      <td>0</td>\n",
       "      <td>1997</td>\n",
       "      <td>0</td>\n",
       "      <td>98042</td>\n",
       "      <td>47.3695</td>\n",
       "      <td>122.108</td>\n",
       "      <td>2060</td>\n",
       "      <td>6820</td>\n",
       "    </tr>\n",
       "    <tr>\n",
       "      <th>15164</th>\n",
       "      <td>3</td>\n",
       "      <td>1.00</td>\n",
       "      <td>1250</td>\n",
       "      <td>10200</td>\n",
       "      <td>1.0</td>\n",
       "      <td>0</td>\n",
       "      <td>0</td>\n",
       "      <td>3</td>\n",
       "      <td>6</td>\n",
       "      <td>1250</td>\n",
       "      <td>0</td>\n",
       "      <td>1965</td>\n",
       "      <td>0</td>\n",
       "      <td>98178</td>\n",
       "      <td>47.4902</td>\n",
       "      <td>122.256</td>\n",
       "      <td>1800</td>\n",
       "      <td>8283</td>\n",
       "    </tr>\n",
       "    <tr>\n",
       "      <th>18449</th>\n",
       "      <td>3</td>\n",
       "      <td>1.00</td>\n",
       "      <td>1540</td>\n",
       "      <td>7740</td>\n",
       "      <td>1.0</td>\n",
       "      <td>0</td>\n",
       "      <td>0</td>\n",
       "      <td>4</td>\n",
       "      <td>7</td>\n",
       "      <td>1540</td>\n",
       "      <td>0</td>\n",
       "      <td>1909</td>\n",
       "      <td>0</td>\n",
       "      <td>98126</td>\n",
       "      <td>47.5220</td>\n",
       "      <td>122.375</td>\n",
       "      <td>1220</td>\n",
       "      <td>7740</td>\n",
       "    </tr>\n",
       "    <tr>\n",
       "      <th>6828</th>\n",
       "      <td>4</td>\n",
       "      <td>1.50</td>\n",
       "      <td>1910</td>\n",
       "      <td>5000</td>\n",
       "      <td>1.5</td>\n",
       "      <td>0</td>\n",
       "      <td>0</td>\n",
       "      <td>3</td>\n",
       "      <td>7</td>\n",
       "      <td>1610</td>\n",
       "      <td>300</td>\n",
       "      <td>1912</td>\n",
       "      <td>0</td>\n",
       "      <td>98105</td>\n",
       "      <td>47.6597</td>\n",
       "      <td>122.290</td>\n",
       "      <td>2170</td>\n",
       "      <td>5000</td>\n",
       "    </tr>\n",
       "    <tr>\n",
       "      <th>18281</th>\n",
       "      <td>3</td>\n",
       "      <td>2.50</td>\n",
       "      <td>3320</td>\n",
       "      <td>11875</td>\n",
       "      <td>1.0</td>\n",
       "      <td>0</td>\n",
       "      <td>0</td>\n",
       "      <td>5</td>\n",
       "      <td>10</td>\n",
       "      <td>3320</td>\n",
       "      <td>0</td>\n",
       "      <td>1979</td>\n",
       "      <td>0</td>\n",
       "      <td>98034</td>\n",
       "      <td>47.7212</td>\n",
       "      <td>122.260</td>\n",
       "      <td>3730</td>\n",
       "      <td>11875</td>\n",
       "    </tr>\n",
       "    <tr>\n",
       "      <th>...</th>\n",
       "      <td>...</td>\n",
       "      <td>...</td>\n",
       "      <td>...</td>\n",
       "      <td>...</td>\n",
       "      <td>...</td>\n",
       "      <td>...</td>\n",
       "      <td>...</td>\n",
       "      <td>...</td>\n",
       "      <td>...</td>\n",
       "      <td>...</td>\n",
       "      <td>...</td>\n",
       "      <td>...</td>\n",
       "      <td>...</td>\n",
       "      <td>...</td>\n",
       "      <td>...</td>\n",
       "      <td>...</td>\n",
       "      <td>...</td>\n",
       "      <td>...</td>\n",
       "    </tr>\n",
       "    <tr>\n",
       "      <th>12430</th>\n",
       "      <td>3</td>\n",
       "      <td>1.00</td>\n",
       "      <td>860</td>\n",
       "      <td>6380</td>\n",
       "      <td>1.5</td>\n",
       "      <td>0</td>\n",
       "      <td>0</td>\n",
       "      <td>4</td>\n",
       "      <td>7</td>\n",
       "      <td>860</td>\n",
       "      <td>0</td>\n",
       "      <td>1927</td>\n",
       "      <td>0</td>\n",
       "      <td>98115</td>\n",
       "      <td>47.6942</td>\n",
       "      <td>122.315</td>\n",
       "      <td>1250</td>\n",
       "      <td>6380</td>\n",
       "    </tr>\n",
       "    <tr>\n",
       "      <th>2320</th>\n",
       "      <td>3</td>\n",
       "      <td>3.50</td>\n",
       "      <td>3780</td>\n",
       "      <td>8295</td>\n",
       "      <td>2.0</td>\n",
       "      <td>0</td>\n",
       "      <td>0</td>\n",
       "      <td>3</td>\n",
       "      <td>9</td>\n",
       "      <td>2430</td>\n",
       "      <td>1350</td>\n",
       "      <td>1951</td>\n",
       "      <td>0</td>\n",
       "      <td>98112</td>\n",
       "      <td>47.6394</td>\n",
       "      <td>122.290</td>\n",
       "      <td>3780</td>\n",
       "      <td>9127</td>\n",
       "    </tr>\n",
       "    <tr>\n",
       "      <th>5419</th>\n",
       "      <td>4</td>\n",
       "      <td>2.50</td>\n",
       "      <td>2240</td>\n",
       "      <td>7540</td>\n",
       "      <td>1.0</td>\n",
       "      <td>0</td>\n",
       "      <td>0</td>\n",
       "      <td>3</td>\n",
       "      <td>8</td>\n",
       "      <td>1540</td>\n",
       "      <td>700</td>\n",
       "      <td>1962</td>\n",
       "      <td>0</td>\n",
       "      <td>98115</td>\n",
       "      <td>47.6965</td>\n",
       "      <td>122.308</td>\n",
       "      <td>1960</td>\n",
       "      <td>7250</td>\n",
       "    </tr>\n",
       "    <tr>\n",
       "      <th>9517</th>\n",
       "      <td>5</td>\n",
       "      <td>2.75</td>\n",
       "      <td>2550</td>\n",
       "      <td>7725</td>\n",
       "      <td>1.0</td>\n",
       "      <td>0</td>\n",
       "      <td>0</td>\n",
       "      <td>5</td>\n",
       "      <td>8</td>\n",
       "      <td>1390</td>\n",
       "      <td>1160</td>\n",
       "      <td>1967</td>\n",
       "      <td>0</td>\n",
       "      <td>98056</td>\n",
       "      <td>47.5388</td>\n",
       "      <td>122.171</td>\n",
       "      <td>2450</td>\n",
       "      <td>7725</td>\n",
       "    </tr>\n",
       "    <tr>\n",
       "      <th>12877</th>\n",
       "      <td>4</td>\n",
       "      <td>2.50</td>\n",
       "      <td>2040</td>\n",
       "      <td>5508</td>\n",
       "      <td>2.0</td>\n",
       "      <td>0</td>\n",
       "      <td>0</td>\n",
       "      <td>4</td>\n",
       "      <td>8</td>\n",
       "      <td>2040</td>\n",
       "      <td>0</td>\n",
       "      <td>1996</td>\n",
       "      <td>0</td>\n",
       "      <td>98029</td>\n",
       "      <td>47.5719</td>\n",
       "      <td>122.007</td>\n",
       "      <td>2130</td>\n",
       "      <td>5496</td>\n",
       "    </tr>\n",
       "  </tbody>\n",
       "</table>\n",
       "<p>4323 rows × 18 columns</p>\n",
       "</div>"
      ],
      "text/plain": [
       "       bedrooms  bathrooms  sqft_living  sqft_lot  floors  waterfront  view  \\\n",
       "17485         4       2.50         2800      6820     2.0           0     0   \n",
       "15164         3       1.00         1250     10200     1.0           0     0   \n",
       "18449         3       1.00         1540      7740     1.0           0     0   \n",
       "6828          4       1.50         1910      5000     1.5           0     0   \n",
       "18281         3       2.50         3320     11875     1.0           0     0   \n",
       "...         ...        ...          ...       ...     ...         ...   ...   \n",
       "12430         3       1.00          860      6380     1.5           0     0   \n",
       "2320          3       3.50         3780      8295     2.0           0     0   \n",
       "5419          4       2.50         2240      7540     1.0           0     0   \n",
       "9517          5       2.75         2550      7725     1.0           0     0   \n",
       "12877         4       2.50         2040      5508     2.0           0     0   \n",
       "\n",
       "       condition  grade  sqft_above  sqft_basement  yr_built  yr_renovated  \\\n",
       "17485          4      7        2800              0      1997             0   \n",
       "15164          3      6        1250              0      1965             0   \n",
       "18449          4      7        1540              0      1909             0   \n",
       "6828           3      7        1610            300      1912             0   \n",
       "18281          5     10        3320              0      1979             0   \n",
       "...          ...    ...         ...            ...       ...           ...   \n",
       "12430          4      7         860              0      1927             0   \n",
       "2320           3      9        2430           1350      1951             0   \n",
       "5419           3      8        1540            700      1962             0   \n",
       "9517           5      8        1390           1160      1967             0   \n",
       "12877          4      8        2040              0      1996             0   \n",
       "\n",
       "       zipcode      lat     long  sqft_living15  sqft_lot15  \n",
       "17485    98042  47.3695  122.108           2060        6820  \n",
       "15164    98178  47.4902  122.256           1800        8283  \n",
       "18449    98126  47.5220  122.375           1220        7740  \n",
       "6828     98105  47.6597  122.290           2170        5000  \n",
       "18281    98034  47.7212  122.260           3730       11875  \n",
       "...        ...      ...      ...            ...         ...  \n",
       "12430    98115  47.6942  122.315           1250        6380  \n",
       "2320     98112  47.6394  122.290           3780        9127  \n",
       "5419     98115  47.6965  122.308           1960        7250  \n",
       "9517     98056  47.5388  122.171           2450        7725  \n",
       "12877    98029  47.5719  122.007           2130        5496  \n",
       "\n",
       "[4323 rows x 18 columns]"
      ]
     },
     "execution_count": 133,
     "metadata": {},
     "output_type": "execute_result"
    }
   ],
   "source": [
    "X_test"
   ]
  },
  {
   "cell_type": "code",
   "execution_count": 134,
   "metadata": {
    "id": "xOlu7PYbj5Kd"
   },
   "outputs": [],
   "source": [
    "data['long'] = data['long'].abs()"
   ]
  },
  {
   "cell_type": "code",
   "execution_count": 135,
   "metadata": {
    "colab": {
     "base_uri": "https://localhost:8080/",
     "height": 0
    },
    "id": "t3qxY85DkABX",
    "outputId": "cb034208-4d31-4f8a-c54e-81a46f3d8059"
   },
   "outputs": [
    {
     "data": {
      "text/html": [
       "<div>\n",
       "<style scoped>\n",
       "    .dataframe tbody tr th:only-of-type {\n",
       "        vertical-align: middle;\n",
       "    }\n",
       "\n",
       "    .dataframe tbody tr th {\n",
       "        vertical-align: top;\n",
       "    }\n",
       "\n",
       "    .dataframe thead th {\n",
       "        text-align: right;\n",
       "    }\n",
       "</style>\n",
       "<table border=\"1\" class=\"dataframe\">\n",
       "  <thead>\n",
       "    <tr style=\"text-align: right;\">\n",
       "      <th></th>\n",
       "      <th>price</th>\n",
       "      <th>bedrooms</th>\n",
       "      <th>bathrooms</th>\n",
       "      <th>sqft_living</th>\n",
       "      <th>sqft_lot</th>\n",
       "      <th>floors</th>\n",
       "      <th>waterfront</th>\n",
       "      <th>view</th>\n",
       "      <th>condition</th>\n",
       "      <th>grade</th>\n",
       "      <th>sqft_above</th>\n",
       "      <th>sqft_basement</th>\n",
       "      <th>yr_built</th>\n",
       "      <th>yr_renovated</th>\n",
       "      <th>zipcode</th>\n",
       "      <th>lat</th>\n",
       "      <th>long</th>\n",
       "      <th>sqft_living15</th>\n",
       "      <th>sqft_lot15</th>\n",
       "    </tr>\n",
       "  </thead>\n",
       "  <tbody>\n",
       "    <tr>\n",
       "      <th>0</th>\n",
       "      <td>221900.0</td>\n",
       "      <td>3</td>\n",
       "      <td>1.00</td>\n",
       "      <td>1180</td>\n",
       "      <td>5650</td>\n",
       "      <td>1.0</td>\n",
       "      <td>0</td>\n",
       "      <td>0</td>\n",
       "      <td>3</td>\n",
       "      <td>7</td>\n",
       "      <td>1180</td>\n",
       "      <td>0</td>\n",
       "      <td>1955</td>\n",
       "      <td>0</td>\n",
       "      <td>98178</td>\n",
       "      <td>47.5112</td>\n",
       "      <td>122.257</td>\n",
       "      <td>1340</td>\n",
       "      <td>5650</td>\n",
       "    </tr>\n",
       "    <tr>\n",
       "      <th>1</th>\n",
       "      <td>538000.0</td>\n",
       "      <td>3</td>\n",
       "      <td>2.25</td>\n",
       "      <td>2570</td>\n",
       "      <td>7242</td>\n",
       "      <td>2.0</td>\n",
       "      <td>0</td>\n",
       "      <td>0</td>\n",
       "      <td>3</td>\n",
       "      <td>7</td>\n",
       "      <td>2170</td>\n",
       "      <td>400</td>\n",
       "      <td>1951</td>\n",
       "      <td>1991</td>\n",
       "      <td>98125</td>\n",
       "      <td>47.7210</td>\n",
       "      <td>122.319</td>\n",
       "      <td>1690</td>\n",
       "      <td>7639</td>\n",
       "    </tr>\n",
       "    <tr>\n",
       "      <th>2</th>\n",
       "      <td>180000.0</td>\n",
       "      <td>2</td>\n",
       "      <td>1.00</td>\n",
       "      <td>770</td>\n",
       "      <td>10000</td>\n",
       "      <td>1.0</td>\n",
       "      <td>0</td>\n",
       "      <td>0</td>\n",
       "      <td>3</td>\n",
       "      <td>6</td>\n",
       "      <td>770</td>\n",
       "      <td>0</td>\n",
       "      <td>1933</td>\n",
       "      <td>0</td>\n",
       "      <td>98028</td>\n",
       "      <td>47.7379</td>\n",
       "      <td>122.233</td>\n",
       "      <td>2720</td>\n",
       "      <td>8062</td>\n",
       "    </tr>\n",
       "    <tr>\n",
       "      <th>3</th>\n",
       "      <td>604000.0</td>\n",
       "      <td>4</td>\n",
       "      <td>3.00</td>\n",
       "      <td>1960</td>\n",
       "      <td>5000</td>\n",
       "      <td>1.0</td>\n",
       "      <td>0</td>\n",
       "      <td>0</td>\n",
       "      <td>5</td>\n",
       "      <td>7</td>\n",
       "      <td>1050</td>\n",
       "      <td>910</td>\n",
       "      <td>1965</td>\n",
       "      <td>0</td>\n",
       "      <td>98136</td>\n",
       "      <td>47.5208</td>\n",
       "      <td>122.393</td>\n",
       "      <td>1360</td>\n",
       "      <td>5000</td>\n",
       "    </tr>\n",
       "    <tr>\n",
       "      <th>4</th>\n",
       "      <td>510000.0</td>\n",
       "      <td>3</td>\n",
       "      <td>2.00</td>\n",
       "      <td>1680</td>\n",
       "      <td>8080</td>\n",
       "      <td>1.0</td>\n",
       "      <td>0</td>\n",
       "      <td>0</td>\n",
       "      <td>3</td>\n",
       "      <td>8</td>\n",
       "      <td>1680</td>\n",
       "      <td>0</td>\n",
       "      <td>1987</td>\n",
       "      <td>0</td>\n",
       "      <td>98074</td>\n",
       "      <td>47.6168</td>\n",
       "      <td>122.045</td>\n",
       "      <td>1800</td>\n",
       "      <td>7503</td>\n",
       "    </tr>\n",
       "    <tr>\n",
       "      <th>...</th>\n",
       "      <td>...</td>\n",
       "      <td>...</td>\n",
       "      <td>...</td>\n",
       "      <td>...</td>\n",
       "      <td>...</td>\n",
       "      <td>...</td>\n",
       "      <td>...</td>\n",
       "      <td>...</td>\n",
       "      <td>...</td>\n",
       "      <td>...</td>\n",
       "      <td>...</td>\n",
       "      <td>...</td>\n",
       "      <td>...</td>\n",
       "      <td>...</td>\n",
       "      <td>...</td>\n",
       "      <td>...</td>\n",
       "      <td>...</td>\n",
       "      <td>...</td>\n",
       "      <td>...</td>\n",
       "    </tr>\n",
       "    <tr>\n",
       "      <th>21608</th>\n",
       "      <td>360000.0</td>\n",
       "      <td>3</td>\n",
       "      <td>2.50</td>\n",
       "      <td>1530</td>\n",
       "      <td>1131</td>\n",
       "      <td>3.0</td>\n",
       "      <td>0</td>\n",
       "      <td>0</td>\n",
       "      <td>3</td>\n",
       "      <td>8</td>\n",
       "      <td>1530</td>\n",
       "      <td>0</td>\n",
       "      <td>2009</td>\n",
       "      <td>0</td>\n",
       "      <td>98103</td>\n",
       "      <td>47.6993</td>\n",
       "      <td>122.346</td>\n",
       "      <td>1530</td>\n",
       "      <td>1509</td>\n",
       "    </tr>\n",
       "    <tr>\n",
       "      <th>21609</th>\n",
       "      <td>400000.0</td>\n",
       "      <td>4</td>\n",
       "      <td>2.50</td>\n",
       "      <td>2310</td>\n",
       "      <td>5813</td>\n",
       "      <td>2.0</td>\n",
       "      <td>0</td>\n",
       "      <td>0</td>\n",
       "      <td>3</td>\n",
       "      <td>8</td>\n",
       "      <td>2310</td>\n",
       "      <td>0</td>\n",
       "      <td>2014</td>\n",
       "      <td>0</td>\n",
       "      <td>98146</td>\n",
       "      <td>47.5107</td>\n",
       "      <td>122.362</td>\n",
       "      <td>1830</td>\n",
       "      <td>7200</td>\n",
       "    </tr>\n",
       "    <tr>\n",
       "      <th>21610</th>\n",
       "      <td>402101.0</td>\n",
       "      <td>2</td>\n",
       "      <td>0.75</td>\n",
       "      <td>1020</td>\n",
       "      <td>1350</td>\n",
       "      <td>2.0</td>\n",
       "      <td>0</td>\n",
       "      <td>0</td>\n",
       "      <td>3</td>\n",
       "      <td>7</td>\n",
       "      <td>1020</td>\n",
       "      <td>0</td>\n",
       "      <td>2009</td>\n",
       "      <td>0</td>\n",
       "      <td>98144</td>\n",
       "      <td>47.5944</td>\n",
       "      <td>122.299</td>\n",
       "      <td>1020</td>\n",
       "      <td>2007</td>\n",
       "    </tr>\n",
       "    <tr>\n",
       "      <th>21611</th>\n",
       "      <td>400000.0</td>\n",
       "      <td>3</td>\n",
       "      <td>2.50</td>\n",
       "      <td>1600</td>\n",
       "      <td>2388</td>\n",
       "      <td>2.0</td>\n",
       "      <td>0</td>\n",
       "      <td>0</td>\n",
       "      <td>3</td>\n",
       "      <td>8</td>\n",
       "      <td>1600</td>\n",
       "      <td>0</td>\n",
       "      <td>2004</td>\n",
       "      <td>0</td>\n",
       "      <td>98027</td>\n",
       "      <td>47.5345</td>\n",
       "      <td>122.069</td>\n",
       "      <td>1410</td>\n",
       "      <td>1287</td>\n",
       "    </tr>\n",
       "    <tr>\n",
       "      <th>21612</th>\n",
       "      <td>325000.0</td>\n",
       "      <td>2</td>\n",
       "      <td>0.75</td>\n",
       "      <td>1020</td>\n",
       "      <td>1076</td>\n",
       "      <td>2.0</td>\n",
       "      <td>0</td>\n",
       "      <td>0</td>\n",
       "      <td>3</td>\n",
       "      <td>7</td>\n",
       "      <td>1020</td>\n",
       "      <td>0</td>\n",
       "      <td>2008</td>\n",
       "      <td>0</td>\n",
       "      <td>98144</td>\n",
       "      <td>47.5941</td>\n",
       "      <td>122.299</td>\n",
       "      <td>1020</td>\n",
       "      <td>1357</td>\n",
       "    </tr>\n",
       "  </tbody>\n",
       "</table>\n",
       "<p>21613 rows × 19 columns</p>\n",
       "</div>"
      ],
      "text/plain": [
       "          price  bedrooms  bathrooms  sqft_living  sqft_lot  floors  \\\n",
       "0      221900.0         3       1.00         1180      5650     1.0   \n",
       "1      538000.0         3       2.25         2570      7242     2.0   \n",
       "2      180000.0         2       1.00          770     10000     1.0   \n",
       "3      604000.0         4       3.00         1960      5000     1.0   \n",
       "4      510000.0         3       2.00         1680      8080     1.0   \n",
       "...         ...       ...        ...          ...       ...     ...   \n",
       "21608  360000.0         3       2.50         1530      1131     3.0   \n",
       "21609  400000.0         4       2.50         2310      5813     2.0   \n",
       "21610  402101.0         2       0.75         1020      1350     2.0   \n",
       "21611  400000.0         3       2.50         1600      2388     2.0   \n",
       "21612  325000.0         2       0.75         1020      1076     2.0   \n",
       "\n",
       "       waterfront  view  condition  grade  sqft_above  sqft_basement  \\\n",
       "0               0     0          3      7        1180              0   \n",
       "1               0     0          3      7        2170            400   \n",
       "2               0     0          3      6         770              0   \n",
       "3               0     0          5      7        1050            910   \n",
       "4               0     0          3      8        1680              0   \n",
       "...           ...   ...        ...    ...         ...            ...   \n",
       "21608           0     0          3      8        1530              0   \n",
       "21609           0     0          3      8        2310              0   \n",
       "21610           0     0          3      7        1020              0   \n",
       "21611           0     0          3      8        1600              0   \n",
       "21612           0     0          3      7        1020              0   \n",
       "\n",
       "       yr_built  yr_renovated  zipcode      lat     long  sqft_living15  \\\n",
       "0          1955             0    98178  47.5112  122.257           1340   \n",
       "1          1951          1991    98125  47.7210  122.319           1690   \n",
       "2          1933             0    98028  47.7379  122.233           2720   \n",
       "3          1965             0    98136  47.5208  122.393           1360   \n",
       "4          1987             0    98074  47.6168  122.045           1800   \n",
       "...         ...           ...      ...      ...      ...            ...   \n",
       "21608      2009             0    98103  47.6993  122.346           1530   \n",
       "21609      2014             0    98146  47.5107  122.362           1830   \n",
       "21610      2009             0    98144  47.5944  122.299           1020   \n",
       "21611      2004             0    98027  47.5345  122.069           1410   \n",
       "21612      2008             0    98144  47.5941  122.299           1020   \n",
       "\n",
       "       sqft_lot15  \n",
       "0            5650  \n",
       "1            7639  \n",
       "2            8062  \n",
       "3            5000  \n",
       "4            7503  \n",
       "...           ...  \n",
       "21608        1509  \n",
       "21609        7200  \n",
       "21610        2007  \n",
       "21611        1287  \n",
       "21612        1357  \n",
       "\n",
       "[21613 rows x 19 columns]"
      ]
     },
     "execution_count": 135,
     "metadata": {},
     "output_type": "execute_result"
    }
   ],
   "source": [
    "data"
   ]
  },
  {
   "cell_type": "code",
   "execution_count": 136,
   "metadata": {
    "colab": {
     "base_uri": "https://localhost:8080/",
     "height": 0
    },
    "id": "i6JQZSHojRYm",
    "outputId": "8ddc31c7-4db0-49d5-cf01-008b40612445"
   },
   "outputs": [
    {
     "data": {
      "text/html": [
       "<div>\n",
       "<style scoped>\n",
       "    .dataframe tbody tr th:only-of-type {\n",
       "        vertical-align: middle;\n",
       "    }\n",
       "\n",
       "    .dataframe tbody tr th {\n",
       "        vertical-align: top;\n",
       "    }\n",
       "\n",
       "    .dataframe thead th {\n",
       "        text-align: right;\n",
       "    }\n",
       "</style>\n",
       "<table border=\"1\" class=\"dataframe\">\n",
       "  <thead>\n",
       "    <tr style=\"text-align: right;\">\n",
       "      <th></th>\n",
       "      <th>bedrooms</th>\n",
       "      <th>bathrooms</th>\n",
       "      <th>sqft_living</th>\n",
       "      <th>sqft_lot</th>\n",
       "      <th>floors</th>\n",
       "      <th>waterfront</th>\n",
       "      <th>view</th>\n",
       "      <th>condition</th>\n",
       "      <th>grade</th>\n",
       "      <th>sqft_above</th>\n",
       "      <th>sqft_basement</th>\n",
       "      <th>yr_built</th>\n",
       "      <th>yr_renovated</th>\n",
       "      <th>zipcode</th>\n",
       "      <th>lat</th>\n",
       "      <th>long</th>\n",
       "      <th>sqft_living15</th>\n",
       "      <th>sqft_lot15</th>\n",
       "    </tr>\n",
       "  </thead>\n",
       "  <tbody>\n",
       "    <tr>\n",
       "      <th>17485</th>\n",
       "      <td>1.609438</td>\n",
       "      <td>1.252763</td>\n",
       "      <td>7.937732</td>\n",
       "      <td>8.827761</td>\n",
       "      <td>1.098612</td>\n",
       "      <td>0.0</td>\n",
       "      <td>0.0</td>\n",
       "      <td>1.609438</td>\n",
       "      <td>2.079442</td>\n",
       "      <td>7.937732</td>\n",
       "      <td>0.000000</td>\n",
       "      <td>7.599902</td>\n",
       "      <td>0.0</td>\n",
       "      <td>11.493161</td>\n",
       "      <td>3.878869</td>\n",
       "      <td>4.813062</td>\n",
       "      <td>7.630947</td>\n",
       "      <td>8.827761</td>\n",
       "    </tr>\n",
       "    <tr>\n",
       "      <th>15164</th>\n",
       "      <td>1.386294</td>\n",
       "      <td>0.693147</td>\n",
       "      <td>7.131699</td>\n",
       "      <td>9.230241</td>\n",
       "      <td>0.693147</td>\n",
       "      <td>0.0</td>\n",
       "      <td>0.0</td>\n",
       "      <td>1.386294</td>\n",
       "      <td>1.945910</td>\n",
       "      <td>7.131699</td>\n",
       "      <td>0.000000</td>\n",
       "      <td>7.583756</td>\n",
       "      <td>0.0</td>\n",
       "      <td>11.494548</td>\n",
       "      <td>3.881362</td>\n",
       "      <td>4.814263</td>\n",
       "      <td>7.496097</td>\n",
       "      <td>9.022081</td>\n",
       "    </tr>\n",
       "    <tr>\n",
       "      <th>18449</th>\n",
       "      <td>1.386294</td>\n",
       "      <td>0.693147</td>\n",
       "      <td>7.340187</td>\n",
       "      <td>8.954286</td>\n",
       "      <td>0.693147</td>\n",
       "      <td>0.0</td>\n",
       "      <td>0.0</td>\n",
       "      <td>1.609438</td>\n",
       "      <td>2.079442</td>\n",
       "      <td>7.340187</td>\n",
       "      <td>0.000000</td>\n",
       "      <td>7.554859</td>\n",
       "      <td>0.0</td>\n",
       "      <td>11.494018</td>\n",
       "      <td>3.882017</td>\n",
       "      <td>4.815228</td>\n",
       "      <td>7.107425</td>\n",
       "      <td>8.954286</td>\n",
       "    </tr>\n",
       "    <tr>\n",
       "      <th>6828</th>\n",
       "      <td>1.609438</td>\n",
       "      <td>0.916291</td>\n",
       "      <td>7.555382</td>\n",
       "      <td>8.517393</td>\n",
       "      <td>0.916291</td>\n",
       "      <td>0.0</td>\n",
       "      <td>0.0</td>\n",
       "      <td>1.386294</td>\n",
       "      <td>2.079442</td>\n",
       "      <td>7.384610</td>\n",
       "      <td>5.707110</td>\n",
       "      <td>7.556428</td>\n",
       "      <td>0.0</td>\n",
       "      <td>11.493804</td>\n",
       "      <td>3.884851</td>\n",
       "      <td>4.814539</td>\n",
       "      <td>7.682943</td>\n",
       "      <td>8.517393</td>\n",
       "    </tr>\n",
       "    <tr>\n",
       "      <th>18281</th>\n",
       "      <td>1.386294</td>\n",
       "      <td>1.252763</td>\n",
       "      <td>8.108021</td>\n",
       "      <td>9.382275</td>\n",
       "      <td>0.693147</td>\n",
       "      <td>0.0</td>\n",
       "      <td>0.0</td>\n",
       "      <td>1.791759</td>\n",
       "      <td>2.397895</td>\n",
       "      <td>8.108021</td>\n",
       "      <td>0.000000</td>\n",
       "      <td>7.590852</td>\n",
       "      <td>0.0</td>\n",
       "      <td>11.493080</td>\n",
       "      <td>3.886114</td>\n",
       "      <td>4.814296</td>\n",
       "      <td>8.224432</td>\n",
       "      <td>9.382275</td>\n",
       "    </tr>\n",
       "    <tr>\n",
       "      <th>...</th>\n",
       "      <td>...</td>\n",
       "      <td>...</td>\n",
       "      <td>...</td>\n",
       "      <td>...</td>\n",
       "      <td>...</td>\n",
       "      <td>...</td>\n",
       "      <td>...</td>\n",
       "      <td>...</td>\n",
       "      <td>...</td>\n",
       "      <td>...</td>\n",
       "      <td>...</td>\n",
       "      <td>...</td>\n",
       "      <td>...</td>\n",
       "      <td>...</td>\n",
       "      <td>...</td>\n",
       "      <td>...</td>\n",
       "      <td>...</td>\n",
       "      <td>...</td>\n",
       "    </tr>\n",
       "    <tr>\n",
       "      <th>12430</th>\n",
       "      <td>1.386294</td>\n",
       "      <td>0.693147</td>\n",
       "      <td>6.758095</td>\n",
       "      <td>8.761080</td>\n",
       "      <td>0.916291</td>\n",
       "      <td>0.0</td>\n",
       "      <td>0.0</td>\n",
       "      <td>1.609438</td>\n",
       "      <td>2.079442</td>\n",
       "      <td>6.758095</td>\n",
       "      <td>0.000000</td>\n",
       "      <td>7.564238</td>\n",
       "      <td>0.0</td>\n",
       "      <td>11.493906</td>\n",
       "      <td>3.885560</td>\n",
       "      <td>4.814742</td>\n",
       "      <td>7.131699</td>\n",
       "      <td>8.761080</td>\n",
       "    </tr>\n",
       "    <tr>\n",
       "      <th>2320</th>\n",
       "      <td>1.386294</td>\n",
       "      <td>1.504077</td>\n",
       "      <td>8.237744</td>\n",
       "      <td>9.023529</td>\n",
       "      <td>1.098612</td>\n",
       "      <td>0.0</td>\n",
       "      <td>0.0</td>\n",
       "      <td>1.386294</td>\n",
       "      <td>2.302585</td>\n",
       "      <td>7.796058</td>\n",
       "      <td>7.208600</td>\n",
       "      <td>7.576610</td>\n",
       "      <td>0.0</td>\n",
       "      <td>11.493875</td>\n",
       "      <td>3.884434</td>\n",
       "      <td>4.814539</td>\n",
       "      <td>8.237744</td>\n",
       "      <td>9.119102</td>\n",
       "    </tr>\n",
       "    <tr>\n",
       "      <th>5419</th>\n",
       "      <td>1.609438</td>\n",
       "      <td>1.252763</td>\n",
       "      <td>7.714677</td>\n",
       "      <td>8.928110</td>\n",
       "      <td>0.693147</td>\n",
       "      <td>0.0</td>\n",
       "      <td>0.0</td>\n",
       "      <td>1.386294</td>\n",
       "      <td>2.197225</td>\n",
       "      <td>7.340187</td>\n",
       "      <td>6.552508</td>\n",
       "      <td>7.582229</td>\n",
       "      <td>0.0</td>\n",
       "      <td>11.493906</td>\n",
       "      <td>3.885607</td>\n",
       "      <td>4.814685</td>\n",
       "      <td>7.581210</td>\n",
       "      <td>8.888895</td>\n",
       "    </tr>\n",
       "    <tr>\n",
       "      <th>9517</th>\n",
       "      <td>1.791759</td>\n",
       "      <td>1.321756</td>\n",
       "      <td>7.844241</td>\n",
       "      <td>8.952347</td>\n",
       "      <td>0.693147</td>\n",
       "      <td>0.0</td>\n",
       "      <td>0.0</td>\n",
       "      <td>1.791759</td>\n",
       "      <td>2.197225</td>\n",
       "      <td>7.237778</td>\n",
       "      <td>7.057037</td>\n",
       "      <td>7.584773</td>\n",
       "      <td>0.0</td>\n",
       "      <td>11.493304</td>\n",
       "      <td>3.882363</td>\n",
       "      <td>4.813574</td>\n",
       "      <td>7.804251</td>\n",
       "      <td>8.952347</td>\n",
       "    </tr>\n",
       "    <tr>\n",
       "      <th>12877</th>\n",
       "      <td>1.609438</td>\n",
       "      <td>1.252763</td>\n",
       "      <td>7.621195</td>\n",
       "      <td>8.614138</td>\n",
       "      <td>1.098612</td>\n",
       "      <td>0.0</td>\n",
       "      <td>0.0</td>\n",
       "      <td>1.609438</td>\n",
       "      <td>2.197225</td>\n",
       "      <td>7.621195</td>\n",
       "      <td>0.000000</td>\n",
       "      <td>7.599401</td>\n",
       "      <td>0.0</td>\n",
       "      <td>11.493029</td>\n",
       "      <td>3.883045</td>\n",
       "      <td>4.812241</td>\n",
       "      <td>7.664347</td>\n",
       "      <td>8.611958</td>\n",
       "    </tr>\n",
       "  </tbody>\n",
       "</table>\n",
       "<p>4323 rows × 18 columns</p>\n",
       "</div>"
      ],
      "text/plain": [
       "       bedrooms  bathrooms  sqft_living  sqft_lot    floors  waterfront  view  \\\n",
       "17485  1.609438   1.252763     7.937732  8.827761  1.098612         0.0   0.0   \n",
       "15164  1.386294   0.693147     7.131699  9.230241  0.693147         0.0   0.0   \n",
       "18449  1.386294   0.693147     7.340187  8.954286  0.693147         0.0   0.0   \n",
       "6828   1.609438   0.916291     7.555382  8.517393  0.916291         0.0   0.0   \n",
       "18281  1.386294   1.252763     8.108021  9.382275  0.693147         0.0   0.0   \n",
       "...         ...        ...          ...       ...       ...         ...   ...   \n",
       "12430  1.386294   0.693147     6.758095  8.761080  0.916291         0.0   0.0   \n",
       "2320   1.386294   1.504077     8.237744  9.023529  1.098612         0.0   0.0   \n",
       "5419   1.609438   1.252763     7.714677  8.928110  0.693147         0.0   0.0   \n",
       "9517   1.791759   1.321756     7.844241  8.952347  0.693147         0.0   0.0   \n",
       "12877  1.609438   1.252763     7.621195  8.614138  1.098612         0.0   0.0   \n",
       "\n",
       "       condition     grade  sqft_above  sqft_basement  yr_built  yr_renovated  \\\n",
       "17485   1.609438  2.079442    7.937732       0.000000  7.599902           0.0   \n",
       "15164   1.386294  1.945910    7.131699       0.000000  7.583756           0.0   \n",
       "18449   1.609438  2.079442    7.340187       0.000000  7.554859           0.0   \n",
       "6828    1.386294  2.079442    7.384610       5.707110  7.556428           0.0   \n",
       "18281   1.791759  2.397895    8.108021       0.000000  7.590852           0.0   \n",
       "...          ...       ...         ...            ...       ...           ...   \n",
       "12430   1.609438  2.079442    6.758095       0.000000  7.564238           0.0   \n",
       "2320    1.386294  2.302585    7.796058       7.208600  7.576610           0.0   \n",
       "5419    1.386294  2.197225    7.340187       6.552508  7.582229           0.0   \n",
       "9517    1.791759  2.197225    7.237778       7.057037  7.584773           0.0   \n",
       "12877   1.609438  2.197225    7.621195       0.000000  7.599401           0.0   \n",
       "\n",
       "         zipcode       lat      long  sqft_living15  sqft_lot15  \n",
       "17485  11.493161  3.878869  4.813062       7.630947    8.827761  \n",
       "15164  11.494548  3.881362  4.814263       7.496097    9.022081  \n",
       "18449  11.494018  3.882017  4.815228       7.107425    8.954286  \n",
       "6828   11.493804  3.884851  4.814539       7.682943    8.517393  \n",
       "18281  11.493080  3.886114  4.814296       8.224432    9.382275  \n",
       "...          ...       ...       ...            ...         ...  \n",
       "12430  11.493906  3.885560  4.814742       7.131699    8.761080  \n",
       "2320   11.493875  3.884434  4.814539       8.237744    9.119102  \n",
       "5419   11.493906  3.885607  4.814685       7.581210    8.888895  \n",
       "9517   11.493304  3.882363  4.813574       7.804251    8.952347  \n",
       "12877  11.493029  3.883045  4.812241       7.664347    8.611958  \n",
       "\n",
       "[4323 rows x 18 columns]"
      ]
     },
     "execution_count": 136,
     "metadata": {},
     "output_type": "execute_result"
    }
   ],
   "source": [
    "X_test_log"
   ]
  },
  {
   "cell_type": "code",
   "execution_count": 137,
   "metadata": {
    "colab": {
     "base_uri": "https://localhost:8080/"
    },
    "id": "BRBB_0LRjSKs",
    "outputId": "564eff2b-e236-4e12-be6f-fd1a32218d76"
   },
   "outputs": [
    {
     "data": {
      "text/plain": [
       "array([[0.45640198, 0.570157  , 0.55869848, ..., 0.65973789, 0.57582979,\n",
       "        0.32618126],\n",
       "       [0.39312326, 0.31546488, 0.33296173, ..., 0.78239607, 0.52397825,\n",
       "        0.35317919],\n",
       "       [0.39312326, 0.31546488, 0.39135073, ..., 0.8809131 , 0.3745281 ,\n",
       "        0.34376004],\n",
       "       ...,\n",
       "       [0.45640198, 0.570157  , 0.49623015, ..., 0.82545722, 0.55670527,\n",
       "        0.33467484],\n",
       "       [0.50810445, 0.60155701, 0.53251549, ..., 0.71196851, 0.64246808,\n",
       "        0.34349056],\n",
       "       [0.45640198, 0.570157  , 0.4700496 , ..., 0.57594729, 0.58867261,\n",
       "        0.29619847]])"
      ]
     },
     "execution_count": 137,
     "metadata": {},
     "output_type": "execute_result"
    }
   ],
   "source": [
    "X_test_log_norm"
   ]
  }
 ],
 "metadata": {
  "colab": {
   "collapsed_sections": [
    "JqiKQdJ0sZhc",
    "YNMQtKDosZhv",
    "yZmU8IcNsZhw",
    "GOWnQX_JsZhy",
    "wvSIO-w8sZh1",
    "wUpIRikqsZh2",
    "Pk1wIWBasZh2",
    "Hvog50jjsZh2",
    "kJ1SW-dIsZh3",
    "mERru-QMsZh3",
    "DxhtS4hmsZh4",
    "HeCDIAgGsZh5",
    "Mi26qznGsZh5",
    "o6LKRi61sZh6",
    "nBlW79oysZh6",
    "6qCoBdMysZh7",
    "IEgelXGosZh8",
    "Tr_W_yeVsZh9",
    "kOCoyy69sZh9",
    "tx5g3WamsZh9",
    "ReTiwa9ysZh-",
    "rsorArQ7sZh_",
    "qh_2-tx9sZh_",
    "HL8jE5uZsZiA",
    "PXPh8Ao8sZiA",
    "E-ITmyJRsZiB",
    "wT0-ryIbsZiC",
    "b1qG6K8SsZiC",
    "WXxlq7iqsZiD",
    "pnHJY_zDsZiD",
    "gIAQ4EggsZiE",
    "z5M4ieSisZiF",
    "OkFVlSmYsZiG",
    "QJ0932vFsZiU",
    "Ck9bQQTxsZiY",
    "WoEsv7ULsZiZ"
   ],
   "history_visible": true,
   "name": "son_bitti.ipynb",
   "provenance": [],
   "toc_visible": true
  },
  "kernelspec": {
   "display_name": "Python 3 (ipykernel)",
   "language": "python",
   "name": "python3"
  },
  "language_info": {
   "codemirror_mode": {
    "name": "ipython",
    "version": 3
   },
   "file_extension": ".py",
   "mimetype": "text/x-python",
   "name": "python",
   "nbconvert_exporter": "python",
   "pygments_lexer": "ipython3",
   "version": "3.9.7"
  }
 },
 "nbformat": 4,
 "nbformat_minor": 1
}
